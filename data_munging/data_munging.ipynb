{
 "cells": [
  {
   "cell_type": "markdown",
   "metadata": {},
   "source": [
    "## Data Transformation\n",
    "Transformation of the data to remove outliers in the continous category columns\n",
    "### Outlier columns \n",
    "The data is first visualized to ascertain the location of most outlier values. \n",
    "Four columns with outliers are selected for the transformation : elpsdm, n24, rev24 and revlast. \n",
    "### Transformation Strategy\n",
    "The strategy is to eliminate values that lie outside the three quartiles for each column. A multiplication factor of 1.5 is used together with the interquartile range to delete values were considered to be outliers. \n",
    "A second visualization shows a reduction of outliers. The data is then exported to a new file. "
   ]
  },
  {
   "cell_type": "code",
   "execution_count": 1,
   "metadata": {},
   "outputs": [],
   "source": [
    "import pandas as pd \n",
    "\n",
    "import numpy as np \n",
    "\n",
    "import seaborn as sns\n",
    "import plotly.express as px\n",
    "\n",
    "import matplotlib\n",
    "import matplotlib.pyplot as plt "
   ]
  },
  {
   "cell_type": "code",
   "execution_count": 2,
   "metadata": {},
   "outputs": [],
   "source": [
    "sns.set_style('darkgrid')\n",
    "matplotlib.rcParams['font.size'] = 14\n",
    "matplotlib.rcParams['figure.figsize'] = (10, 6)\n",
    "matplotlib.rcParams['figure.facecolor'] = '#000000'"
   ]
  },
  {
   "cell_type": "code",
   "execution_count": 3,
   "metadata": {},
   "outputs": [],
   "source": [
    "df = pd.read_csv('../datasets/dmtrain.csv')"
   ]
  },
  {
   "cell_type": "code",
   "execution_count": 4,
   "metadata": {},
   "outputs": [
    {
     "data": {
      "application/vnd.microsoft.datawrangler.viewer.v0+json": {
       "columns": [
        {
         "name": "index",
         "rawType": "int64",
         "type": "integer"
        },
        {
         "name": "id",
         "rawType": "int64",
         "type": "integer"
        },
        {
         "name": "n24",
         "rawType": "int64",
         "type": "integer"
        },
        {
         "name": "rev24",
         "rawType": "float64",
         "type": "float"
        },
        {
         "name": "revlast",
         "rawType": "float64",
         "type": "float"
        },
        {
         "name": "elpsdm",
         "rawType": "int64",
         "type": "integer"
        },
        {
         "name": "ordfreq",
         "rawType": "int64",
         "type": "integer"
        },
        {
         "name": "ordcat",
         "rawType": "int64",
         "type": "integer"
        },
        {
         "name": "response",
         "rawType": "int64",
         "type": "integer"
        }
       ],
       "ref": "51cd25e2-8d78-462b-8465-4917fdce23c9",
       "rows": [
        [
         "0",
         "1",
         "2",
         "30.0",
         "20.0",
         "24",
         "1",
         "6",
         "1"
        ],
        [
         "1",
         "2",
         "25",
         "207.0",
         "20.0",
         "24",
         "1",
         "6",
         "0"
        ],
        [
         "2",
         "3",
         "5",
         "52.0",
         "15.0",
         "24",
         "1",
         "6",
         "0"
        ],
        [
         "3",
         "4",
         "11",
         "105.0",
         "15.0",
         "24",
         "1",
         "6",
         "0"
        ],
        [
         "4",
         "5",
         "2",
         "32.0",
         "17.0",
         "24",
         "1",
         "6",
         "0"
        ]
       ],
       "shape": {
        "columns": 8,
        "rows": 5
       }
      },
      "text/html": [
       "<div>\n",
       "<style scoped>\n",
       "    .dataframe tbody tr th:only-of-type {\n",
       "        vertical-align: middle;\n",
       "    }\n",
       "\n",
       "    .dataframe tbody tr th {\n",
       "        vertical-align: top;\n",
       "    }\n",
       "\n",
       "    .dataframe thead th {\n",
       "        text-align: right;\n",
       "    }\n",
       "</style>\n",
       "<table border=\"1\" class=\"dataframe\">\n",
       "  <thead>\n",
       "    <tr style=\"text-align: right;\">\n",
       "      <th></th>\n",
       "      <th>id</th>\n",
       "      <th>n24</th>\n",
       "      <th>rev24</th>\n",
       "      <th>revlast</th>\n",
       "      <th>elpsdm</th>\n",
       "      <th>ordfreq</th>\n",
       "      <th>ordcat</th>\n",
       "      <th>response</th>\n",
       "    </tr>\n",
       "  </thead>\n",
       "  <tbody>\n",
       "    <tr>\n",
       "      <th>0</th>\n",
       "      <td>1</td>\n",
       "      <td>2</td>\n",
       "      <td>30.0</td>\n",
       "      <td>20.0</td>\n",
       "      <td>24</td>\n",
       "      <td>1</td>\n",
       "      <td>6</td>\n",
       "      <td>1</td>\n",
       "    </tr>\n",
       "    <tr>\n",
       "      <th>1</th>\n",
       "      <td>2</td>\n",
       "      <td>25</td>\n",
       "      <td>207.0</td>\n",
       "      <td>20.0</td>\n",
       "      <td>24</td>\n",
       "      <td>1</td>\n",
       "      <td>6</td>\n",
       "      <td>0</td>\n",
       "    </tr>\n",
       "    <tr>\n",
       "      <th>2</th>\n",
       "      <td>3</td>\n",
       "      <td>5</td>\n",
       "      <td>52.0</td>\n",
       "      <td>15.0</td>\n",
       "      <td>24</td>\n",
       "      <td>1</td>\n",
       "      <td>6</td>\n",
       "      <td>0</td>\n",
       "    </tr>\n",
       "    <tr>\n",
       "      <th>3</th>\n",
       "      <td>4</td>\n",
       "      <td>11</td>\n",
       "      <td>105.0</td>\n",
       "      <td>15.0</td>\n",
       "      <td>24</td>\n",
       "      <td>1</td>\n",
       "      <td>6</td>\n",
       "      <td>0</td>\n",
       "    </tr>\n",
       "    <tr>\n",
       "      <th>4</th>\n",
       "      <td>5</td>\n",
       "      <td>2</td>\n",
       "      <td>32.0</td>\n",
       "      <td>17.0</td>\n",
       "      <td>24</td>\n",
       "      <td>1</td>\n",
       "      <td>6</td>\n",
       "      <td>0</td>\n",
       "    </tr>\n",
       "  </tbody>\n",
       "</table>\n",
       "</div>"
      ],
      "text/plain": [
       "   id  n24  rev24  revlast  elpsdm  ordfreq  ordcat  response\n",
       "0   1    2   30.0     20.0      24        1       6         1\n",
       "1   2   25  207.0     20.0      24        1       6         0\n",
       "2   3    5   52.0     15.0      24        1       6         0\n",
       "3   4   11  105.0     15.0      24        1       6         0\n",
       "4   5    2   32.0     17.0      24        1       6         0"
      ]
     },
     "execution_count": 4,
     "metadata": {},
     "output_type": "execute_result"
    }
   ],
   "source": [
    "df.head()"
   ]
  },
  {
   "cell_type": "code",
   "execution_count": 7,
   "metadata": {},
   "outputs": [
    {
     "data": {
      "text/plain": [
       "Index(['id', 'n24', 'rev24', 'revlast', 'elpsdm', 'ordfreq', 'ordcat',\n",
       "       'response'],\n",
       "      dtype='object')"
      ]
     },
     "execution_count": 7,
     "metadata": {},
     "output_type": "execute_result"
    }
   ],
   "source": [
    "df.columns"
   ]
  },
  {
   "cell_type": "code",
   "execution_count": 5,
   "metadata": {},
   "outputs": [
    {
     "name": "stdout",
     "output_type": "stream",
     "text": [
      "<class 'pandas.core.frame.DataFrame'>\n",
      "RangeIndex: 2000 entries, 0 to 1999\n",
      "Data columns (total 8 columns):\n",
      " #   Column    Non-Null Count  Dtype  \n",
      "---  ------    --------------  -----  \n",
      " 0   id        2000 non-null   int64  \n",
      " 1   n24       2000 non-null   int64  \n",
      " 2   rev24     2000 non-null   float64\n",
      " 3   revlast   2000 non-null   float64\n",
      " 4   elpsdm    2000 non-null   int64  \n",
      " 5   ordfreq   2000 non-null   int64  \n",
      " 6   ordcat    2000 non-null   int64  \n",
      " 7   response  2000 non-null   int64  \n",
      "dtypes: float64(2), int64(6)\n",
      "memory usage: 125.1 KB\n"
     ]
    }
   ],
   "source": [
    "df.info()"
   ]
  },
  {
   "cell_type": "code",
   "execution_count": 6,
   "metadata": {},
   "outputs": [
    {
     "data": {
      "application/vnd.microsoft.datawrangler.viewer.v0+json": {
       "columns": [
        {
         "name": "index",
         "rawType": "object",
         "type": "string"
        },
        {
         "name": "count",
         "rawType": "float64",
         "type": "float"
        },
        {
         "name": "mean",
         "rawType": "float64",
         "type": "float"
        },
        {
         "name": "std",
         "rawType": "float64",
         "type": "float"
        },
        {
         "name": "min",
         "rawType": "float64",
         "type": "float"
        },
        {
         "name": "25%",
         "rawType": "float64",
         "type": "float"
        },
        {
         "name": "50%",
         "rawType": "float64",
         "type": "float"
        },
        {
         "name": "75%",
         "rawType": "float64",
         "type": "float"
        },
        {
         "name": "max",
         "rawType": "float64",
         "type": "float"
        }
       ],
       "ref": "1cf9422a-f380-4a58-bf1d-5a38f1b84442",
       "rows": [
        [
         "id",
         "2000.0",
         "1000.5",
         "577.4945887192364",
         "1.0",
         "500.75",
         "1000.5",
         "1500.25",
         "2000.0"
        ],
        [
         "n24",
         "2000.0",
         "10.2855",
         "8.81407021000136",
         "1.0",
         "4.0",
         "8.0",
         "14.0",
         "82.0"
        ],
        [
         "rev24",
         "2000.0",
         "107.83089499999998",
         "126.75141722613358",
         "15.0",
         "43.0",
         "80.95",
         "131.8125",
         "2200.0"
        ],
        [
         "revlast",
         "2000.0",
         "16.863474999999998",
         "16.623264680522126",
         "0.0",
         "10.0",
         "15.0",
         "20.0",
         "415.0"
        ],
        [
         "elpsdm",
         "2000.0",
         "15.111",
         "4.150938947644682",
         "1.0",
         "13.0",
         "15.0",
         "17.0",
         "24.0"
        ],
        [
         "ordfreq",
         "2000.0",
         "2.024",
         "1.1086200969040882",
         "1.0",
         "1.0",
         "2.0",
         "3.0",
         "4.0"
        ],
        [
         "ordcat",
         "2000.0",
         "5.727",
         "0.8693957237427793",
         "4.0",
         "5.0",
         "6.0",
         "6.0",
         "7.0"
        ],
        [
         "response",
         "2000.0",
         "0.292",
         "0.45479601989227536",
         "0.0",
         "0.0",
         "0.0",
         "1.0",
         "1.0"
        ]
       ],
       "shape": {
        "columns": 8,
        "rows": 8
       }
      },
      "text/html": [
       "<div>\n",
       "<style scoped>\n",
       "    .dataframe tbody tr th:only-of-type {\n",
       "        vertical-align: middle;\n",
       "    }\n",
       "\n",
       "    .dataframe tbody tr th {\n",
       "        vertical-align: top;\n",
       "    }\n",
       "\n",
       "    .dataframe thead th {\n",
       "        text-align: right;\n",
       "    }\n",
       "</style>\n",
       "<table border=\"1\" class=\"dataframe\">\n",
       "  <thead>\n",
       "    <tr style=\"text-align: right;\">\n",
       "      <th></th>\n",
       "      <th>count</th>\n",
       "      <th>mean</th>\n",
       "      <th>std</th>\n",
       "      <th>min</th>\n",
       "      <th>25%</th>\n",
       "      <th>50%</th>\n",
       "      <th>75%</th>\n",
       "      <th>max</th>\n",
       "    </tr>\n",
       "  </thead>\n",
       "  <tbody>\n",
       "    <tr>\n",
       "      <th>id</th>\n",
       "      <td>2000.0</td>\n",
       "      <td>1000.500000</td>\n",
       "      <td>577.494589</td>\n",
       "      <td>1.0</td>\n",
       "      <td>500.75</td>\n",
       "      <td>1000.50</td>\n",
       "      <td>1500.2500</td>\n",
       "      <td>2000.0</td>\n",
       "    </tr>\n",
       "    <tr>\n",
       "      <th>n24</th>\n",
       "      <td>2000.0</td>\n",
       "      <td>10.285500</td>\n",
       "      <td>8.814070</td>\n",
       "      <td>1.0</td>\n",
       "      <td>4.00</td>\n",
       "      <td>8.00</td>\n",
       "      <td>14.0000</td>\n",
       "      <td>82.0</td>\n",
       "    </tr>\n",
       "    <tr>\n",
       "      <th>rev24</th>\n",
       "      <td>2000.0</td>\n",
       "      <td>107.830895</td>\n",
       "      <td>126.751417</td>\n",
       "      <td>15.0</td>\n",
       "      <td>43.00</td>\n",
       "      <td>80.95</td>\n",
       "      <td>131.8125</td>\n",
       "      <td>2200.0</td>\n",
       "    </tr>\n",
       "    <tr>\n",
       "      <th>revlast</th>\n",
       "      <td>2000.0</td>\n",
       "      <td>16.863475</td>\n",
       "      <td>16.623265</td>\n",
       "      <td>0.0</td>\n",
       "      <td>10.00</td>\n",
       "      <td>15.00</td>\n",
       "      <td>20.0000</td>\n",
       "      <td>415.0</td>\n",
       "    </tr>\n",
       "    <tr>\n",
       "      <th>elpsdm</th>\n",
       "      <td>2000.0</td>\n",
       "      <td>15.111000</td>\n",
       "      <td>4.150939</td>\n",
       "      <td>1.0</td>\n",
       "      <td>13.00</td>\n",
       "      <td>15.00</td>\n",
       "      <td>17.0000</td>\n",
       "      <td>24.0</td>\n",
       "    </tr>\n",
       "    <tr>\n",
       "      <th>ordfreq</th>\n",
       "      <td>2000.0</td>\n",
       "      <td>2.024000</td>\n",
       "      <td>1.108620</td>\n",
       "      <td>1.0</td>\n",
       "      <td>1.00</td>\n",
       "      <td>2.00</td>\n",
       "      <td>3.0000</td>\n",
       "      <td>4.0</td>\n",
       "    </tr>\n",
       "    <tr>\n",
       "      <th>ordcat</th>\n",
       "      <td>2000.0</td>\n",
       "      <td>5.727000</td>\n",
       "      <td>0.869396</td>\n",
       "      <td>4.0</td>\n",
       "      <td>5.00</td>\n",
       "      <td>6.00</td>\n",
       "      <td>6.0000</td>\n",
       "      <td>7.0</td>\n",
       "    </tr>\n",
       "    <tr>\n",
       "      <th>response</th>\n",
       "      <td>2000.0</td>\n",
       "      <td>0.292000</td>\n",
       "      <td>0.454796</td>\n",
       "      <td>0.0</td>\n",
       "      <td>0.00</td>\n",
       "      <td>0.00</td>\n",
       "      <td>1.0000</td>\n",
       "      <td>1.0</td>\n",
       "    </tr>\n",
       "  </tbody>\n",
       "</table>\n",
       "</div>"
      ],
      "text/plain": [
       "           count         mean         std   min     25%      50%        75%  \\\n",
       "id        2000.0  1000.500000  577.494589   1.0  500.75  1000.50  1500.2500   \n",
       "n24       2000.0    10.285500    8.814070   1.0    4.00     8.00    14.0000   \n",
       "rev24     2000.0   107.830895  126.751417  15.0   43.00    80.95   131.8125   \n",
       "revlast   2000.0    16.863475   16.623265   0.0   10.00    15.00    20.0000   \n",
       "elpsdm    2000.0    15.111000    4.150939   1.0   13.00    15.00    17.0000   \n",
       "ordfreq   2000.0     2.024000    1.108620   1.0    1.00     2.00     3.0000   \n",
       "ordcat    2000.0     5.727000    0.869396   4.0    5.00     6.00     6.0000   \n",
       "response  2000.0     0.292000    0.454796   0.0    0.00     0.00     1.0000   \n",
       "\n",
       "             max  \n",
       "id        2000.0  \n",
       "n24         82.0  \n",
       "rev24     2200.0  \n",
       "revlast    415.0  \n",
       "elpsdm      24.0  \n",
       "ordfreq      4.0  \n",
       "ordcat       7.0  \n",
       "response     1.0  "
      ]
     },
     "execution_count": 6,
     "metadata": {},
     "output_type": "execute_result"
    }
   ],
   "source": [
    "df.describe().T"
   ]
  },
  {
   "cell_type": "code",
   "execution_count": 10,
   "metadata": {},
   "outputs": [
    {
     "data": {
      "text/plain": [
       "Index(['id', 'n24', 'rev24', 'revlast', 'elpsdm', 'ordfreq', 'ordcat',\n",
       "       'response'],\n",
       "      dtype='object')"
      ]
     },
     "execution_count": 10,
     "metadata": {},
     "output_type": "execute_result"
    }
   ],
   "source": [
    "df.columns"
   ]
  },
  {
   "cell_type": "code",
   "execution_count": 7,
   "metadata": {},
   "outputs": [],
   "source": [
    "pair_cols = ['n24', 'rev24', 'revlast', 'elpsdm', 'ordfreq', 'ordcat']"
   ]
  },
  {
   "cell_type": "code",
   "execution_count": 8,
   "metadata": {},
   "outputs": [
    {
     "data": {
      "text/plain": [
       "<seaborn.axisgrid.PairGrid at 0x1bfae519d30>"
      ]
     },
     "execution_count": 8,
     "metadata": {},
     "output_type": "execute_result"
    },
    {
     "data": {
      "image/png": "[encoded data removed]",
      "text/plain": [
       "<Figure size 1500x1500 with 42 Axes>"
      ]
     },
     "metadata": {},
     "output_type": "display_data"
    }
   ],
   "source": [
    "sns.pairplot(df[pair_cols], plot_kws={'alpha':0.6}, diag_kws={'bins':30})"
   ]
  },
  {
   "cell_type": "code",
   "execution_count": 9,
   "metadata": {},
   "outputs": [
    {
     "data": {
      "application/vnd.plotly.v1+json": {
       "config": {
        "plotlyServerURL": "https://plot.ly"
       },
       "data": [
        {
         "bingroup": "x",
         "hovertemplate": "n24=%{x}<br>count=%{y}<extra></extra>",
         "legendgroup": "",
         "marker": {
          "color": "#636efa",
          "pattern": {
           "shape": ""
          }
         },
         "name": "",
         "nbinsx": 47,
         "orientation": "v",
         "showlegend": false,
         "type": "histogram",
         "x": {
          "bdata": "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",
          "dtype": "i1"
         },
         "xaxis": "x",
         "yaxis": "y"
        },
        {
         "hovertemplate": "n24=%{x}<extra></extra>",
         "legendgroup": "",
         "marker": {
          "color": "#636efa"
         },
         "name": "",
         "notched": true,
         "showlegend": false,
         "type": "box",
         "x": {
          "bdata": "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",
          "dtype": "i1"
         },
         "xaxis": "x2",
         "yaxis": "y2"
        }
       ],
       "layout": {
        "bargap": 0.1,
        "barmode": "relative",
        "legend": {
         "tracegroupgap": 0
        },
        "template": {
         "data": {
          "bar": [
           {
            "error_x": {
             "color": "#2a3f5f"
            },
            "error_y": {
             "color": "#2a3f5f"
            },
            "marker": {
             "line": {
              "color": "#E5ECF6",
              "width": 0.5
             },
             "pattern": {
              "fillmode": "overlay",
              "size": 10,
              "solidity": 0.2
             }
            },
            "type": "bar"
           }
          ],
          "barpolar": [
           {
            "marker": {
             "line": {
              "color": "#E5ECF6",
              "width": 0.5
             },
             "pattern": {
              "fillmode": "overlay",
              "size": 10,
              "solidity": 0.2
             }
            },
            "type": "barpolar"
           }
          ],
          "carpet": [
           {
            "aaxis": {
             "endlinecolor": "#2a3f5f",
             "gridcolor": "white",
             "linecolor": "white",
             "minorgridcolor": "white",
             "startlinecolor": "#2a3f5f"
            },
            "baxis": {
             "endlinecolor": "#2a3f5f",
             "gridcolor": "white",
             "linecolor": "white",
             "minorgridcolor": "white",
             "startlinecolor": "#2a3f5f"
            },
            "type": "carpet"
           }
          ],
          "choropleth": [
           {
            "colorbar": {
             "outlinewidth": 0,
             "ticks": ""
            },
            "type": "choropleth"
           }
          ],
          "contour": [
           {
            "colorbar": {
             "outlinewidth": 0,
             "ticks": ""
            },
            "colorscale": [
             [
              0,
              "#0d0887"
             ],
             [
              0.1111111111111111,
              "#46039f"
             ],
             [
              0.2222222222222222,
              "#7201a8"
             ],
             [
              0.3333333333333333,
              "#9c179e"
             ],
             [
              0.4444444444444444,
              "#bd3786"
             ],
             [
              0.5555555555555556,
              "#d8576b"
             ],
             [
              0.6666666666666666,
              "#ed7953"
             ],
             [
              0.7777777777777778,
              "#fb9f3a"
             ],
             [
              0.8888888888888888,
              "#fdca26"
             ],
             [
              1,
              "#f0f921"
             ]
            ],
            "type": "contour"
           }
          ],
          "contourcarpet": [
           {
            "colorbar": {
             "outlinewidth": 0,
             "ticks": ""
            },
            "type": "contourcarpet"
           }
          ],
          "heatmap": [
           {
            "colorbar": {
             "outlinewidth": 0,
             "ticks": ""
            },
            "colorscale": [
             [
              0,
              "#0d0887"
             ],
             [
              0.1111111111111111,
              "#46039f"
             ],
             [
              0.2222222222222222,
              "#7201a8"
             ],
             [
              0.3333333333333333,
              "#9c179e"
             ],
             [
              0.4444444444444444,
              "#bd3786"
             ],
             [
              0.5555555555555556,
              "#d8576b"
             ],
             [
              0.6666666666666666,
              "#ed7953"
             ],
             [
              0.7777777777777778,
              "#fb9f3a"
             ],
             [
              0.8888888888888888,
              "#fdca26"
             ],
             [
              1,
              "#f0f921"
             ]
            ],
            "type": "heatmap"
           }
          ],
          "histogram": [
           {
            "marker": {
             "pattern": {
              "fillmode": "overlay",
              "size": 10,
              "solidity": 0.2
             }
            },
            "type": "histogram"
           }
          ],
          "histogram2d": [
           {
            "colorbar": {
             "outlinewidth": 0,
             "ticks": ""
            },
            "colorscale": [
             [
              0,
              "#0d0887"
             ],
             [
              0.1111111111111111,
              "#46039f"
             ],
             [
              0.2222222222222222,
              "#7201a8"
             ],
             [
              0.3333333333333333,
              "#9c179e"
             ],
             [
              0.4444444444444444,
              "#bd3786"
             ],
             [
              0.5555555555555556,
              "#d8576b"
             ],
             [
              0.6666666666666666,
              "#ed7953"
             ],
             [
              0.7777777777777778,
              "#fb9f3a"
             ],
             [
              0.8888888888888888,
              "#fdca26"
             ],
             [
              1,
              "#f0f921"
             ]
            ],
            "type": "histogram2d"
           }
          ],
          "histogram2dcontour": [
           {
            "colorbar": {
             "outlinewidth": 0,
             "ticks": ""
            },
            "colorscale": [
             [
              0,
              "#0d0887"
             ],
             [
              0.1111111111111111,
              "#46039f"
             ],
             [
              0.2222222222222222,
              "#7201a8"
             ],
             [
              0.3333333333333333,
              "#9c179e"
             ],
             [
              0.4444444444444444,
              "#bd3786"
             ],
             [
              0.5555555555555556,
              "#d8576b"
             ],
             [
              0.6666666666666666,
              "#ed7953"
             ],
             [
              0.7777777777777778,
              "#fb9f3a"
             ],
             [
              0.8888888888888888,
              "#fdca26"
             ],
             [
              1,
              "#f0f921"
             ]
            ],
            "type": "histogram2dcontour"
           }
          ],
          "mesh3d": [
           {
            "colorbar": {
             "outlinewidth": 0,
             "ticks": ""
            },
            "type": "mesh3d"
           }
          ],
          "parcoords": [
           {
            "line": {
             "colorbar": {
              "outlinewidth": 0,
              "ticks": ""
             }
            },
            "type": "parcoords"
           }
          ],
          "pie": [
           {
            "automargin": true,
            "type": "pie"
           }
          ],
          "scatter": [
           {
            "fillpattern": {
             "fillmode": "overlay",
             "size": 10,
             "solidity": 0.2
            },
            "type": "scatter"
           }
          ],
          "scatter3d": [
           {
            "line": {
             "colorbar": {
              "outlinewidth": 0,
              "ticks": ""
             }
            },
            "marker": {
             "colorbar": {
              "outlinewidth": 0,
              "ticks": ""
             }
            },
            "type": "scatter3d"
           }
          ],
          "scattercarpet": [
           {
            "marker": {
             "colorbar": {
              "outlinewidth": 0,
              "ticks": ""
             }
            },
            "type": "scattercarpet"
           }
          ],
          "scattergeo": [
           {
            "marker": {
             "colorbar": {
              "outlinewidth": 0,
              "ticks": ""
             }
            },
            "type": "scattergeo"
           }
          ],
          "scattergl": [
           {
            "marker": {
             "colorbar": {
              "outlinewidth": 0,
              "ticks": ""
             }
            },
            "type": "scattergl"
           }
          ],
          "scattermap": [
           {
            "marker": {
             "colorbar": {
              "outlinewidth": 0,
              "ticks": ""
             }
            },
            "type": "scattermap"
           }
          ],
          "scattermapbox": [
           {
            "marker": {
             "colorbar": {
              "outlinewidth": 0,
              "ticks": ""
             }
            },
            "type": "scattermapbox"
           }
          ],
          "scatterpolar": [
           {
            "marker": {
             "colorbar": {
              "outlinewidth": 0,
              "ticks": ""
             }
            },
            "type": "scatterpolar"
           }
          ],
          "scatterpolargl": [
           {
            "marker": {
             "colorbar": {
              "outlinewidth": 0,
              "ticks": ""
             }
            },
            "type": "scatterpolargl"
           }
          ],
          "scatterternary": [
           {
            "marker": {
             "colorbar": {
              "outlinewidth": 0,
              "ticks": ""
             }
            },
            "type": "scatterternary"
           }
          ],
          "surface": [
           {
            "colorbar": {
             "outlinewidth": 0,
             "ticks": ""
            },
            "colorscale": [
             [
              0,
              "#0d0887"
             ],
             [
              0.1111111111111111,
              "#46039f"
             ],
             [
              0.2222222222222222,
              "#7201a8"
             ],
             [
              0.3333333333333333,
              "#9c179e"
             ],
             [
              0.4444444444444444,
              "#bd3786"
             ],
             [
              0.5555555555555556,
              "#d8576b"
             ],
             [
              0.6666666666666666,
              "#ed7953"
             ],
             [
              0.7777777777777778,
              "#fb9f3a"
             ],
             [
              0.8888888888888888,
              "#fdca26"
             ],
             [
              1,
              "#f0f921"
             ]
            ],
            "type": "surface"
           }
          ],
          "table": [
           {
            "cells": {
             "fill": {
              "color": "#EBF0F8"
             },
             "line": {
              "color": "white"
             }
            },
            "header": {
             "fill": {
              "color": "#C8D4E3"
             },
             "line": {
              "color": "white"
             }
            },
            "type": "table"
           }
          ]
         },
         "layout": {
          "annotationdefaults": {
           "arrowcolor": "#2a3f5f",
           "arrowhead": 0,
           "arrowwidth": 1
          },
          "autotypenumbers": "strict",
          "coloraxis": {
           "colorbar": {
            "outlinewidth": 0,
            "ticks": ""
           }
          },
          "colorscale": {
           "diverging": [
            [
             0,
             "#8e0152"
            ],
            [
             0.1,
             "#c51b7d"
            ],
            [
             0.2,
             "#de77ae"
            ],
            [
             0.3,
             "#f1b6da"
            ],
            [
             0.4,
             "#fde0ef"
            ],
            [
             0.5,
             "#f7f7f7"
            ],
            [
             0.6,
             "#e6f5d0"
            ],
            [
             0.7,
             "#b8e186"
            ],
            [
             0.8,
             "#7fbc41"
            ],
            [
             0.9,
             "#4d9221"
            ],
            [
             1,
             "#276419"
            ]
           ],
           "sequential": [
            [
             0,
             "#0d0887"
            ],
            [
             0.1111111111111111,
             "#46039f"
            ],
            [
             0.2222222222222222,
             "#7201a8"
            ],
            [
             0.3333333333333333,
             "#9c179e"
            ],
            [
             0.4444444444444444,
             "#bd3786"
            ],
            [
             0.5555555555555556,
             "#d8576b"
            ],
            [
             0.6666666666666666,
             "#ed7953"
            ],
            [
             0.7777777777777778,
             "#fb9f3a"
            ],
            [
             0.8888888888888888,
             "#fdca26"
            ],
            [
             1,
             "#f0f921"
            ]
           ],
           "sequentialminus": [
            [
             0,
             "#0d0887"
            ],
            [
             0.1111111111111111,
             "#46039f"
            ],
            [
             0.2222222222222222,
             "#7201a8"
            ],
            [
             0.3333333333333333,
             "#9c179e"
            ],
            [
             0.4444444444444444,
             "#bd3786"
            ],
            [
             0.5555555555555556,
             "#d8576b"
            ],
            [
             0.6666666666666666,
             "#ed7953"
            ],
            [
             0.7777777777777778,
             "#fb9f3a"
            ],
            [
             0.8888888888888888,
             "#fdca26"
            ],
            [
             1,
             "#f0f921"
            ]
           ]
          },
          "colorway": [
           "#636efa",
           "#EF553B",
           "#00cc96",
           "#ab63fa",
           "#FFA15A",
           "#19d3f3",
           "#FF6692",
           "#B6E880",
           "#FF97FF",
           "#FECB52"
          ],
          "font": {
           "color": "#2a3f5f"
          },
          "geo": {
           "bgcolor": "white",
           "lakecolor": "white",
           "landcolor": "#E5ECF6",
           "showlakes": true,
           "showland": true,
           "subunitcolor": "white"
          },
          "hoverlabel": {
           "align": "left"
          },
          "hovermode": "closest",
          "mapbox": {
           "style": "light"
          },
          "paper_bgcolor": "white",
          "plot_bgcolor": "#E5ECF6",
          "polar": {
           "angularaxis": {
            "gridcolor": "white",
            "linecolor": "white",
            "ticks": ""
           },
           "bgcolor": "#E5ECF6",
           "radialaxis": {
            "gridcolor": "white",
            "linecolor": "white",
            "ticks": ""
           }
          },
          "scene": {
           "xaxis": {
            "backgroundcolor": "#E5ECF6",
            "gridcolor": "white",
            "gridwidth": 2,
            "linecolor": "white",
            "showbackground": true,
            "ticks": "",
            "zerolinecolor": "white"
           },
           "yaxis": {
            "backgroundcolor": "#E5ECF6",
            "gridcolor": "white",
            "gridwidth": 2,
            "linecolor": "white",
            "showbackground": true,
            "ticks": "",
            "zerolinecolor": "white"
           },
           "zaxis": {
            "backgroundcolor": "#E5ECF6",
            "gridcolor": "white",
            "gridwidth": 2,
            "linecolor": "white",
            "showbackground": true,
            "ticks": "",
            "zerolinecolor": "white"
           }
          },
          "shapedefaults": {
           "line": {
            "color": "#2a3f5f"
           }
          },
          "ternary": {
           "aaxis": {
            "gridcolor": "white",
            "linecolor": "white",
            "ticks": ""
           },
           "baxis": {
            "gridcolor": "white",
            "linecolor": "white",
            "ticks": ""
           },
           "bgcolor": "#E5ECF6",
           "caxis": {
            "gridcolor": "white",
            "linecolor": "white",
            "ticks": ""
           }
          },
          "title": {
           "x": 0.05
          },
          "xaxis": {
           "automargin": true,
           "gridcolor": "white",
           "linecolor": "white",
           "ticks": "",
           "title": {
            "standoff": 15
           },
           "zerolinecolor": "white",
           "zerolinewidth": 2
          },
          "yaxis": {
           "automargin": true,
           "gridcolor": "white",
           "linecolor": "white",
           "ticks": "",
           "title": {
            "standoff": 15
           },
           "zerolinecolor": "white",
           "zerolinewidth": 2
          }
         }
        },
        "title": {
         "text": "n24 Distribution"
        },
        "xaxis": {
         "anchor": "y",
         "domain": [
          0,
          1
         ],
         "title": {
          "text": "n24"
         }
        },
        "xaxis2": {
         "anchor": "y2",
         "domain": [
          0,
          1
         ],
         "matches": "x",
         "showgrid": true,
         "showticklabels": false
        },
        "yaxis": {
         "anchor": "x",
         "domain": [
          0,
          0.8316
         ],
         "title": {
          "text": "count"
         }
        },
        "yaxis2": {
         "anchor": "x2",
         "domain": [
          0.8416,
          1
         ],
         "matches": "y2",
         "showgrid": false,
         "showline": false,
         "showticklabels": false,
         "ticks": ""
        }
       }
      }
     },
     "metadata": {},
     "output_type": "display_data"
    }
   ],
   "source": [
    "fig = px.histogram(df, x='n24', marginal='box', nbins=47, title='n24 Distribution')\n",
    "fig.update_layout(bargap=0.1)\n",
    "fig.show()"
   ]
  },
  {
   "cell_type": "code",
   "execution_count": 10,
   "metadata": {},
   "outputs": [
    {
     "data": {
      "application/vnd.plotly.v1+json": {
       "config": {
        "plotlyServerURL": "https://plot.ly"
       },
       "data": [
        {
         "bingroup": "x",
         "hovertemplate": "rev24=%{x}<br>count=%{y}<extra></extra>",
         "legendgroup": "",
         "marker": {
          "color": "#636efa",
          "pattern": {
           "shape": ""
          }
         },
         "name": "",
         "nbinsx": 47,
         "orientation": "v",
         "showlegend": false,
         "type": "histogram",
         "x": {
          "bdata": "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",
          "dtype": "f8"
         },
         "xaxis": "x",
         "yaxis": "y"
        },
        {
         "hovertemplate": "rev24=%{x}<extra></extra>",
         "legendgroup": "",
         "marker": {
          "color": "#636efa"
         },
         "name": "",
         "notched": true,
         "showlegend": false,
         "type": "box",
         "x": {
          "bdata": "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",
          "dtype": "f8"
         },
         "xaxis": "x2",
         "yaxis": "y2"
        }
       ],
       "layout": {
        "bargap": 0.1,
        "barmode": "relative",
        "legend": {
         "tracegroupgap": 0
        },
        "template": {
         "data": {
          "bar": [
           {
            "error_x": {
             "color": "#2a3f5f"
            },
            "error_y": {
             "color": "#2a3f5f"
            },
            "marker": {
             "line": {
              "color": "#E5ECF6",
              "width": 0.5
             },
             "pattern": {
              "fillmode": "overlay",
              "size": 10,
              "solidity": 0.2
             }
            },
            "type": "bar"
           }
          ],
          "barpolar": [
           {
            "marker": {
             "line": {
              "color": "#E5ECF6",
              "width": 0.5
             },
             "pattern": {
              "fillmode": "overlay",
              "size": 10,
              "solidity": 0.2
             }
            },
            "type": "barpolar"
           }
          ],
          "carpet": [
           {
            "aaxis": {
             "endlinecolor": "#2a3f5f",
             "gridcolor": "white",
             "linecolor": "white",
             "minorgridcolor": "white",
             "startlinecolor": "#2a3f5f"
            },
            "baxis": {
             "endlinecolor": "#2a3f5f",
             "gridcolor": "white",
             "linecolor": "white",
             "minorgridcolor": "white",
             "startlinecolor": "#2a3f5f"
            },
            "type": "carpet"
           }
          ],
          "choropleth": [
           {
            "colorbar": {
             "outlinewidth": 0,
             "ticks": ""
            },
            "type": "choropleth"
           }
          ],
          "contour": [
           {
            "colorbar": {
             "outlinewidth": 0,
             "ticks": ""
            },
            "colorscale": [
             [
              0,
              "#0d0887"
             ],
             [
              0.1111111111111111,
              "#46039f"
             ],
             [
              0.2222222222222222,
              "#7201a8"
             ],
             [
              0.3333333333333333,
              "#9c179e"
             ],
             [
              0.4444444444444444,
              "#bd3786"
             ],
             [
              0.5555555555555556,
              "#d8576b"
             ],
             [
              0.6666666666666666,
              "#ed7953"
             ],
             [
              0.7777777777777778,
              "#fb9f3a"
             ],
             [
              0.8888888888888888,
              "#fdca26"
             ],
             [
              1,
              "#f0f921"
             ]
            ],
            "type": "contour"
           }
          ],
          "contourcarpet": [
           {
            "colorbar": {
             "outlinewidth": 0,
             "ticks": ""
            },
            "type": "contourcarpet"
           }
          ],
          "heatmap": [
           {
            "colorbar": {
             "outlinewidth": 0,
             "ticks": ""
            },
            "colorscale": [
             [
              0,
              "#0d0887"
             ],
             [
              0.1111111111111111,
              "#46039f"
             ],
             [
              0.2222222222222222,
              "#7201a8"
             ],
             [
              0.3333333333333333,
              "#9c179e"
             ],
             [
              0.4444444444444444,
              "#bd3786"
             ],
             [
              0.5555555555555556,
              "#d8576b"
             ],
             [
              0.6666666666666666,
              "#ed7953"
             ],
             [
              0.7777777777777778,
              "#fb9f3a"
             ],
             [
              0.8888888888888888,
              "#fdca26"
             ],
             [
              1,
              "#f0f921"
             ]
            ],
            "type": "heatmap"
           }
          ],
          "histogram": [
           {
            "marker": {
             "pattern": {
              "fillmode": "overlay",
              "size": 10,
              "solidity": 0.2
             }
            },
            "type": "histogram"
           }
          ],
          "histogram2d": [
           {
            "colorbar": {
             "outlinewidth": 0,
             "ticks": ""
            },
            "colorscale": [
             [
              0,
              "#0d0887"
             ],
             [
              0.1111111111111111,
              "#46039f"
             ],
             [
              0.2222222222222222,
              "#7201a8"
             ],
             [
              0.3333333333333333,
              "#9c179e"
             ],
             [
              0.4444444444444444,
              "#bd3786"
             ],
             [
              0.5555555555555556,
              "#d8576b"
             ],
             [
              0.6666666666666666,
              "#ed7953"
             ],
             [
              0.7777777777777778,
              "#fb9f3a"
             ],
             [
              0.8888888888888888,
              "#fdca26"
             ],
             [
              1,
              "#f0f921"
             ]
            ],
            "type": "histogram2d"
           }
          ],
          "histogram2dcontour": [
           {
            "colorbar": {
             "outlinewidth": 0,
             "ticks": ""
            },
            "colorscale": [
             [
              0,
              "#0d0887"
             ],
             [
              0.1111111111111111,
              "#46039f"
             ],
             [
              0.2222222222222222,
              "#7201a8"
             ],
             [
              0.3333333333333333,
              "#9c179e"
             ],
             [
              0.4444444444444444,
              "#bd3786"
             ],
             [
              0.5555555555555556,
              "#d8576b"
             ],
             [
              0.6666666666666666,
              "#ed7953"
             ],
             [
              0.7777777777777778,
              "#fb9f3a"
             ],
             [
              0.8888888888888888,
              "#fdca26"
             ],
             [
              1,
              "#f0f921"
             ]
            ],
            "type": "histogram2dcontour"
           }
          ],
          "mesh3d": [
           {
            "colorbar": {
             "outlinewidth": 0,
             "ticks": ""
            },
            "type": "mesh3d"
           }
          ],
          "parcoords": [
           {
            "line": {
             "colorbar": {
              "outlinewidth": 0,
              "ticks": ""
             }
            },
            "type": "parcoords"
           }
          ],
          "pie": [
           {
            "automargin": true,
            "type": "pie"
           }
          ],
          "scatter": [
           {
            "fillpattern": {
             "fillmode": "overlay",
             "size": 10,
             "solidity": 0.2
            },
            "type": "scatter"
           }
          ],
          "scatter3d": [
           {
            "line": {
             "colorbar": {
              "outlinewidth": 0,
              "ticks": ""
             }
            },
            "marker": {
             "colorbar": {
              "outlinewidth": 0,
              "ticks": ""
             }
            },
            "type": "scatter3d"
           }
          ],
          "scattercarpet": [
           {
            "marker": {
             "colorbar": {
              "outlinewidth": 0,
              "ticks": ""
             }
            },
            "type": "scattercarpet"
           }
          ],
          "scattergeo": [
           {
            "marker": {
             "colorbar": {
              "outlinewidth": 0,
              "ticks": ""
             }
            },
            "type": "scattergeo"
           }
          ],
          "scattergl": [
           {
            "marker": {
             "colorbar": {
              "outlinewidth": 0,
              "ticks": ""
             }
            },
            "type": "scattergl"
           }
          ],
          "scattermap": [
           {
            "marker": {
             "colorbar": {
              "outlinewidth": 0,
              "ticks": ""
             }
            },
            "type": "scattermap"
           }
          ],
          "scattermapbox": [
           {
            "marker": {
             "colorbar": {
              "outlinewidth": 0,
              "ticks": ""
             }
            },
            "type": "scattermapbox"
           }
          ],
          "scatterpolar": [
           {
            "marker": {
             "colorbar": {
              "outlinewidth": 0,
              "ticks": ""
             }
            },
            "type": "scatterpolar"
           }
          ],
          "scatterpolargl": [
           {
            "marker": {
             "colorbar": {
              "outlinewidth": 0,
              "ticks": ""
             }
            },
            "type": "scatterpolargl"
           }
          ],
          "scatterternary": [
           {
            "marker": {
             "colorbar": {
              "outlinewidth": 0,
              "ticks": ""
             }
            },
            "type": "scatterternary"
           }
          ],
          "surface": [
           {
            "colorbar": {
             "outlinewidth": 0,
             "ticks": ""
            },
            "colorscale": [
             [
              0,
              "#0d0887"
             ],
             [
              0.1111111111111111,
              "#46039f"
             ],
             [
              0.2222222222222222,
              "#7201a8"
             ],
             [
              0.3333333333333333,
              "#9c179e"
             ],
             [
              0.4444444444444444,
              "#bd3786"
             ],
             [
              0.5555555555555556,
              "#d8576b"
             ],
             [
              0.6666666666666666,
              "#ed7953"
             ],
             [
              0.7777777777777778,
              "#fb9f3a"
             ],
             [
              0.8888888888888888,
              "#fdca26"
             ],
             [
              1,
              "#f0f921"
             ]
            ],
            "type": "surface"
           }
          ],
          "table": [
           {
            "cells": {
             "fill": {
              "color": "#EBF0F8"
             },
             "line": {
              "color": "white"
             }
            },
            "header": {
             "fill": {
              "color": "#C8D4E3"
             },
             "line": {
              "color": "white"
             }
            },
            "type": "table"
           }
          ]
         },
         "layout": {
          "annotationdefaults": {
           "arrowcolor": "#2a3f5f",
           "arrowhead": 0,
           "arrowwidth": 1
          },
          "autotypenumbers": "strict",
          "coloraxis": {
           "colorbar": {
            "outlinewidth": 0,
            "ticks": ""
           }
          },
          "colorscale": {
           "diverging": [
            [
             0,
             "#8e0152"
            ],
            [
             0.1,
             "#c51b7d"
            ],
            [
             0.2,
             "#de77ae"
            ],
            [
             0.3,
             "#f1b6da"
            ],
            [
             0.4,
             "#fde0ef"
            ],
            [
             0.5,
             "#f7f7f7"
            ],
            [
             0.6,
             "#e6f5d0"
            ],
            [
             0.7,
             "#b8e186"
            ],
            [
             0.8,
             "#7fbc41"
            ],
            [
             0.9,
             "#4d9221"
            ],
            [
             1,
             "#276419"
            ]
           ],
           "sequential": [
            [
             0,
             "#0d0887"
            ],
            [
             0.1111111111111111,
             "#46039f"
            ],
            [
             0.2222222222222222,
             "#7201a8"
            ],
            [
             0.3333333333333333,
             "#9c179e"
            ],
            [
             0.4444444444444444,
             "#bd3786"
            ],
            [
             0.5555555555555556,
             "#d8576b"
            ],
            [
             0.6666666666666666,
             "#ed7953"
            ],
            [
             0.7777777777777778,
             "#fb9f3a"
            ],
            [
             0.8888888888888888,
             "#fdca26"
            ],
            [
             1,
             "#f0f921"
            ]
           ],
           "sequentialminus": [
            [
             0,
             "#0d0887"
            ],
            [
             0.1111111111111111,
             "#46039f"
            ],
            [
             0.2222222222222222,
             "#7201a8"
            ],
            [
             0.3333333333333333,
             "#9c179e"
            ],
            [
             0.4444444444444444,
             "#bd3786"
            ],
            [
             0.5555555555555556,
             "#d8576b"
            ],
            [
             0.6666666666666666,
             "#ed7953"
            ],
            [
             0.7777777777777778,
             "#fb9f3a"
            ],
            [
             0.8888888888888888,
             "#fdca26"
            ],
            [
             1,
             "#f0f921"
            ]
           ]
          },
          "colorway": [
           "#636efa",
           "#EF553B",
           "#00cc96",
           "#ab63fa",
           "#FFA15A",
           "#19d3f3",
           "#FF6692",
           "#B6E880",
           "#FF97FF",
           "#FECB52"
          ],
          "font": {
           "color": "#2a3f5f"
          },
          "geo": {
           "bgcolor": "white",
           "lakecolor": "white",
           "landcolor": "#E5ECF6",
           "showlakes": true,
           "showland": true,
           "subunitcolor": "white"
          },
          "hoverlabel": {
           "align": "left"
          },
          "hovermode": "closest",
          "mapbox": {
           "style": "light"
          },
          "paper_bgcolor": "white",
          "plot_bgcolor": "#E5ECF6",
          "polar": {
           "angularaxis": {
            "gridcolor": "white",
            "linecolor": "white",
            "ticks": ""
           },
           "bgcolor": "#E5ECF6",
           "radialaxis": {
            "gridcolor": "white",
            "linecolor": "white",
            "ticks": ""
           }
          },
          "scene": {
           "xaxis": {
            "backgroundcolor": "#E5ECF6",
            "gridcolor": "white",
            "gridwidth": 2,
            "linecolor": "white",
            "showbackground": true,
            "ticks": "",
            "zerolinecolor": "white"
           },
           "yaxis": {
            "backgroundcolor": "#E5ECF6",
            "gridcolor": "white",
            "gridwidth": 2,
            "linecolor": "white",
            "showbackground": true,
            "ticks": "",
            "zerolinecolor": "white"
           },
           "zaxis": {
            "backgroundcolor": "#E5ECF6",
            "gridcolor": "white",
            "gridwidth": 2,
            "linecolor": "white",
            "showbackground": true,
            "ticks": "",
            "zerolinecolor": "white"
           }
          },
          "shapedefaults": {
           "line": {
            "color": "#2a3f5f"
           }
          },
          "ternary": {
           "aaxis": {
            "gridcolor": "white",
            "linecolor": "white",
            "ticks": ""
           },
           "baxis": {
            "gridcolor": "white",
            "linecolor": "white",
            "ticks": ""
           },
           "bgcolor": "#E5ECF6",
           "caxis": {
            "gridcolor": "white",
            "linecolor": "white",
            "ticks": ""
           }
          },
          "title": {
           "x": 0.05
          },
          "xaxis": {
           "automargin": true,
           "gridcolor": "white",
           "linecolor": "white",
           "ticks": "",
           "title": {
            "standoff": 15
           },
           "zerolinecolor": "white",
           "zerolinewidth": 2
          },
          "yaxis": {
           "automargin": true,
           "gridcolor": "white",
           "linecolor": "white",
           "ticks": "",
           "title": {
            "standoff": 15
           },
           "zerolinecolor": "white",
           "zerolinewidth": 2
          }
         }
        },
        "title": {
         "text": "rev24 Distribution"
        },
        "xaxis": {
         "anchor": "y",
         "domain": [
          0,
          1
         ],
         "title": {
          "text": "rev24"
         }
        },
        "xaxis2": {
         "anchor": "y2",
         "domain": [
          0,
          1
         ],
         "matches": "x",
         "showgrid": true,
         "showticklabels": false
        },
        "yaxis": {
         "anchor": "x",
         "domain": [
          0,
          0.8316
         ],
         "title": {
          "text": "count"
         }
        },
        "yaxis2": {
         "anchor": "x2",
         "domain": [
          0.8416,
          1
         ],
         "matches": "y2",
         "showgrid": false,
         "showline": false,
         "showticklabels": false,
         "ticks": ""
        }
       }
      }
     },
     "metadata": {},
     "output_type": "display_data"
    }
   ],
   "source": [
    "fig = px.histogram(df, x='rev24', marginal='box', nbins=47, title='rev24 Distribution')\n",
    "fig.update_layout(bargap=0.1)\n",
    "fig.show()"
   ]
  },
  {
   "cell_type": "code",
   "execution_count": 11,
   "metadata": {},
   "outputs": [
    {
     "data": {
      "application/vnd.plotly.v1+json": {
       "config": {
        "plotlyServerURL": "https://plot.ly"
       },
       "data": [
        {
         "bingroup": "x",
         "hovertemplate": "revlast=%{x}<br>count=%{y}<extra></extra>",
         "legendgroup": "",
         "marker": {
          "color": "#636efa",
          "pattern": {
           "shape": ""
          }
         },
         "name": "",
         "nbinsx": 47,
         "orientation": "v",
         "showlegend": false,
         "type": "histogram",
         "x": {
          "bdata": "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",
          "dtype": "f8"
         },
         "xaxis": "x",
         "yaxis": "y"
        },
        {
         "hovertemplate": "revlast=%{x}<extra></extra>",
         "legendgroup": "",
         "marker": {
          "color": "#636efa"
         },
         "name": "",
         "notched": true,
         "showlegend": false,
         "type": "box",
         "x": {
          "bdata": "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",
          "dtype": "f8"
         },
         "xaxis": "x2",
         "yaxis": "y2"
        }
       ],
       "layout": {
        "bargap": 0.1,
        "barmode": "relative",
        "legend": {
         "tracegroupgap": 0
        },
        "template": {
         "data": {
          "bar": [
           {
            "error_x": {
             "color": "#2a3f5f"
            },
            "error_y": {
             "color": "#2a3f5f"
            },
            "marker": {
             "line": {
              "color": "#E5ECF6",
              "width": 0.5
             },
             "pattern": {
              "fillmode": "overlay",
              "size": 10,
              "solidity": 0.2
             }
            },
            "type": "bar"
           }
          ],
          "barpolar": [
           {
            "marker": {
             "line": {
              "color": "#E5ECF6",
              "width": 0.5
             },
             "pattern": {
              "fillmode": "overlay",
              "size": 10,
              "solidity": 0.2
             }
            },
            "type": "barpolar"
           }
          ],
          "carpet": [
           {
            "aaxis": {
             "endlinecolor": "#2a3f5f",
             "gridcolor": "white",
             "linecolor": "white",
             "minorgridcolor": "white",
             "startlinecolor": "#2a3f5f"
            },
            "baxis": {
             "endlinecolor": "#2a3f5f",
             "gridcolor": "white",
             "linecolor": "white",
             "minorgridcolor": "white",
             "startlinecolor": "#2a3f5f"
            },
            "type": "carpet"
           }
          ],
          "choropleth": [
           {
            "colorbar": {
             "outlinewidth": 0,
             "ticks": ""
            },
            "type": "choropleth"
           }
          ],
          "contour": [
           {
            "colorbar": {
             "outlinewidth": 0,
             "ticks": ""
            },
            "colorscale": [
             [
              0,
              "#0d0887"
             ],
             [
              0.1111111111111111,
              "#46039f"
             ],
             [
              0.2222222222222222,
              "#7201a8"
             ],
             [
              0.3333333333333333,
              "#9c179e"
             ],
             [
              0.4444444444444444,
              "#bd3786"
             ],
             [
              0.5555555555555556,
              "#d8576b"
             ],
             [
              0.6666666666666666,
              "#ed7953"
             ],
             [
              0.7777777777777778,
              "#fb9f3a"
             ],
             [
              0.8888888888888888,
              "#fdca26"
             ],
             [
              1,
              "#f0f921"
             ]
            ],
            "type": "contour"
           }
          ],
          "contourcarpet": [
           {
            "colorbar": {
             "outlinewidth": 0,
             "ticks": ""
            },
            "type": "contourcarpet"
           }
          ],
          "heatmap": [
           {
            "colorbar": {
             "outlinewidth": 0,
             "ticks": ""
            },
            "colorscale": [
             [
              0,
              "#0d0887"
             ],
             [
              0.1111111111111111,
              "#46039f"
             ],
             [
              0.2222222222222222,
              "#7201a8"
             ],
             [
              0.3333333333333333,
              "#9c179e"
             ],
             [
              0.4444444444444444,
              "#bd3786"
             ],
             [
              0.5555555555555556,
              "#d8576b"
             ],
             [
              0.6666666666666666,
              "#ed7953"
             ],
             [
              0.7777777777777778,
              "#fb9f3a"
             ],
             [
              0.8888888888888888,
              "#fdca26"
             ],
             [
              1,
              "#f0f921"
             ]
            ],
            "type": "heatmap"
           }
          ],
          "histogram": [
           {
            "marker": {
             "pattern": {
              "fillmode": "overlay",
              "size": 10,
              "solidity": 0.2
             }
            },
            "type": "histogram"
           }
          ],
          "histogram2d": [
           {
            "colorbar": {
             "outlinewidth": 0,
             "ticks": ""
            },
            "colorscale": [
             [
              0,
              "#0d0887"
             ],
             [
              0.1111111111111111,
              "#46039f"
             ],
             [
              0.2222222222222222,
              "#7201a8"
             ],
             [
              0.3333333333333333,
              "#9c179e"
             ],
             [
              0.4444444444444444,
              "#bd3786"
             ],
             [
              0.5555555555555556,
              "#d8576b"
             ],
             [
              0.6666666666666666,
              "#ed7953"
             ],
             [
              0.7777777777777778,
              "#fb9f3a"
             ],
             [
              0.8888888888888888,
              "#fdca26"
             ],
             [
              1,
              "#f0f921"
             ]
            ],
            "type": "histogram2d"
           }
          ],
          "histogram2dcontour": [
           {
            "colorbar": {
             "outlinewidth": 0,
             "ticks": ""
            },
            "colorscale": [
             [
              0,
              "#0d0887"
             ],
             [
              0.1111111111111111,
              "#46039f"
             ],
             [
              0.2222222222222222,
              "#7201a8"
             ],
             [
              0.3333333333333333,
              "#9c179e"
             ],
             [
              0.4444444444444444,
              "#bd3786"
             ],
             [
              0.5555555555555556,
              "#d8576b"
             ],
             [
              0.6666666666666666,
              "#ed7953"
             ],
             [
              0.7777777777777778,
              "#fb9f3a"
             ],
             [
              0.8888888888888888,
              "#fdca26"
             ],
             [
              1,
              "#f0f921"
             ]
            ],
            "type": "histogram2dcontour"
           }
          ],
          "mesh3d": [
           {
            "colorbar": {
             "outlinewidth": 0,
             "ticks": ""
            },
            "type": "mesh3d"
           }
          ],
          "parcoords": [
           {
            "line": {
             "colorbar": {
              "outlinewidth": 0,
              "ticks": ""
             }
            },
            "type": "parcoords"
           }
          ],
          "pie": [
           {
            "automargin": true,
            "type": "pie"
           }
          ],
          "scatter": [
           {
            "fillpattern": {
             "fillmode": "overlay",
             "size": 10,
             "solidity": 0.2
            },
            "type": "scatter"
           }
          ],
          "scatter3d": [
           {
            "line": {
             "colorbar": {
              "outlinewidth": 0,
              "ticks": ""
             }
            },
            "marker": {
             "colorbar": {
              "outlinewidth": 0,
              "ticks": ""
             }
            },
            "type": "scatter3d"
           }
          ],
          "scattercarpet": [
           {
            "marker": {
             "colorbar": {
              "outlinewidth": 0,
              "ticks": ""
             }
            },
            "type": "scattercarpet"
           }
          ],
          "scattergeo": [
           {
            "marker": {
             "colorbar": {
              "outlinewidth": 0,
              "ticks": ""
             }
            },
            "type": "scattergeo"
           }
          ],
          "scattergl": [
           {
            "marker": {
             "colorbar": {
              "outlinewidth": 0,
              "ticks": ""
             }
            },
            "type": "scattergl"
           }
          ],
          "scattermap": [
           {
            "marker": {
             "colorbar": {
              "outlinewidth": 0,
              "ticks": ""
             }
            },
            "type": "scattermap"
           }
          ],
          "scattermapbox": [
           {
            "marker": {
             "colorbar": {
              "outlinewidth": 0,
              "ticks": ""
             }
            },
            "type": "scattermapbox"
           }
          ],
          "scatterpolar": [
           {
            "marker": {
             "colorbar": {
              "outlinewidth": 0,
              "ticks": ""
             }
            },
            "type": "scatterpolar"
           }
          ],
          "scatterpolargl": [
           {
            "marker": {
             "colorbar": {
              "outlinewidth": 0,
              "ticks": ""
             }
            },
            "type": "scatterpolargl"
           }
          ],
          "scatterternary": [
           {
            "marker": {
             "colorbar": {
              "outlinewidth": 0,
              "ticks": ""
             }
            },
            "type": "scatterternary"
           }
          ],
          "surface": [
           {
            "colorbar": {
             "outlinewidth": 0,
             "ticks": ""
            },
            "colorscale": [
             [
              0,
              "#0d0887"
             ],
             [
              0.1111111111111111,
              "#46039f"
             ],
             [
              0.2222222222222222,
              "#7201a8"
             ],
             [
              0.3333333333333333,
              "#9c179e"
             ],
             [
              0.4444444444444444,
              "#bd3786"
             ],
             [
              0.5555555555555556,
              "#d8576b"
             ],
             [
              0.6666666666666666,
              "#ed7953"
             ],
             [
              0.7777777777777778,
              "#fb9f3a"
             ],
             [
              0.8888888888888888,
              "#fdca26"
             ],
             [
              1,
              "#f0f921"
             ]
            ],
            "type": "surface"
           }
          ],
          "table": [
           {
            "cells": {
             "fill": {
              "color": "#EBF0F8"
             },
             "line": {
              "color": "white"
             }
            },
            "header": {
             "fill": {
              "color": "#C8D4E3"
             },
             "line": {
              "color": "white"
             }
            },
            "type": "table"
           }
          ]
         },
         "layout": {
          "annotationdefaults": {
           "arrowcolor": "#2a3f5f",
           "arrowhead": 0,
           "arrowwidth": 1
          },
          "autotypenumbers": "strict",
          "coloraxis": {
           "colorbar": {
            "outlinewidth": 0,
            "ticks": ""
           }
          },
          "colorscale": {
           "diverging": [
            [
             0,
             "#8e0152"
            ],
            [
             0.1,
             "#c51b7d"
            ],
            [
             0.2,
             "#de77ae"
            ],
            [
             0.3,
             "#f1b6da"
            ],
            [
             0.4,
             "#fde0ef"
            ],
            [
             0.5,
             "#f7f7f7"
            ],
            [
             0.6,
             "#e6f5d0"
            ],
            [
             0.7,
             "#b8e186"
            ],
            [
             0.8,
             "#7fbc41"
            ],
            [
             0.9,
             "#4d9221"
            ],
            [
             1,
             "#276419"
            ]
           ],
           "sequential": [
            [
             0,
             "#0d0887"
            ],
            [
             0.1111111111111111,
             "#46039f"
            ],
            [
             0.2222222222222222,
             "#7201a8"
            ],
            [
             0.3333333333333333,
             "#9c179e"
            ],
            [
             0.4444444444444444,
             "#bd3786"
            ],
            [
             0.5555555555555556,
             "#d8576b"
            ],
            [
             0.6666666666666666,
             "#ed7953"
            ],
            [
             0.7777777777777778,
             "#fb9f3a"
            ],
            [
             0.8888888888888888,
             "#fdca26"
            ],
            [
             1,
             "#f0f921"
            ]
           ],
           "sequentialminus": [
            [
             0,
             "#0d0887"
            ],
            [
             0.1111111111111111,
             "#46039f"
            ],
            [
             0.2222222222222222,
             "#7201a8"
            ],
            [
             0.3333333333333333,
             "#9c179e"
            ],
            [
             0.4444444444444444,
             "#bd3786"
            ],
            [
             0.5555555555555556,
             "#d8576b"
            ],
            [
             0.6666666666666666,
             "#ed7953"
            ],
            [
             0.7777777777777778,
             "#fb9f3a"
            ],
            [
             0.8888888888888888,
             "#fdca26"
            ],
            [
             1,
             "#f0f921"
            ]
           ]
          },
          "colorway": [
           "#636efa",
           "#EF553B",
           "#00cc96",
           "#ab63fa",
           "#FFA15A",
           "#19d3f3",
           "#FF6692",
           "#B6E880",
           "#FF97FF",
           "#FECB52"
          ],
          "font": {
           "color": "#2a3f5f"
          },
          "geo": {
           "bgcolor": "white",
           "lakecolor": "white",
           "landcolor": "#E5ECF6",
           "showlakes": true,
           "showland": true,
           "subunitcolor": "white"
          },
          "hoverlabel": {
           "align": "left"
          },
          "hovermode": "closest",
          "mapbox": {
           "style": "light"
          },
          "paper_bgcolor": "white",
          "plot_bgcolor": "#E5ECF6",
          "polar": {
           "angularaxis": {
            "gridcolor": "white",
            "linecolor": "white",
            "ticks": ""
           },
           "bgcolor": "#E5ECF6",
           "radialaxis": {
            "gridcolor": "white",
            "linecolor": "white",
            "ticks": ""
           }
          },
          "scene": {
           "xaxis": {
            "backgroundcolor": "#E5ECF6",
            "gridcolor": "white",
            "gridwidth": 2,
            "linecolor": "white",
            "showbackground": true,
            "ticks": "",
            "zerolinecolor": "white"
           },
           "yaxis": {
            "backgroundcolor": "#E5ECF6",
            "gridcolor": "white",
            "gridwidth": 2,
            "linecolor": "white",
            "showbackground": true,
            "ticks": "",
            "zerolinecolor": "white"
           },
           "zaxis": {
            "backgroundcolor": "#E5ECF6",
            "gridcolor": "white",
            "gridwidth": 2,
            "linecolor": "white",
            "showbackground": true,
            "ticks": "",
            "zerolinecolor": "white"
           }
          },
          "shapedefaults": {
           "line": {
            "color": "#2a3f5f"
           }
          },
          "ternary": {
           "aaxis": {
            "gridcolor": "white",
            "linecolor": "white",
            "ticks": ""
           },
           "baxis": {
            "gridcolor": "white",
            "linecolor": "white",
            "ticks": ""
           },
           "bgcolor": "#E5ECF6",
           "caxis": {
            "gridcolor": "white",
            "linecolor": "white",
            "ticks": ""
           }
          },
          "title": {
           "x": 0.05
          },
          "xaxis": {
           "automargin": true,
           "gridcolor": "white",
           "linecolor": "white",
           "ticks": "",
           "title": {
            "standoff": 15
           },
           "zerolinecolor": "white",
           "zerolinewidth": 2
          },
          "yaxis": {
           "automargin": true,
           "gridcolor": "white",
           "linecolor": "white",
           "ticks": "",
           "title": {
            "standoff": 15
           },
           "zerolinecolor": "white",
           "zerolinewidth": 2
          }
         }
        },
        "title": {
         "text": "revlast Distribution"
        },
        "xaxis": {
         "anchor": "y",
         "domain": [
          0,
          1
         ],
         "title": {
          "text": "revlast"
         }
        },
        "xaxis2": {
         "anchor": "y2",
         "domain": [
          0,
          1
         ],
         "matches": "x",
         "showgrid": true,
         "showticklabels": false
        },
        "yaxis": {
         "anchor": "x",
         "domain": [
          0,
          0.8316
         ],
         "title": {
          "text": "count"
         }
        },
        "yaxis2": {
         "anchor": "x2",
         "domain": [
          0.8416,
          1
         ],
         "matches": "y2",
         "showgrid": false,
         "showline": false,
         "showticklabels": false,
         "ticks": ""
        }
       }
      }
     },
     "metadata": {},
     "output_type": "display_data"
    }
   ],
   "source": [
    "fig = px.histogram(df, x='revlast', marginal='box', nbins=47, title='revlast Distribution')\n",
    "fig.update_layout(bargap=0.1)\n",
    "fig.show()"
   ]
  },
  {
   "cell_type": "code",
   "execution_count": 12,
   "metadata": {},
   "outputs": [
    {
     "data": {
      "application/vnd.plotly.v1+json": {
       "config": {
        "plotlyServerURL": "https://plot.ly"
       },
       "data": [
        {
         "bingroup": "x",
         "hovertemplate": "elpsdm=%{x}<br>count=%{y}<extra></extra>",
         "legendgroup": "",
         "marker": {
          "color": "#636efa",
          "pattern": {
           "shape": ""
          }
         },
         "name": "",
         "nbinsx": 47,
         "orientation": "v",
         "showlegend": false,
         "type": "histogram",
         "x": {
          "bdata": "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",
          "dtype": "i1"
         },
         "xaxis": "x",
         "yaxis": "y"
        },
        {
         "hovertemplate": "elpsdm=%{x}<extra></extra>",
         "legendgroup": "",
         "marker": {
          "color": "#636efa"
         },
         "name": "",
         "notched": true,
         "showlegend": false,
         "type": "box",
         "x": {
          "bdata": "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",
          "dtype": "i1"
         },
         "xaxis": "x2",
         "yaxis": "y2"
        }
       ],
       "layout": {
        "bargap": 0.1,
        "barmode": "relative",
        "legend": {
         "tracegroupgap": 0
        },
        "template": {
         "data": {
          "bar": [
           {
            "error_x": {
             "color": "#2a3f5f"
            },
            "error_y": {
             "color": "#2a3f5f"
            },
            "marker": {
             "line": {
              "color": "#E5ECF6",
              "width": 0.5
             },
             "pattern": {
              "fillmode": "overlay",
              "size": 10,
              "solidity": 0.2
             }
            },
            "type": "bar"
           }
          ],
          "barpolar": [
           {
            "marker": {
             "line": {
              "color": "#E5ECF6",
              "width": 0.5
             },
             "pattern": {
              "fillmode": "overlay",
              "size": 10,
              "solidity": 0.2
             }
            },
            "type": "barpolar"
           }
          ],
          "carpet": [
           {
            "aaxis": {
             "endlinecolor": "#2a3f5f",
             "gridcolor": "white",
             "linecolor": "white",
             "minorgridcolor": "white",
             "startlinecolor": "#2a3f5f"
            },
            "baxis": {
             "endlinecolor": "#2a3f5f",
             "gridcolor": "white",
             "linecolor": "white",
             "minorgridcolor": "white",
             "startlinecolor": "#2a3f5f"
            },
            "type": "carpet"
           }
          ],
          "choropleth": [
           {
            "colorbar": {
             "outlinewidth": 0,
             "ticks": ""
            },
            "type": "choropleth"
           }
          ],
          "contour": [
           {
            "colorbar": {
             "outlinewidth": 0,
             "ticks": ""
            },
            "colorscale": [
             [
              0,
              "#0d0887"
             ],
             [
              0.1111111111111111,
              "#46039f"
             ],
             [
              0.2222222222222222,
              "#7201a8"
             ],
             [
              0.3333333333333333,
              "#9c179e"
             ],
             [
              0.4444444444444444,
              "#bd3786"
             ],
             [
              0.5555555555555556,
              "#d8576b"
             ],
             [
              0.6666666666666666,
              "#ed7953"
             ],
             [
              0.7777777777777778,
              "#fb9f3a"
             ],
             [
              0.8888888888888888,
              "#fdca26"
             ],
             [
              1,
              "#f0f921"
             ]
            ],
            "type": "contour"
           }
          ],
          "contourcarpet": [
           {
            "colorbar": {
             "outlinewidth": 0,
             "ticks": ""
            },
            "type": "contourcarpet"
           }
          ],
          "heatmap": [
           {
            "colorbar": {
             "outlinewidth": 0,
             "ticks": ""
            },
            "colorscale": [
             [
              0,
              "#0d0887"
             ],
             [
              0.1111111111111111,
              "#46039f"
             ],
             [
              0.2222222222222222,
              "#7201a8"
             ],
             [
              0.3333333333333333,
              "#9c179e"
             ],
             [
              0.4444444444444444,
              "#bd3786"
             ],
             [
              0.5555555555555556,
              "#d8576b"
             ],
             [
              0.6666666666666666,
              "#ed7953"
             ],
             [
              0.7777777777777778,
              "#fb9f3a"
             ],
             [
              0.8888888888888888,
              "#fdca26"
             ],
             [
              1,
              "#f0f921"
             ]
            ],
            "type": "heatmap"
           }
          ],
          "histogram": [
           {
            "marker": {
             "pattern": {
              "fillmode": "overlay",
              "size": 10,
              "solidity": 0.2
             }
            },
            "type": "histogram"
           }
          ],
          "histogram2d": [
           {
            "colorbar": {
             "outlinewidth": 0,
             "ticks": ""
            },
            "colorscale": [
             [
              0,
              "#0d0887"
             ],
             [
              0.1111111111111111,
              "#46039f"
             ],
             [
              0.2222222222222222,
              "#7201a8"
             ],
             [
              0.3333333333333333,
              "#9c179e"
             ],
             [
              0.4444444444444444,
              "#bd3786"
             ],
             [
              0.5555555555555556,
              "#d8576b"
             ],
             [
              0.6666666666666666,
              "#ed7953"
             ],
             [
              0.7777777777777778,
              "#fb9f3a"
             ],
             [
              0.8888888888888888,
              "#fdca26"
             ],
             [
              1,
              "#f0f921"
             ]
            ],
            "type": "histogram2d"
           }
          ],
          "histogram2dcontour": [
           {
            "colorbar": {
             "outlinewidth": 0,
             "ticks": ""
            },
            "colorscale": [
             [
              0,
              "#0d0887"
             ],
             [
              0.1111111111111111,
              "#46039f"
             ],
             [
              0.2222222222222222,
              "#7201a8"
             ],
             [
              0.3333333333333333,
              "#9c179e"
             ],
             [
              0.4444444444444444,
              "#bd3786"
             ],
             [
              0.5555555555555556,
              "#d8576b"
             ],
             [
              0.6666666666666666,
              "#ed7953"
             ],
             [
              0.7777777777777778,
              "#fb9f3a"
             ],
             [
              0.8888888888888888,
              "#fdca26"
             ],
             [
              1,
              "#f0f921"
             ]
            ],
            "type": "histogram2dcontour"
           }
          ],
          "mesh3d": [
           {
            "colorbar": {
             "outlinewidth": 0,
             "ticks": ""
            },
            "type": "mesh3d"
           }
          ],
          "parcoords": [
           {
            "line": {
             "colorbar": {
              "outlinewidth": 0,
              "ticks": ""
             }
            },
            "type": "parcoords"
           }
          ],
          "pie": [
           {
            "automargin": true,
            "type": "pie"
           }
          ],
          "scatter": [
           {
            "fillpattern": {
             "fillmode": "overlay",
             "size": 10,
             "solidity": 0.2
            },
            "type": "scatter"
           }
          ],
          "scatter3d": [
           {
            "line": {
             "colorbar": {
              "outlinewidth": 0,
              "ticks": ""
             }
            },
            "marker": {
             "colorbar": {
              "outlinewidth": 0,
              "ticks": ""
             }
            },
            "type": "scatter3d"
           }
          ],
          "scattercarpet": [
           {
            "marker": {
             "colorbar": {
              "outlinewidth": 0,
              "ticks": ""
             }
            },
            "type": "scattercarpet"
           }
          ],
          "scattergeo": [
           {
            "marker": {
             "colorbar": {
              "outlinewidth": 0,
              "ticks": ""
             }
            },
            "type": "scattergeo"
           }
          ],
          "scattergl": [
           {
            "marker": {
             "colorbar": {
              "outlinewidth": 0,
              "ticks": ""
             }
            },
            "type": "scattergl"
           }
          ],
          "scattermap": [
           {
            "marker": {
             "colorbar": {
              "outlinewidth": 0,
              "ticks": ""
             }
            },
            "type": "scattermap"
           }
          ],
          "scattermapbox": [
           {
            "marker": {
             "colorbar": {
              "outlinewidth": 0,
              "ticks": ""
             }
            },
            "type": "scattermapbox"
           }
          ],
          "scatterpolar": [
           {
            "marker": {
             "colorbar": {
              "outlinewidth": 0,
              "ticks": ""
             }
            },
            "type": "scatterpolar"
           }
          ],
          "scatterpolargl": [
           {
            "marker": {
             "colorbar": {
              "outlinewidth": 0,
              "ticks": ""
             }
            },
            "type": "scatterpolargl"
           }
          ],
          "scatterternary": [
           {
            "marker": {
             "colorbar": {
              "outlinewidth": 0,
              "ticks": ""
             }
            },
            "type": "scatterternary"
           }
          ],
          "surface": [
           {
            "colorbar": {
             "outlinewidth": 0,
             "ticks": ""
            },
            "colorscale": [
             [
              0,
              "#0d0887"
             ],
             [
              0.1111111111111111,
              "#46039f"
             ],
             [
              0.2222222222222222,
              "#7201a8"
             ],
             [
              0.3333333333333333,
              "#9c179e"
             ],
             [
              0.4444444444444444,
              "#bd3786"
             ],
             [
              0.5555555555555556,
              "#d8576b"
             ],
             [
              0.6666666666666666,
              "#ed7953"
             ],
             [
              0.7777777777777778,
              "#fb9f3a"
             ],
             [
              0.8888888888888888,
              "#fdca26"
             ],
             [
              1,
              "#f0f921"
             ]
            ],
            "type": "surface"
           }
          ],
          "table": [
           {
            "cells": {
             "fill": {
              "color": "#EBF0F8"
             },
             "line": {
              "color": "white"
             }
            },
            "header": {
             "fill": {
              "color": "#C8D4E3"
             },
             "line": {
              "color": "white"
             }
            },
            "type": "table"
           }
          ]
         },
         "layout": {
          "annotationdefaults": {
           "arrowcolor": "#2a3f5f",
           "arrowhead": 0,
           "arrowwidth": 1
          },
          "autotypenumbers": "strict",
          "coloraxis": {
           "colorbar": {
            "outlinewidth": 0,
            "ticks": ""
           }
          },
          "colorscale": {
           "diverging": [
            [
             0,
             "#8e0152"
            ],
            [
             0.1,
             "#c51b7d"
            ],
            [
             0.2,
             "#de77ae"
            ],
            [
             0.3,
             "#f1b6da"
            ],
            [
             0.4,
             "#fde0ef"
            ],
            [
             0.5,
             "#f7f7f7"
            ],
            [
             0.6,
             "#e6f5d0"
            ],
            [
             0.7,
             "#b8e186"
            ],
            [
             0.8,
             "#7fbc41"
            ],
            [
             0.9,
             "#4d9221"
            ],
            [
             1,
             "#276419"
            ]
           ],
           "sequential": [
            [
             0,
             "#0d0887"
            ],
            [
             0.1111111111111111,
             "#46039f"
            ],
            [
             0.2222222222222222,
             "#7201a8"
            ],
            [
             0.3333333333333333,
             "#9c179e"
            ],
            [
             0.4444444444444444,
             "#bd3786"
            ],
            [
             0.5555555555555556,
             "#d8576b"
            ],
            [
             0.6666666666666666,
             "#ed7953"
            ],
            [
             0.7777777777777778,
             "#fb9f3a"
            ],
            [
             0.8888888888888888,
             "#fdca26"
            ],
            [
             1,
             "#f0f921"
            ]
           ],
           "sequentialminus": [
            [
             0,
             "#0d0887"
            ],
            [
             0.1111111111111111,
             "#46039f"
            ],
            [
             0.2222222222222222,
             "#7201a8"
            ],
            [
             0.3333333333333333,
             "#9c179e"
            ],
            [
             0.4444444444444444,
             "#bd3786"
            ],
            [
             0.5555555555555556,
             "#d8576b"
            ],
            [
             0.6666666666666666,
             "#ed7953"
            ],
            [
             0.7777777777777778,
             "#fb9f3a"
            ],
            [
             0.8888888888888888,
             "#fdca26"
            ],
            [
             1,
             "#f0f921"
            ]
           ]
          },
          "colorway": [
           "#636efa",
           "#EF553B",
           "#00cc96",
           "#ab63fa",
           "#FFA15A",
           "#19d3f3",
           "#FF6692",
           "#B6E880",
           "#FF97FF",
           "#FECB52"
          ],
          "font": {
           "color": "#2a3f5f"
          },
          "geo": {
           "bgcolor": "white",
           "lakecolor": "white",
           "landcolor": "#E5ECF6",
           "showlakes": true,
           "showland": true,
           "subunitcolor": "white"
          },
          "hoverlabel": {
           "align": "left"
          },
          "hovermode": "closest",
          "mapbox": {
           "style": "light"
          },
          "paper_bgcolor": "white",
          "plot_bgcolor": "#E5ECF6",
          "polar": {
           "angularaxis": {
            "gridcolor": "white",
            "linecolor": "white",
            "ticks": ""
           },
           "bgcolor": "#E5ECF6",
           "radialaxis": {
            "gridcolor": "white",
            "linecolor": "white",
            "ticks": ""
           }
          },
          "scene": {
           "xaxis": {
            "backgroundcolor": "#E5ECF6",
            "gridcolor": "white",
            "gridwidth": 2,
            "linecolor": "white",
            "showbackground": true,
            "ticks": "",
            "zerolinecolor": "white"
           },
           "yaxis": {
            "backgroundcolor": "#E5ECF6",
            "gridcolor": "white",
            "gridwidth": 2,
            "linecolor": "white",
            "showbackground": true,
            "ticks": "",
            "zerolinecolor": "white"
           },
           "zaxis": {
            "backgroundcolor": "#E5ECF6",
            "gridcolor": "white",
            "gridwidth": 2,
            "linecolor": "white",
            "showbackground": true,
            "ticks": "",
            "zerolinecolor": "white"
           }
          },
          "shapedefaults": {
           "line": {
            "color": "#2a3f5f"
           }
          },
          "ternary": {
           "aaxis": {
            "gridcolor": "white",
            "linecolor": "white",
            "ticks": ""
           },
           "baxis": {
            "gridcolor": "white",
            "linecolor": "white",
            "ticks": ""
           },
           "bgcolor": "#E5ECF6",
           "caxis": {
            "gridcolor": "white",
            "linecolor": "white",
            "ticks": ""
           }
          },
          "title": {
           "x": 0.05
          },
          "xaxis": {
           "automargin": true,
           "gridcolor": "white",
           "linecolor": "white",
           "ticks": "",
           "title": {
            "standoff": 15
           },
           "zerolinecolor": "white",
           "zerolinewidth": 2
          },
          "yaxis": {
           "automargin": true,
           "gridcolor": "white",
           "linecolor": "white",
           "ticks": "",
           "title": {
            "standoff": 15
           },
           "zerolinecolor": "white",
           "zerolinewidth": 2
          }
         }
        },
        "title": {
         "text": "elpsdm Distribution"
        },
        "xaxis": {
         "anchor": "y",
         "domain": [
          0,
          1
         ],
         "title": {
          "text": "elpsdm"
         }
        },
        "xaxis2": {
         "anchor": "y2",
         "domain": [
          0,
          1
         ],
         "matches": "x",
         "showgrid": true,
         "showticklabels": false
        },
        "yaxis": {
         "anchor": "x",
         "domain": [
          0,
          0.8316
         ],
         "title": {
          "text": "count"
         }
        },
        "yaxis2": {
         "anchor": "x2",
         "domain": [
          0.8416,
          1
         ],
         "matches": "y2",
         "showgrid": false,
         "showline": false,
         "showticklabels": false,
         "ticks": ""
        }
       }
      }
     },
     "metadata": {},
     "output_type": "display_data"
    }
   ],
   "source": [
    "fig = px.histogram(df, x='elpsdm', marginal='box', nbins=47, title='elpsdm Distribution')\n",
    "fig.update_layout(bargap=0.1)\n",
    "fig.show()"
   ]
  },
  {
   "cell_type": "code",
   "execution_count": 13,
   "metadata": {},
   "outputs": [
    {
     "data": {
      "text/plain": [
       "Index(['id', 'n24', 'rev24', 'revlast', 'elpsdm', 'ordfreq', 'ordcat',\n",
       "       'response'],\n",
       "      dtype='object')"
      ]
     },
     "execution_count": 13,
     "metadata": {},
     "output_type": "execute_result"
    }
   ],
   "source": [
    "df.columns "
   ]
  },
  {
   "cell_type": "code",
   "execution_count": 14,
   "metadata": {},
   "outputs": [],
   "source": [
    "outlier_cols = ['n24', 'rev24', 'revlast', 'elpsdm']"
   ]
  },
  {
   "cell_type": "code",
   "execution_count": 15,
   "metadata": {},
   "outputs": [],
   "source": [
    "def outlier_limit(df, col):\n",
    "    print(col)\n",
    "    print('-'*50)\n",
    "    q25, q75 = np.percentile(df[col], 25), np.percentile(df[col], 75)\n",
    "\n",
    "    iqr = q75 - q25\n",
    "\n",
    "    print('Percentiles: 25th=%.3f, 75th=%.3f, IQR=%.3f' % (q25, q75, iqr))\n",
    "\n",
    "    cut_off = iqr * 1.5\n",
    "\n",
    "    lower, upper = q25 - cut_off, q75 + cut_off\n",
    "\n",
    "    print('Lower: ' ,lower, ' upper:' ,upper)\n",
    "\n",
    "    return lower, upper"
   ]
  },
  {
   "cell_type": "code",
   "execution_count": 16,
   "metadata": {},
   "outputs": [
    {
     "name": "stdout",
     "output_type": "stream",
     "text": [
      "['n24', 'rev24', 'revlast', 'elpsdm']\n",
      "--------------------------------------------------\n",
      "Percentiles: 25th=11.000, 75th=25.000, IQR=14.000\n",
      "Lower:  -10.0  upper: 46.0\n"
     ]
    },
    {
     "data": {
      "text/plain": [
       "(np.float64(-10.0), np.float64(46.0))"
      ]
     },
     "execution_count": 16,
     "metadata": {},
     "output_type": "execute_result"
    }
   ],
   "source": [
    "outlier_limit(df, outlier_cols)"
   ]
  },
  {
   "cell_type": "code",
   "execution_count": 17,
   "metadata": {},
   "outputs": [],
   "source": [
    "def remove_outlier(df, col, upper, lower):\n",
    "\n",
    "    outliers = [x for x in df[col] if x > upper]\n",
    "\n",
    "    print('Identified outliers: %d' % len(outliers))\n",
    "\n",
    "    outliers_removed = [x for x in df[col] if x >= lower  and x <= upper]\n",
    "\n",
    "    print('Non-outliers observations: %d' % len(outliers_removed))\n",
    "\n",
    "    final = np.where(df[col] > upper, upper, np.where(df[col] < lower, lower, df[col]))\n",
    "\n",
    "    return final"
   ]
  },
  {
   "cell_type": "code",
   "execution_count": 18,
   "metadata": {},
   "outputs": [
    {
     "name": "stdout",
     "output_type": "stream",
     "text": [
      "n24\n",
      "--------------------------------------------------\n",
      "Percentiles: 25th=4.000, 75th=14.000, IQR=10.000\n",
      "Lower:  -11.0  upper: 29.0\n",
      "Identified outliers: 70\n",
      "Non-outliers observations: 1930\n",
      "rev24\n",
      "--------------------------------------------------\n",
      "Percentiles: 25th=43.000, 75th=131.812, IQR=88.812\n",
      "Lower:  -90.21875  upper: 265.03125\n",
      "Identified outliers: 95\n",
      "Non-outliers observations: 1905\n",
      "revlast\n",
      "--------------------------------------------------\n",
      "Percentiles: 25th=10.000, 75th=20.000, IQR=10.000\n",
      "Lower:  -5.0  upper: 35.0\n",
      "Identified outliers: 61\n",
      "Non-outliers observations: 1939\n",
      "elpsdm\n",
      "--------------------------------------------------\n",
      "Percentiles: 25th=13.000, 75th=17.000, IQR=4.000\n",
      "Lower:  7.0  upper: 23.0\n",
      "Identified outliers: 5\n",
      "Non-outliers observations: 1902\n"
     ]
    }
   ],
   "source": [
    "for col in outlier_cols:\n",
    "    lower, upper = outlier_limit(df, col)\n",
    "    df[col] = remove_outlier(df, col, upper, lower)"
   ]
  },
  {
   "cell_type": "code",
   "execution_count": 19,
   "metadata": {},
   "outputs": [
    {
     "data": {
      "application/vnd.plotly.v1+json": {
       "config": {
        "plotlyServerURL": "https://plot.ly"
       },
       "data": [
        {
         "bingroup": "x",
         "hovertemplate": "elpsdm=%{x}<br>count=%{y}<extra></extra>",
         "legendgroup": "",
         "marker": {
          "color": "#636efa",
          "pattern": {
           "shape": ""
          }
         },
         "name": "",
         "nbinsx": 47,
         "orientation": "v",
         "showlegend": false,
         "type": "histogram",
         "x": {
          "bdata": "AAAAAAAAN0AAAAAAAAA3QAAAAAAAADdAAAAAAAAAN0AAAAAAAAA3QAAAAAAAADdAAAAAAAAAN0AAAAAAAAA3QAAAAAAAADdAAAAAAAAAN0AAAAAAAAA3QAAAAAAAADdAAAAAAAAAN0AAAAAAAAA3QAAAAAAAADdAAAAAAAAAN0AAAAAAAAA3QAAAAAAAADdAAAAAAAAAN0AAAAAAAAA3QAAAAAAAADdAAAAAAAAAN0AAAAAAAAA3QAAAAAAAADdAAAAAAAAAN0AAAAAAAAA3QAAAAAAAADdAAAAAAAAAN0AAAAAAAAA3QAAAAAAAADdAAAAAAAAAN0AAAAAAAAA3QAAAAAAAADdAAAAAAAAAN0AAAAAAAAA3QAAAAAAAADdAAAAAAAAAN0AAAAAAAAA3QAAAAAAAADdAAAAAAAAAN0AAAAAAAAA3QAAAAAAAADdAAAAAAAAAN0AAAAAAAAA3QAAAAAAAADdAAAAAAAAAN0AAAAAAAAA3QAAAAAAAADdAAAAAAAAAN0AAAAAAAAA3QAAAAAAAADdAAAAAAAAAN0AAAAAAAAA3QAAAAAAAADdAAAAAAAAAN0AAAAAAAAA3QAAAAAAAADdAAAAAAAAAN0AAAAAAAAA3QAAAAAAAADdAAAAAAAAAN0AAAAAAAAA3QAAAAAAAADdAAAAAAAAAN0AAAAAAAAA3QAAAAAAAADdAAAAAAAAAN0AAAAAAAAA3QAAAAAAAADdAAAAAAAAAN0AAAAAAAAA3QAAAAAAAADdAAAAAAAAAN0AAAAAAAAA3QAAAAAAAADdAAAAAAAAAN0AAAAAAAAA3QAAAAAAAADdAAAAAAAAAN0AAAAAAAAA3QAAAAAAAADdAAAAAAAAAN0AAAAAAAAA3QAAAAAAAADdAAAAAAAAAN0AAAAAAAAA3QAAAAAAAADdAAAAAAAAAN0AAAAAAAAA3QAAAAAAAADdAAAAAAAAAN0AAAAAAAAA3QAAAAAAAADdAAAAAAAAAN0AAAAAAAAA3QAAAAAAAADdAAAAAAAAAN0AAAAAAAAA3QAAAAAAAADdAAAAAAAAAN0AAAAAAAAA3QAAAAAAAADdAAAAAAAAANkAAAAAAAAA2QAAAAAAAADZAAAAAAAAANkAAAAAAAAA2QAAAAAAAADZAAAAAAAAANkAAAAAAAAA2QAAAAAAAADZAAAAAAAAANkAAAAAAAAA2QAAAAAAAADZAAAAAAAAANkAAAAAAAAA2QAAAAAAAADZAAAAAAAAANkAAAAAAAAA2QAAAAAAAADZAAAAAAAAANkAAAAAAAAA2QAAAAAAAADZAAAAAAAAANkAAAAAAAAA2QAAAAAAAADZAAAAAAAAANkAAAAAAAAA2QAAAAAAAADZAAAAAAAAANkAAAAAAAAA2QAAAAAAAADZAAAAAAAAANkAAAAAAAAA2QAAAAAAAADZAAAAAAAAANkAAAAAAAAA2QAAAAAAAADZAAAAAAAAANkAAAAAAAAA2QAAAAAAAADZAAAAAAAAANkAAAAAAAAA2QAAAAAAAADZAAAAAAAAANUAAAAAAAAA1QAAAAAAAADVAAAAAAAAANUAAAAAAAAA1QAAAAAAAADVAAAAAAAAANUAAAAAAAAA1QAAAAAAAADVAAAAAAAAANUAAAAAAAAA1QAAAAAAAADVAAAAAAAAANUAAAAAAAAA1QAAAAAAAADVAAAAAAAAANUAAAAAAAAA1QAAAAAAAADVAAAAAAAAANUAAAAAAAAA1QAAAAAAAADVAAAAAAAAANUAAAAAAAAA1QAAAAAAAADVAAAAAAAAANUAAAAAAAAA1QAAAAAAAADVAAAAAAAAANUAAAAAAAAA1QAAAAAAAADVAAAAAAAAANUAAAAAAAAA1QAAAAAAAADVAAAAAAAAANUAAAAAAAAA1QAAAAAAAADVAAAAAAAAANUAAAAAAAAA1QAAAAAAAADVAAAAAAAAANUAAAAAAAAA1QAAAAAAAADVAAAAAAAAANUAAAAAAAAA1QAAAAAAAADVAAAAAAAAANUAAAAAAAAA1QAAAAAAAADVAAAAAAAAANUAAAAAAAAA1QAAAAAAAADVAAAAAAAAANUAAAAAAAAA1QAAAAAAAADVAAAAAAAAANUAAAAAAAAA1QAAAAAAAADVAAAAAAAAANUAAAAAAAAA1QAAAAAAAADVAAAAAAAAANUAAAAAAAAA1QAAAAAAAADVAAAAAAAAANUAAAAAAAAA1QAAAAAAAADVAAAAAAAAANUAAAAAAAAA1QAAAAAAAADVAAAAAAAAANUAAAAAAAAA1QAAAAAAAADVAAAAAAAAANUAAAAAAAAA1QAAAAAAAADVAAAAAAAAANUAAAAAAAAA1QAAAAAAAADVAAAAAAAAANUAAAAAAAAA1QAAAAAAAADVAAAAAAAAANUAAAAAAAAA1QAAAAAAAADVAAAAAAAAANUAAAAAAAAA1QAAAAAAAADRAAAAAAAAANEAAAAAAAAA0QAAAAAAAADRAAAAAAAAANEAAAAAAAAA0QAAAAAAAADRAAAAAAAAANEAAAAAAAAA0QAAAAAAAADRAAAAAAAAANEAAAAAAAAA0QAAAAAAAADRAAAAAAAAANEAAAAAAAAA0QAAAAAAAADRAAAAAAAAANEAAAAAAAAA0QAAAAAAAADRAAAAAAAAANEAAAAAAAAA0QAAAAAAAADRAAAAAAAAANEAAAAAAAAA0QAAAAAAAADRAAAAAAAAANEAAAAAAAAA0QAAAAAAAADRAAAAAAAAANEAAAAAAAAA0QAAAAAAAADRAAAAAAAAANEAAAAAAAAA0QAAAAAAAADRAAAAAAAAANEAAAAAAAAA0QAAAAAAAADRAAAAAAAAANEAAAAAAAAA0QAAAAAAAADRAAAAAAAAANEAAAAAAAAA0QAAAAAAAADRAAAAAAAAANEAAAAAAAAA0QAAAAAAAADRAAAAAAAAANEAAAAAAAAA0QAAAAAAAADRAAAAAAAAANEAAAAAAAAA0QAAAAAAAADRAAAAAAAAANEAAAAAAAAA0QAAAAAAAADNAAAAAAAAAM0AAAAAAAAAzQAAAAAAAADNAAAAAAAAAM0AAAAAAAAAzQAAAAAAAADNAAAAAAAAAM0AAAAAAAAAzQAAAAAAAADNAAAAAAAAAM0AAAAAAAAAzQAAAAAAAADNAAAAAAAAAM0AAAAAAAAAzQAAAAAAAADNAAAAAAAAAM0AAAAAAAAAzQAAAAAAAADNAAAAAAAAAM0AAAAAAAAAzQAAAAAAAADNAAAAAAAAAM0AAAAAAAAAzQAAAAAAAADNAAAAAAAAAM0AAAAAAAAAzQAAAAAAAADNAAAAAAAAAM0AAAAAAAAAzQAAAAAAAADNAAAAAAAAAM0AAAAAAAAAzQAAAAAAAADNAAAAAAAAAM0AAAAAAAAAzQAAAAAAAADNAAAAAAAAAM0AAAAAAAAAzQAAAAAAAADNAAAAAAAAAM0AAAAAAAAAzQAAAAAAAADNAAAAAAAAAM0AAAAAAAAAzQAAAAAAAADNAAAAAAAAAM0AAAAAAAAAzQAAAAAAAADNAAAAAAAAAM0AAAAAAAAAzQAAAAAAAADNAAAAAAAAAM0AAAAAAAAAzQAAAAAAAADNAAAAAAAAAM0AAAAAAAAAzQAAAAAAAADNAAAAAAAAAM0AAAAAAAAAzQAAAAAAAADNAAAAAAAAAMkAAAAAAAAAyQAAAAAAAADJAAAAAAAAAMkAAAAAAAAAyQAAAAAAAADJAAAAAAAAAMkAAAAAAAAAyQAAAAAAAADJAAAAAAAAAMkAAAAAAAAAyQAAAAAAAADJAAAAAAAAAMkAAAAAAAAAyQAAAAAAAADJAAAAAAAAAMkAAAAAAAAAyQAAAAAAAADJAAAAAAAAAMkAAAAAAAAAyQAAAAAAAADJAAAAAAAAAMkAAAAAAAAAyQAAAAAAAADJAAAAAAAAAMkAAAAAAAAAyQAAAAAAAADJAAAAAAAAAMkAAAAAAAAAyQAAAAAAAADJAAAAAAAAAMkAAAAAAAAAyQAAAAAAAADJAAAAAAAAAMkAAAAAAAAAyQAAAAAAAADJAAAAAAAAAMkAAAAAAAAAyQAAAAAAAADJAAAAAAAAAMkAAAAAAAAAyQAAAAAAAADJAAAAAAAAAMkAAAAAAAAAyQAAAAAAAADJAAAAAAAAAMkAAAAAAAAAyQAAAAAAAADJAAAAAAAAAMkAAAAAAAAAyQAAAAAAAADJAAAAAAAAAMkAAAAAAAAAyQAAAAAAAADJAAAAAAAAAMkAAAAAAAAAyQAAAAAAAADJAAAAAAAAAMkAAAAAAAAAyQAAAAAAAADJAAAAAAAAAMkAAAAAAAAAyQAAAAAAAADJAAAAAAAAAMkAAAAAAAAAyQAAAAAAAADJAAAAAAAAAMkAAAAAAAAAyQAAAAAAAADJAAAAAAAAAMkAAAAAAAAAyQAAAAAAAADJAAAAAAAAAMkAAAAAAAAAyQAAAAAAAADJAAAAAAAAAMkAAAAAAAAAyQAAAAAAAADJAAAAAAAAAMkAAAAAAAAAyQAAAAAAAADJAAAAAAAAAMkAAAAAAAAAyQAAAAAAAADJAAAAAAAAAMkAAAAAAAAAyQAAAAAAAADJAAAAAAAAAMkAAAAAAAAAyQAAAAAAAADJAAAAAAAAAMkAAAAAAAAAyQAAAAAAAADJAAAAAAAAAMkAAAAAAAAAyQAAAAAAAADJAAAAAAAAAMkAAAAAAAAAyQAAAAAAAADJAAAAAAAAAMkAAAAAAAAAyQAAAAAAAADJAAAAAAAAAMkAAAAAAAAAyQAAAAAAAADJAAAAAAAAAMkAAAAAAAAAyQAAAAAAAADJAAAAAAAAAMkAAAAAAAAAyQAAAAAAAADJAAAAAAAAAMkAAAAAAAAAyQAAAAAAAADJAAAAAAAAAMkAAAAAAAAAyQAAAAAAAADJAAAAAAAAAMkAAAAAAAAAyQAAAAAAAADJAAAAAAAAAMkAAAAAAAAAyQAAAAAAAADJAAAAAAAAAMkAAAAAAAAAyQAAAAAAAADFAAAAAAAAAMUAAAAAAAAAxQAAAAAAAADFAAAAAAAAAMUAAAAAAAAAxQAAAAAAAADFAAAAAAAAAMUAAAAAAAAAxQAAAAAAAADFAAAAAAAAAMUAAAAAAAAAxQAAAAAAAADFAAAAAAAAAMUAAAAAAAAAxQAAAAAAAADFAAAAAAAAAMUAAAAAAAAAxQAAAAAAAADFAAAAAAAAAMUAAAAAAAAAxQAAAAAAAADFAAAAAAAAAMUAAAAAAAAAxQAAAAAAAADFAAAAAAAAAMUAAAAAAAAAxQAAAAAAAADFAAAAAAAAAMUAAAAAAAAAxQAAAAAAAADFAAAAAAAAAMUAAAAAAAAAxQAAAAAAAADFAAAAAAAAAMUAAAAAAAAAxQAAAAAAAADFAAAAAAAAAMUAAAAAAAAAxQAAAAAAAADFAAAAAAAAAMUAAAAAAAAAxQAAAAAAAADFAAAAAAAAAMUAAAAAAAAAxQAAAAAAAADFAAAAAAAAAMUAAAAAAAAAxQAAAAAAAADFAAAAAAAAAMUAAAAAAAAAxQAAAAAAAADFAAAAAAAAAMUAAAAAAAAAxQAAAAAAAADFAAAAAAAAAMUAAAAAAAAAxQAAAAAAAADFAAAAAAAAAMUAAAAAAAAAxQAAAAAAAADFAAAAAAAAAMUAAAAAAAAAxQAAAAAAAADFAAAAAAAAAMUAAAAAAAAAxQAAAAAAAADFAAAAAAAAAMUAAAAAAAAAxQAAAAAAAADFAAAAAAAAAMUAAAAAAAAAxQAAAAAAAADFAAAAAAAAAMUAAAAAAAAAxQAAAAAAAADFAAAAAAAAAMUAAAAAAAAAxQAAAAAAAADFAAAAAAAAAMUAAAAAAAAAxQAAAAAAAADFAAAAAAAAAMUAAAAAAAAAxQAAAAAAAADFAAAAAAAAAMUAAAAAAAAAxQAAAAAAAADFAAAAAAAAAMUAAAAAAAAAxQAAAAAAAADFAAAAAAAAAMUAAAAAAAAAxQAAAAAAAADFAAAAAAAAAMUAAAAAAAAAxQAAAAAAAADFAAAAAAAAAMUAAAAAAAAAxQAAAAAAAADFAAAAAAAAAMUAAAAAAAAAxQAAAAAAAADFAAAAAAAAAMUAAAAAAAAAxQAAAAAAAADFAAAAAAAAAMUAAAAAAAAAxQAAAAAAAADFAAAAAAAAAMEAAAAAAAAAwQAAAAAAAADBAAAAAAAAAMEAAAAAAAAAwQAAAAAAAADBAAAAAAAAAMEAAAAAAAAAwQAAAAAAAADBAAAAAAAAAMEAAAAAAAAAwQAAAAAAAADBAAAAAAAAAMEAAAAAAAAAwQAAAAAAAADBAAAAAAAAAMEAAAAAAAAAwQAAAAAAAADBAAAAAAAAAMEAAAAAAAAAwQAAAAAAAADBAAAAAAAAAMEAAAAAAAAAwQAAAAAAAADBAAAAAAAAAMEAAAAAAAAAwQAAAAAAAADBAAAAAAAAAMEAAAAAAAAAwQAAAAAAAADBAAAAAAAAAMEAAAAAAAAAwQAAAAAAAADBAAAAAAAAAMEAAAAAAAAAwQAAAAAAAADBAAAAAAAAAMEAAAAAAAAAwQAAAAAAAADBAAAAAAAAAMEAAAAAAAAAwQAAAAAAAADBAAAAAAAAAMEAAAAAAAAAwQAAAAAAAADBAAAAAAAAAMEAAAAAAAAAwQAAAAAAAADBAAAAAAAAAMEAAAAAAAAAwQAAAAAAAADBAAAAAAAAAMEAAAAAAAAAwQAAAAAAAADBAAAAAAAAAMEAAAAAAAAAwQAAAAAAAADBAAAAAAAAAMEAAAAAAAAAwQAAAAAAAADBAAAAAAAAAMEAAAAAAAAAwQAAAAAAAADBAAAAAAAAAMEAAAAAAAAAwQAAAAAAAADBAAAAAAAAAMEAAAAAAAAAwQAAAAAAAADBAAAAAAAAAMEAAAAAAAAAwQAAAAAAAADBAAAAAAAAAMEAAAAAAAAAwQAAAAAAAADBAAAAAAAAAMEAAAAAAAAAwQAAAAAAAADBAAAAAAAAAMEAAAAAAAAAwQAAAAAAAADBAAAAAAAAAMEAAAAAAAAAwQAAAAAAAADBAAAAAAAAAMEAAAAAAAAAwQAAAAAAAADBAAAAAAAAAMEAAAAAAAAAwQAAAAAAAADBAAAAAAAAAMEAAAAAAAAAwQAAAAAAAADBAAAAAAAAAMEAAAAAAAAAwQAAAAAAAADBAAAAAAAAAMEAAAAAAAAAwQAAAAAAAADBAAAAAAAAAMEAAAAAAAAAwQAAAAAAAADBAAAAAAAAAMEAAAAAAAAAwQAAAAAAAADBAAAAAAAAAMEAAAAAAAAAwQAAAAAAAADBAAAAAAAAAMEAAAAAAAAAwQAAAAAAAADBAAAAAAAAAMEAAAAAAAAAwQAAAAAAAADBAAAAAAAAAMEAAAAAAAAAwQAAAAAAAADBAAAAAAAAAMEAAAAAAAAAwQAAAAAAAADBAAAAAAAAAMEAAAAAAAAAwQAAAAAAAADBAAAAAAAAAMEAAAAAAAAAwQAAAAAAAADBAAAAAAAAAMEAAAAAAAAAwQAAAAAAAADBAAAAAAAAAMEAAAAAAAAAwQAAAAAAAADBAAAAAAAAAMEAAAAAAAAAwQAAAAAAAADBAAAAAAAAAMEAAAAAAAAAwQAAAAAAAADBAAAAAAAAAMEAAAAAAAAAwQAAAAAAAADBAAAAAAAAAMEAAAAAAAAAwQAAAAAAAADBAAAAAAAAAMEAAAAAAAAAwQAAAAAAAADBAAAAAAAAAMEAAAAAAAAAwQAAAAAAAADBAAAAAAAAAMEAAAAAAAAAwQAAAAAAAADBAAAAAAAAAMEAAAAAAAAAwQAAAAAAAADBAAAAAAAAAMEAAAAAAAAAwQAAAAAAAADBAAAAAAAAAMEAAAAAAAAAwQAAAAAAAADBAAAAAAAAAMEAAAAAAAAAwQAAAAAAAADBAAAAAAAAAMEAAAAAAAAAwQAAAAAAAADBAAAAAAAAAMEAAAAAAAAAwQAAAAAAAADBAAAAAAAAAMEAAAAAAAAAuQAAAAAAAAC5AAAAAAAAALkAAAAAAAAAuQAAAAAAAAC5AAAAAAAAALkAAAAAAAAAuQAAAAAAAAC5AAAAAAAAALkAAAAAAAAAuQAAAAAAAAC5AAAAAAAAALkAAAAAAAAAuQAAAAAAAAC5AAAAAAAAALkAAAAAAAAAuQAAAAAAAAC5AAAAAAAAALkAAAAAAAAAuQAAAAAAAAC5AAAAAAAAALkAAAAAAAAAuQAAAAAAAAC5AAAAAAAAALkAAAAAAAAAuQAAAAAAAAC5AAAAAAAAALkAAAAAAAAAuQAAAAAAAAC5AAAAAAAAALkAAAAAAAAAuQAAAAAAAAC5AAAAAAAAALkAAAAAAAAAuQAAAAAAAAC5AAAAAAAAALkAAAAAAAAAuQAAAAAAAAC5AAAAAAAAALkAAAAAAAAAuQAAAAAAAAC5AAAAAAAAALkAAAAAAAAAuQAAAAAAAAC5AAAAAAAAALkAAAAAAAAAuQAAAAAAAAC5AAAAAAAAALkAAAAAAAAAuQAAAAAAAAC5AAAAAAAAALkAAAAAAAAAuQAAAAAAAAC5AAAAAAAAALkAAAAAAAAAuQAAAAAAAAC5AAAAAAAAALkAAAAAAAAAuQAAAAAAAAC5AAAAAAAAALkAAAAAAAAAuQAAAAAAAAC5AAAAAAAAALkAAAAAAAAAuQAAAAAAAAC5AAAAAAAAALkAAAAAAAAAuQAAAAAAAAC5AAAAAAAAALkAAAAAAAAAuQAAAAAAAAC5AAAAAAAAALkAAAAAAAAAuQAAAAAAAAC5AAAAAAAAALkAAAAAAAAAuQAAAAAAAAC5AAAAAAAAALkAAAAAAAAAuQAAAAAAAAC5AAAAAAAAALkAAAAAAAAAuQAAAAAAAAC5AAAAAAAAALkAAAAAAAAAuQAAAAAAAAC5AAAAAAAAALkAAAAAAAAAuQAAAAAAAAC5AAAAAAAAALkAAAAAAAAAuQAAAAAAAAC5AAAAAAAAALkAAAAAAAAAuQAAAAAAAAC5AAAAAAAAALkAAAAAAAAAuQAAAAAAAAC5AAAAAAAAALkAAAAAAAAAuQAAAAAAAAC5AAAAAAAAALkAAAAAAAAAuQAAAAAAAAC5AAAAAAAAALkAAAAAAAAAuQAAAAAAAAC5AAAAAAAAALkAAAAAAAAAuQAAAAAAAAC5AAAAAAAAALkAAAAAAAAAuQAAAAAAAAC5AAAAAAAAALkAAAAAAAAAuQAAAAAAAAC5AAAAAAAAALkAAAAAAAAAuQAAAAAAAAC5AAAAAAAAALkAAAAAAAAAuQAAAAAAAAC5AAAAAAAAALkAAAAAAAAAuQAAAAAAAAC5AAAAAAAAALkAAAAAAAAAuQAAAAAAAAC5AAAAAAAAALkAAAAAAAAAuQAAAAAAAAC5AAAAAAAAALkAAAAAAAAAuQAAAAAAAAC5AAAAAAAAALkAAAAAAAAAuQAAAAAAAAC5AAAAAAAAALkAAAAAAAAAuQAAAAAAAAC5AAAAAAAAALkAAAAAAAAAuQAAAAAAAAC5AAAAAAAAALkAAAAAAAAAuQAAAAAAAAC5AAAAAAAAALkAAAAAAAAAuQAAAAAAAAC5AAAAAAAAALkAAAAAAAAAuQAAAAAAAAC5AAAAAAAAALkAAAAAAAAAuQAAAAAAAAC5AAAAAAAAALkAAAAAAAAAuQAAAAAAAAC5AAAAAAAAALkAAAAAAAAAuQAAAAAAAAC5AAAAAAAAALkAAAAAAAAAuQAAAAAAAAC5AAAAAAAAALkAAAAAAAAAuQAAAAAAAAC5AAAAAAAAALkAAAAAAAAAuQAAAAAAAAC5AAAAAAAAALkAAAAAAAAAuQAAAAAAAAC5AAAAAAAAALkAAAAAAAAAuQAAAAAAAAC5AAAAAAAAALkAAAAAAAAAuQAAAAAAAAC5AAAAAAAAALkAAAAAAAAAuQAAAAAAAAC5AAAAAAAAALkAAAAAAAAAuQAAAAAAAAC5AAAAAAAAALkAAAAAAAAAuQAAAAAAAAC5AAAAAAAAALkAAAAAAAAAuQAAAAAAAAC5AAAAAAAAALkAAAAAAAAAuQAAAAAAAAC5AAAAAAAAALkAAAAAAAAAuQAAAAAAAAC5AAAAAAAAALkAAAAAAAAAuQAAAAAAAAC5AAAAAAAAALkAAAAAAAAAuQAAAAAAAAC5AAAAAAAAALkAAAAAAAAAuQAAAAAAAAC5AAAAAAAAALkAAAAAAAAAuQAAAAAAAAC5AAAAAAAAALkAAAAAAAAAuQAAAAAAAAC5AAAAAAAAALkAAAAAAAAAuQAAAAAAAAC5AAAAAAAAALkAAAAAAAAAuQAAAAAAAAC5AAAAAAAAALkAAAAAAAAAuQAAAAAAAAC5AAAAAAAAALkAAAAAAAAAuQAAAAAAAAC5AAAAAAAAALkAAAAAAAAAuQAAAAAAAAC5AAAAAAAAALkAAAAAAAAAuQAAAAAAAAC5AAAAAAAAALkAAAAAAAAAuQAAAAAAAAC5AAAAAAAAALkAAAAAAAAAuQAAAAAAAAC5AAAAAAAAALkAAAAAAAAAuQAAAAAAAAC5AAAAAAAAALkAAAAAAAAAuQAAAAAAAAC5AAAAAAAAALkAAAAAAAAAuQAAAAAAAAC5AAAAAAAAALkAAAAAAAAAuQAAAAAAAAC5AAAAAAAAALkAAAAAAAAAuQAAAAAAAAC5AAAAAAAAALkAAAAAAAAAuQAAAAAAAAC5AAAAAAAAALkAAAAAAAAAuQAAAAAAAAC5AAAAAAAAALkAAAAAAAAAuQAAAAAAAAC5AAAAAAAAALkAAAAAAAAAuQAAAAAAAAC5AAAAAAAAALkAAAAAAAAAuQAAAAAAAAC5AAAAAAAAALkAAAAAAAAAuQAAAAAAAAC5AAAAAAAAALkAAAAAAAAAuQAAAAAAAAC5AAAAAAAAALkAAAAAAAAAuQAAAAAAAAC5AAAAAAAAALkAAAAAAAAAuQAAAAAAAAC5AAAAAAAAALkAAAAAAAAAuQAAAAAAAAC5AAAAAAAAALkAAAAAAAAAuQAAAAAAAAC5AAAAAAAAALkAAAAAAAAAuQAAAAAAAAC5AAAAAAAAALkAAAAAAAAAuQAAAAAAAAC5AAAAAAAAALkAAAAAAAAAuQAAAAAAAAC5AAAAAAAAALkAAAAAAAAAuQAAAAAAAAC5AAAAAAAAALkAAAAAAAAAuQAAAAAAAAC5AAAAAAAAALkAAAAAAAAAuQAAAAAAAAC5AAAAAAAAALkAAAAAAAAAuQAAAAAAAAC5AAAAAAAAALkAAAAAAAAAuQAAAAAAAAC5AAAAAAAAALkAAAAAAAAAuQAAAAAAAAC5AAAAAAAAALkAAAAAAAAAuQAAAAAAAAC5AAAAAAAAALkAAAAAAAAAuQAAAAAAAAC5AAAAAAAAALkAAAAAAAAAuQAAAAAAAAC5AAAAAAAAALkAAAAAAAAAuQAAAAAAAAC5AAAAAAAAALkAAAAAAAAAuQAAAAAAAAC5AAAAAAAAALkAAAAAAAAAuQAAAAAAAAC5AAAAAAAAALkAAAAAAAAAuQAAAAAAAAC5AAAAAAAAALkAAAAAAAAAuQAAAAAAAAC5AAAAAAAAALkAAAAAAAAAuQAAAAAAAAC5AAAAAAAAALkAAAAAAAAAuQAAAAAAAAC5AAAAAAAAALkAAAAAAAAAuQAAAAAAAAC5AAAAAAAAALkAAAAAAAAAuQAAAAAAAAC5AAAAAAAAALkAAAAAAAAAuQAAAAAAAAC5AAAAAAAAALkAAAAAAAAAuQAAAAAAAAC5AAAAAAAAALkAAAAAAAAAuQAAAAAAAAC5AAAAAAAAALkAAAAAAAAAuQAAAAAAAAC5AAAAAAAAALkAAAAAAAAAuQAAAAAAAAC5AAAAAAAAALkAAAAAAAAAuQAAAAAAAAC5AAAAAAAAALkAAAAAAAAAuQAAAAAAAAC5AAAAAAAAALkAAAAAAAAAuQAAAAAAAAC5AAAAAAAAALkAAAAAAAAAuQAAAAAAAAC5AAAAAAAAALkAAAAAAAAAuQAAAAAAAAC5AAAAAAAAALkAAAAAAAAAuQAAAAAAAAC5AAAAAAAAALkAAAAAAAAAuQAAAAAAAAC5AAAAAAAAALkAAAAAAAAAuQAAAAAAAAC5AAAAAAAAALkAAAAAAAAAuQAAAAAAAAC5AAAAAAAAALkAAAAAAAAAuQAAAAAAAAC5AAAAAAAAALkAAAAAAAAAuQAAAAAAAAC5AAAAAAAAALkAAAAAAAAAuQAAAAAAAAC5AAAAAAAAALkAAAAAAAAAuQAAAAAAAAC5AAAAAAAAALkAAAAAAAAAuQAAAAAAAAC5AAAAAAAAALkAAAAAAAAAuQAAAAAAAAC5AAAAAAAAALkAAAAAAAAAuQAAAAAAAAC5AAAAAAAAALkAAAAAAAAAuQAAAAAAAAC5AAAAAAAAALkAAAAAAAAAuQAAAAAAAAC5AAAAAAAAALkAAAAAAAAAuQAAAAAAAACxAAAAAAAAALEAAAAAAAAAsQAAAAAAAACxAAAAAAAAALEAAAAAAAAAsQAAAAAAAACxAAAAAAAAALEAAAAAAAAAsQAAAAAAAACxAAAAAAAAALEAAAAAAAAAsQAAAAAAAACxAAAAAAAAALEAAAAAAAAAsQAAAAAAAACxAAAAAAAAALEAAAAAAAAAsQAAAAAAAACxAAAAAAAAALEAAAAAAAAAsQAAAAAAAACxAAAAAAAAALEAAAAAAAAAsQAAAAAAAACxAAAAAAAAALEAAAAAAAAAsQAAAAAAAACxAAAAAAAAALEAAAAAAAAAsQAAAAAAAACxAAAAAAAAALEAAAAAAAAAsQAAAAAAAACxAAAAAAAAALEAAAAAAAAAsQAAAAAAAACxAAAAAAAAALEAAAAAAAAAsQAAAAAAAACxAAAAAAAAALEAAAAAAAAAsQAAAAAAAACxAAAAAAAAALEAAAAAAAAAsQAAAAAAAACxAAAAAAAAALEAAAAAAAAAsQAAAAAAAACxAAAAAAAAALEAAAAAAAAAsQAAAAAAAACxAAAAAAAAALEAAAAAAAAAsQAAAAAAAACxAAAAAAAAALEAAAAAAAAAsQAAAAAAAACxAAAAAAAAALEAAAAAAAAAsQAAAAAAAACxAAAAAAAAALEAAAAAAAAAsQAAAAAAAACxAAAAAAAAALEAAAAAAAAAsQAAAAAAAACxAAAAAAAAALEAAAAAAAAAsQAAAAAAAACxAAAAAAAAALEAAAAAAAAAsQAAAAAAAACxAAAAAAAAALEAAAAAAAAAsQAAAAAAAACxAAAAAAAAALEAAAAAAAAAsQAAAAAAAACxAAAAAAAAALEAAAAAAAAAsQAAAAAAAACxAAAAAAAAALEAAAAAAAAAsQAAAAAAAACxAAAAAAAAALEAAAAAAAAAsQAAAAAAAACxAAAAAAAAALEAAAAAAAAAsQAAAAAAAACxAAAAAAAAALEAAAAAAAAAsQAAAAAAAACxAAAAAAAAALEAAAAAAAAAsQAAAAAAAACxAAAAAAAAALEAAAAAAAAAsQAAAAAAAACxAAAAAAAAALEAAAAAAAAAsQAAAAAAAACxAAAAAAAAALEAAAAAAAAAsQAAAAAAAACxAAAAAAAAALEAAAAAAAAAsQAAAAAAAACxAAAAAAAAALEAAAAAAAAAsQAAAAAAAACxAAAAAAAAALEAAAAAAAAAsQAAAAAAAACxAAAAAAAAALEAAAAAAAAAsQAAAAAAAACxAAAAAAAAALEAAAAAAAAAsQAAAAAAAACxAAAAAAAAALEAAAAAAAAAsQAAAAAAAACxAAAAAAAAALEAAAAAAAAAsQAAAAAAAACxAAAAAAAAALEAAAAAAAAAsQAAAAAAAACxAAAAAAAAALEAAAAAAAAAsQAAAAAAAACxAAAAAAAAALEAAAAAAAAAsQAAAAAAAACxAAAAAAAAALEAAAAAAAAAsQAAAAAAAACxAAAAAAAAALEAAAAAAAAAsQAAAAAAAACxAAAAAAAAALEAAAAAAAAAsQAAAAAAAACxAAAAAAAAALEAAAAAAAAAsQAAAAAAAACxAAAAAAAAALEAAAAAAAAAsQAAAAAAAACxAAAAAAAAALEAAAAAAAAAsQAAAAAAAACxAAAAAAAAALEAAAAAAAAAsQAAAAAAAACxAAAAAAAAALEAAAAAAAAAsQAAAAAAAACxAAAAAAAAALEAAAAAAAAAsQAAAAAAAACxAAAAAAAAALEAAAAAAAAAsQAAAAAAAACxAAAAAAAAALEAAAAAAAAAsQAAAAAAAACxAAAAAAAAALEAAAAAAAAAsQAAAAAAAACxAAAAAAAAALEAAAAAAAAAsQAAAAAAAACxAAAAAAAAALEAAAAAAAAAsQAAAAAAAACxAAAAAAAAALEAAAAAAAAAsQAAAAAAAACxAAAAAAAAALEAAAAAAAAAsQAAAAAAAACxAAAAAAAAALEAAAAAAAAAsQAAAAAAAACxAAAAAAAAALEAAAAAAAAAsQAAAAAAAACxAAAAAAAAALEAAAAAAAAAsQAAAAAAAACxAAAAAAAAALEAAAAAAAAAsQAAAAAAAACxAAAAAAAAALEAAAAAAAAAsQAAAAAAAACxAAAAAAAAALEAAAAAAAAAsQAAAAAAAACxAAAAAAAAALEAAAAAAAAAsQAAAAAAAACxAAAAAAAAALEAAAAAAAAAsQAAAAAAAACxAAAAAAAAALEAAAAAAAAAsQAAAAAAAACxAAAAAAAAALEAAAAAAAAAsQAAAAAAAACxAAAAAAAAALEAAAAAAAAAsQAAAAAAAACxAAAAAAAAALEAAAAAAAAAsQAAAAAAAACxAAAAAAAAALEAAAAAAAAAsQAAAAAAAACxAAAAAAAAALEAAAAAAAAAsQAAAAAAAACxAAAAAAAAALEAAAAAAAAAsQAAAAAAAACxAAAAAAAAALEAAAAAAAAAsQAAAAAAAACxAAAAAAAAALEAAAAAAAAAsQAAAAAAAACxAAAAAAAAALEAAAAAAAAAsQAAAAAAAACxAAAAAAAAALEAAAAAAAAAsQAAAAAAAACxAAAAAAAAALEAAAAAAAAAsQAAAAAAAACxAAAAAAAAALEAAAAAAAAAsQAAAAAAAACxAAAAAAAAALEAAAAAAAAAsQAAAAAAAACxAAAAAAAAALEAAAAAAAAAsQAAAAAAAACxAAAAAAAAALEAAAAAAAAAsQAAAAAAAACxAAAAAAAAALEAAAAAAAAAqQAAAAAAAACpAAAAAAAAAKkAAAAAAAAAqQAAAAAAAACpAAAAAAAAAKkAAAAAAAAAqQAAAAAAAACpAAAAAAAAAKkAAAAAAAAAqQAAAAAAAACpAAAAAAAAAKkAAAAAAAAAqQAAAAAAAACpAAAAAAAAAKkAAAAAAAAAqQAAAAAAAACpAAAAAAAAAKkAAAAAAAAAqQAAAAAAAACpAAAAAAAAAKkAAAAAAAAAqQAAAAAAAACpAAAAAAAAAKkAAAAAAAAAqQAAAAAAAACpAAAAAAAAAKkAAAAAAAAAqQAAAAAAAACpAAAAAAAAAKkAAAAAAAAAqQAAAAAAAACpAAAAAAAAAKkAAAAAAAAAqQAAAAAAAACpAAAAAAAAAKkAAAAAAAAAqQAAAAAAAACpAAAAAAAAAKkAAAAAAAAAqQAAAAAAAACpAAAAAAAAAKkAAAAAAAAAqQAAAAAAAACpAAAAAAAAAKkAAAAAAAAAqQAAAAAAAACpAAAAAAAAAKkAAAAAAAAAqQAAAAAAAACpAAAAAAAAAKkAAAAAAAAAqQAAAAAAAACpAAAAAAAAAKkAAAAAAAAAqQAAAAAAAACpAAAAAAAAAKkAAAAAAAAAqQAAAAAAAACpAAAAAAAAAKkAAAAAAAAAqQAAAAAAAACpAAAAAAAAAKkAAAAAAAAAqQAAAAAAAACpAAAAAAAAAKkAAAAAAAAAqQAAAAAAAACpAAAAAAAAAKkAAAAAAAAAqQAAAAAAAACpAAAAAAAAAKkAAAAAAAAAqQAAAAAAAACpAAAAAAAAAKkAAAAAAAAAqQAAAAAAAACpAAAAAAAAAKkAAAAAAAAAqQAAAAAAAACpAAAAAAAAAKkAAAAAAAAAqQAAAAAAAACpAAAAAAAAAKkAAAAAAAAAqQAAAAAAAACpAAAAAAAAAKkAAAAAAAAAqQAAAAAAAACpAAAAAAAAAKkAAAAAAAAAqQAAAAAAAACpAAAAAAAAAKkAAAAAAAAAqQAAAAAAAACpAAAAAAAAAKkAAAAAAAAAqQAAAAAAAACpAAAAAAAAAKkAAAAAAAAAqQAAAAAAAACpAAAAAAAAAKkAAAAAAAAAqQAAAAAAAACpAAAAAAAAAKkAAAAAAAAAqQAAAAAAAACpAAAAAAAAAKkAAAAAAAAAqQAAAAAAAACpAAAAAAAAAKkAAAAAAAAAqQAAAAAAAACpAAAAAAAAAKkAAAAAAAAAqQAAAAAAAACpAAAAAAAAAKkAAAAAAAAAqQAAAAAAAACpAAAAAAAAAKkAAAAAAAAAqQAAAAAAAACpAAAAAAAAAKkAAAAAAAAAqQAAAAAAAACpAAAAAAAAAKkAAAAAAAAAqQAAAAAAAACpAAAAAAAAAKkAAAAAAAAAqQAAAAAAAACpAAAAAAAAAKkAAAAAAAAAqQAAAAAAAACpAAAAAAAAAKkAAAAAAAAAqQAAAAAAAACpAAAAAAAAAKkAAAAAAAAAqQAAAAAAAACpAAAAAAAAAKkAAAAAAAAAqQAAAAAAAACpAAAAAAAAAKkAAAAAAAAAqQAAAAAAAACpAAAAAAAAAKkAAAAAAAAAqQAAAAAAAACpAAAAAAAAAKkAAAAAAAAAqQAAAAAAAACpAAAAAAAAAKkAAAAAAAAAqQAAAAAAAACpAAAAAAAAAKkAAAAAAAAAqQAAAAAAAACpAAAAAAAAAKkAAAAAAAAAqQAAAAAAAACpAAAAAAAAAKkAAAAAAAAAqQAAAAAAAACpAAAAAAAAAKkAAAAAAAAAqQAAAAAAAACpAAAAAAAAAKkAAAAAAAAAqQAAAAAAAACpAAAAAAAAAKkAAAAAAAAAqQAAAAAAAACpAAAAAAAAAKkAAAAAAAAAqQAAAAAAAACpAAAAAAAAAKkAAAAAAAAAqQAAAAAAAACpAAAAAAAAAKkAAAAAAAAAqQAAAAAAAACpAAAAAAAAAKkAAAAAAAAAqQAAAAAAAACpAAAAAAAAAKkAAAAAAAAAqQAAAAAAAACpAAAAAAAAAKkAAAAAAAAAqQAAAAAAAACpAAAAAAAAAKkAAAAAAAAAqQAAAAAAAACpAAAAAAAAAKkAAAAAAAAAqQAAAAAAAACpAAAAAAAAAKkAAAAAAAAAqQAAAAAAAACpAAAAAAAAAKkAAAAAAAAAqQAAAAAAAACpAAAAAAAAAKkAAAAAAAAAqQAAAAAAAACpAAAAAAAAAKkAAAAAAAAAqQAAAAAAAACpAAAAAAAAAKkAAAAAAAAAqQAAAAAAAACpAAAAAAAAAKkAAAAAAAAAqQAAAAAAAACpAAAAAAAAAKkAAAAAAAAAqQAAAAAAAACpAAAAAAAAAKkAAAAAAAAAqQAAAAAAAACpAAAAAAAAAKkAAAAAAAAAqQAAAAAAAACpAAAAAAAAAKkAAAAAAAAAqQAAAAAAAACpAAAAAAAAAKEAAAAAAAAAoQAAAAAAAAChAAAAAAAAAKEAAAAAAAAAoQAAAAAAAAChAAAAAAAAAKEAAAAAAAAAoQAAAAAAAAChAAAAAAAAAKEAAAAAAAAAoQAAAAAAAAChAAAAAAAAAKEAAAAAAAAAoQAAAAAAAAChAAAAAAAAAKEAAAAAAAAAoQAAAAAAAAChAAAAAAAAAKEAAAAAAAAAoQAAAAAAAAChAAAAAAAAAKEAAAAAAAAAoQAAAAAAAAChAAAAAAAAAKEAAAAAAAAAoQAAAAAAAAChAAAAAAAAAKEAAAAAAAAAoQAAAAAAAAChAAAAAAAAAKEAAAAAAAAAoQAAAAAAAAChAAAAAAAAAKEAAAAAAAAAoQAAAAAAAAChAAAAAAAAAKEAAAAAAAAAoQAAAAAAAAChAAAAAAAAAKEAAAAAAAAAoQAAAAAAAAChAAAAAAAAAKEAAAAAAAAAoQAAAAAAAAChAAAAAAAAAKEAAAAAAAAAoQAAAAAAAAChAAAAAAAAAKEAAAAAAAAAoQAAAAAAAAChAAAAAAAAAKEAAAAAAAAAoQAAAAAAAAChAAAAAAAAAKEAAAAAAAAAoQAAAAAAAAChAAAAAAAAAKEAAAAAAAAAoQAAAAAAAAChAAAAAAAAAKEAAAAAAAAAoQAAAAAAAAChAAAAAAAAAKEAAAAAAAAAoQAAAAAAAAChAAAAAAAAAKEAAAAAAAAAoQAAAAAAAAChAAAAAAAAAKEAAAAAAAAAoQAAAAAAAAChAAAAAAAAAKEAAAAAAAAAoQAAAAAAAAChAAAAAAAAAKEAAAAAAAAAoQAAAAAAAAChAAAAAAAAAKEAAAAAAAAAoQAAAAAAAAChAAAAAAAAAKEAAAAAAAAAoQAAAAAAAAChAAAAAAAAAKEAAAAAAAAAoQAAAAAAAAChAAAAAAAAAKEAAAAAAAAAoQAAAAAAAAChAAAAAAAAAKEAAAAAAAAAoQAAAAAAAAChAAAAAAAAAKEAAAAAAAAAoQAAAAAAAAChAAAAAAAAAKEAAAAAAAAAoQAAAAAAAAChAAAAAAAAAKEAAAAAAAAAoQAAAAAAAAChAAAAAAAAAKEAAAAAAAAAoQAAAAAAAAChAAAAAAAAAKEAAAAAAAAAoQAAAAAAAAChAAAAAAAAAKEAAAAAAAAAoQAAAAAAAAChAAAAAAAAAKEAAAAAAAAAoQAAAAAAAAChAAAAAAAAAKEAAAAAAAAAoQAAAAAAAAChAAAAAAAAAKEAAAAAAAAAoQAAAAAAAAChAAAAAAAAAKEAAAAAAAAAoQAAAAAAAAChAAAAAAAAAKEAAAAAAAAAoQAAAAAAAAChAAAAAAAAAKEAAAAAAAAAoQAAAAAAAAChAAAAAAAAAKEAAAAAAAAAoQAAAAAAAAChAAAAAAAAAKEAAAAAAAAAoQAAAAAAAAChAAAAAAAAAKEAAAAAAAAAoQAAAAAAAAChAAAAAAAAAKEAAAAAAAAAoQAAAAAAAAChAAAAAAAAAKEAAAAAAAAAoQAAAAAAAAChAAAAAAAAAKEAAAAAAAAAoQAAAAAAAAChAAAAAAAAAKEAAAAAAAAAoQAAAAAAAAChAAAAAAAAAKEAAAAAAAAAoQAAAAAAAAChAAAAAAAAAKEAAAAAAAAAoQAAAAAAAAChAAAAAAAAAKEAAAAAAAAAoQAAAAAAAAChAAAAAAAAAKEAAAAAAAAAoQAAAAAAAAChAAAAAAAAAKEAAAAAAAAAoQAAAAAAAAChAAAAAAAAAKEAAAAAAAAAoQAAAAAAAAChAAAAAAAAAKEAAAAAAAAAoQAAAAAAAAChAAAAAAAAAKEAAAAAAAAAoQAAAAAAAAChAAAAAAAAAKEAAAAAAAAAoQAAAAAAAAChAAAAAAAAAKEAAAAAAAAAoQAAAAAAAAChAAAAAAAAAKEAAAAAAAAAoQAAAAAAAAChAAAAAAAAAKEAAAAAAAAAoQAAAAAAAAChAAAAAAAAAKEAAAAAAAAAoQAAAAAAAAChAAAAAAAAAKEAAAAAAAAAoQAAAAAAAAChAAAAAAAAAKEAAAAAAAAAoQAAAAAAAAChAAAAAAAAAKEAAAAAAAAAoQAAAAAAAAChAAAAAAAAAKEAAAAAAAAAoQAAAAAAAAChAAAAAAAAAKEAAAAAAAAAoQAAAAAAAAChAAAAAAAAAKEAAAAAAAAAoQAAAAAAAAChAAAAAAAAAKEAAAAAAAAAoQAAAAAAAAChAAAAAAAAAKEAAAAAAAAAoQAAAAAAAAChAAAAAAAAAKEAAAAAAAAAoQAAAAAAAAChAAAAAAAAAKEAAAAAAAAAoQAAAAAAAAChAAAAAAAAAKEAAAAAAAAAoQAAAAAAAAChAAAAAAAAAKEAAAAAAAAAoQAAAAAAAAChAAAAAAAAAKEAAAAAAAAAoQAAAAAAAAChAAAAAAAAAKEAAAAAAAAAoQAAAAAAAAChAAAAAAAAAKEAAAAAAAAAoQAAAAAAAAChAAAAAAAAAKEAAAAAAAAAmQAAAAAAAACZAAAAAAAAAJkAAAAAAAAAmQAAAAAAAACZAAAAAAAAAJkAAAAAAAAAkQAAAAAAAACJAAAAAAAAAIkAAAAAAAAAiQAAAAAAAACBAAAAAAAAAIEAAAAAAAAAgQAAAAAAAACBAAAAAAAAAIEAAAAAAAAAgQAAAAAAAABxAAAAAAAAAHEAAAAAAAAAcQAAAAAAAABxAAAAAAAAAHEAAAAAAAAAcQAAAAAAAABxAAAAAAAAAHEAAAAAAAAAcQAAAAAAAABxAAAAAAAAAHEAAAAAAAAAcQAAAAAAAABxAAAAAAAAAHEAAAAAAAAAcQAAAAAAAABxAAAAAAAAAHEAAAAAAAAAcQAAAAAAAABxAAAAAAAAAHEAAAAAAAAAcQAAAAAAAABxAAAAAAAAAHEAAAAAAAAAcQAAAAAAAABxAAAAAAAAAHEAAAAAAAAAcQAAAAAAAABxAAAAAAAAAHEAAAAAAAAAcQAAAAAAAABxAAAAAAAAAHEAAAAAAAAAcQAAAAAAAABxAAAAAAAAAHEAAAAAAAAAcQAAAAAAAABxAAAAAAAAAHEAAAAAAAAAcQAAAAAAAABxAAAAAAAAAHEAAAAAAAAAcQAAAAAAAABxAAAAAAAAAHEAAAAAAAAAcQAAAAAAAABxAAAAAAAAAHEAAAAAAAAAcQAAAAAAAABxAAAAAAAAAHEAAAAAAAAAcQAAAAAAAABxAAAAAAAAAHEAAAAAAAAAcQAAAAAAAABxAAAAAAAAAHEAAAAAAAAAcQAAAAAAAABxAAAAAAAAAHEAAAAAAAAAcQAAAAAAAABxAAAAAAAAAHEAAAAAAAAAcQAAAAAAAABxAAAAAAAAAHEAAAAAAAAAcQAAAAAAAABxAAAAAAAAAHEAAAAAAAAAcQAAAAAAAABxAAAAAAAAAHEAAAAAAAAAcQAAAAAAAABxAAAAAAAAAHEAAAAAAAAAcQAAAAAAAABxAAAAAAAAAHEAAAAAAAAAcQAAAAAAAABxAAAAAAAAAHEAAAAAAAAAcQAAAAAAAABxAAAAAAAAAHEAAAAAAAAAcQAAAAAAAABxAAAAAAAAAHEAAAAAAAAAcQAAAAAAAABxAAAAAAAAAHEAAAAAAAAAcQAAAAAAAABxAAAAAAAAAHEAAAAAAAAAcQAAAAAAAABxAAAAAAAAAHEAAAAAAAAAcQA==",
          "dtype": "f8"
         },
         "xaxis": "x",
         "yaxis": "y"
        },
        {
         "hovertemplate": "elpsdm=%{x}<extra></extra>",
         "legendgroup": "",
         "marker": {
          "color": "#636efa"
         },
         "name": "",
         "notched": true,
         "showlegend": false,
         "type": "box",
         "x": {
          "bdata": "AAAAAAAAN0AAAAAAAAA3QAAAAAAAADdAAAAAAAAAN0AAAAAAAAA3QAAAAAAAADdAAAAAAAAAN0AAAAAAAAA3QAAAAAAAADdAAAAAAAAAN0AAAAAAAAA3QAAAAAAAADdAAAAAAAAAN0AAAAAAAAA3QAAAAAAAADdAAAAAAAAAN0AAAAAAAAA3QAAAAAAAADdAAAAAAAAAN0AAAAAAAAA3QAAAAAAAADdAAAAAAAAAN0AAAAAAAAA3QAAAAAAAADdAAAAAAAAAN0AAAAAAAAA3QAAAAAAAADdAAAAAAAAAN0AAAAAAAAA3QAAAAAAAADdAAAAAAAAAN0AAAAAAAAA3QAAAAAAAADdAAAAAAAAAN0AAAAAAAAA3QAAAAAAAADdAAAAAAAAAN0AAAAAAAAA3QAAAAAAAADdAAAAAAAAAN0AAAAAAAAA3QAAAAAAAADdAAAAAAAAAN0AAAAAAAAA3QAAAAAAAADdAAAAAAAAAN0AAAAAAAAA3QAAAAAAAADdAAAAAAAAAN0AAAAAAAAA3QAAAAAAAADdAAAAAAAAAN0AAAAAAAAA3QAAAAAAAADdAAAAAAAAAN0AAAAAAAAA3QAAAAAAAADdAAAAAAAAAN0AAAAAAAAA3QAAAAAAAADdAAAAAAAAAN0AAAAAAAAA3QAAAAAAAADdAAAAAAAAAN0AAAAAAAAA3QAAAAAAAADdAAAAAAAAAN0AAAAAAAAA3QAAAAAAAADdAAAAAAAAAN0AAAAAAAAA3QAAAAAAAADdAAAAAAAAAN0AAAAAAAAA3QAAAAAAAADdAAAAAAAAAN0AAAAAAAAA3QAAAAAAAADdAAAAAAAAAN0AAAAAAAAA3QAAAAAAAADdAAAAAAAAAN0AAAAAAAAA3QAAAAAAAADdAAAAAAAAAN0AAAAAAAAA3QAAAAAAAADdAAAAAAAAAN0AAAAAAAAA3QAAAAAAAADdAAAAAAAAAN0AAAAAAAAA3QAAAAAAAADdAAAAAAAAAN0AAAAAAAAA3QAAAAAAAADdAAAAAAAAAN0AAAAAAAAA3QAAAAAAAADdAAAAAAAAAN0AAAAAAAAA3QAAAAAAAADdAAAAAAAAANkAAAAAAAAA2QAAAAAAAADZAAAAAAAAANkAAAAAAAAA2QAAAAAAAADZAAAAAAAAANkAAAAAAAAA2QAAAAAAAADZAAAAAAAAANkAAAAAAAAA2QAAAAAAAADZAAAAAAAAANkAAAAAAAAA2QAAAAAAAADZAAAAAAAAANkAAAAAAAAA2QAAAAAAAADZAAAAAAAAANkAAAAAAAAA2QAAAAAAAADZAAAAAAAAANkAAAAAAAAA2QAAAAAAAADZAAAAAAAAANkAAAAAAAAA2QAAAAAAAADZAAAAAAAAANkAAAAAAAAA2QAAAAAAAADZAAAAAAAAANkAAAAAAAAA2QAAAAAAAADZAAAAAAAAANkAAAAAAAAA2QAAAAAAAADZAAAAAAAAANkAAAAAAAAA2QAAAAAAAADZAAAAAAAAANkAAAAAAAAA2QAAAAAAAADZAAAAAAAAANUAAAAAAAAA1QAAAAAAAADVAAAAAAAAANUAAAAAAAAA1QAAAAAAAADVAAAAAAAAANUAAAAAAAAA1QAAAAAAAADVAAAAAAAAANUAAAAAAAAA1QAAAAAAAADVAAAAAAAAANUAAAAAAAAA1QAAAAAAAADVAAAAAAAAANUAAAAAAAAA1QAAAAAAAADVAAAAAAAAANUAAAAAAAAA1QAAAAAAAADVAAAAAAAAANUAAAAAAAAA1QAAAAAAAADVAAAAAAAAANUAAAAAAAAA1QAAAAAAAADVAAAAAAAAANUAAAAAAAAA1QAAAAAAAADVAAAAAAAAANUAAAAAAAAA1QAAAAAAAADVAAAAAAAAANUAAAAAAAAA1QAAAAAAAADVAAAAAAAAANUAAAAAAAAA1QAAAAAAAADVAAAAAAAAANUAAAAAAAAA1QAAAAAAAADVAAAAAAAAANUAAAAAAAAA1QAAAAAAAADVAAAAAAAAANUAAAAAAAAA1QAAAAAAAADVAAAAAAAAANUAAAAAAAAA1QAAAAAAAADVAAAAAAAAANUAAAAAAAAA1QAAAAAAAADVAAAAAAAAANUAAAAAAAAA1QAAAAAAAADVAAAAAAAAANUAAAAAAAAA1QAAAAAAAADVAAAAAAAAANUAAAAAAAAA1QAAAAAAAADVAAAAAAAAANUAAAAAAAAA1QAAAAAAAADVAAAAAAAAANUAAAAAAAAA1QAAAAAAAADVAAAAAAAAANUAAAAAAAAA1QAAAAAAAADVAAAAAAAAANUAAAAAAAAA1QAAAAAAAADVAAAAAAAAANUAAAAAAAAA1QAAAAAAAADVAAAAAAAAANUAAAAAAAAA1QAAAAAAAADVAAAAAAAAANUAAAAAAAAA1QAAAAAAAADVAAAAAAAAANUAAAAAAAAA1QAAAAAAAADRAAAAAAAAANEAAAAAAAAA0QAAAAAAAADRAAAAAAAAANEAAAAAAAAA0QAAAAAAAADRAAAAAAAAANEAAAAAAAAA0QAAAAAAAADRAAAAAAAAANEAAAAAAAAA0QAAAAAAAADRAAAAAAAAANEAAAAAAAAA0QAAAAAAAADRAAAAAAAAANEAAAAAAAAA0QAAAAAAAADRAAAAAAAAANEAAAAAAAAA0QAAAAAAAADRAAAAAAAAANEAAAAAAAAA0QAAAAAAAADRAAAAAAAAANEAAAAAAAAA0QAAAAAAAADRAAAAAAAAANEAAAAAAAAA0QAAAAAAAADRAAAAAAAAANEAAAAAAAAA0QAAAAAAAADRAAAAAAAAANEAAAAAAAAA0QAAAAAAAADRAAAAAAAAANEAAAAAAAAA0QAAAAAAAADRAAAAAAAAANEAAAAAAAAA0QAAAAAAAADRAAAAAAAAANEAAAAAAAAA0QAAAAAAAADRAAAAAAAAANEAAAAAAAAA0QAAAAAAAADRAAAAAAAAANEAAAAAAAAA0QAAAAAAAADRAAAAAAAAANEAAAAAAAAA0QAAAAAAAADNAAAAAAAAAM0AAAAAAAAAzQAAAAAAAADNAAAAAAAAAM0AAAAAAAAAzQAAAAAAAADNAAAAAAAAAM0AAAAAAAAAzQAAAAAAAADNAAAAAAAAAM0AAAAAAAAAzQAAAAAAAADNAAAAAAAAAM0AAAAAAAAAzQAAAAAAAADNAAAAAAAAAM0AAAAAAAAAzQAAAAAAAADNAAAAAAAAAM0AAAAAAAAAzQAAAAAAAADNAAAAAAAAAM0AAAAAAAAAzQAAAAAAAADNAAAAAAAAAM0AAAAAAAAAzQAAAAAAAADNAAAAAAAAAM0AAAAAAAAAzQAAAAAAAADNAAAAAAAAAM0AAAAAAAAAzQAAAAAAAADNAAAAAAAAAM0AAAAAAAAAzQAAAAAAAADNAAAAAAAAAM0AAAAAAAAAzQAAAAAAAADNAAAAAAAAAM0AAAAAAAAAzQAAAAAAAADNAAAAAAAAAM0AAAAAAAAAzQAAAAAAAADNAAAAAAAAAM0AAAAAAAAAzQAAAAAAAADNAAAAAAAAAM0AAAAAAAAAzQAAAAAAAADNAAAAAAAAAM0AAAAAAAAAzQAAAAAAAADNAAAAAAAAAM0AAAAAAAAAzQAAAAAAAADNAAAAAAAAAM0AAAAAAAAAzQAAAAAAAADNAAAAAAAAAMkAAAAAAAAAyQAAAAAAAADJAAAAAAAAAMkAAAAAAAAAyQAAAAAAAADJAAAAAAAAAMkAAAAAAAAAyQAAAAAAAADJAAAAAAAAAMkAAAAAAAAAyQAAAAAAAADJAAAAAAAAAMkAAAAAAAAAyQAAAAAAAADJAAAAAAAAAMkAAAAAAAAAyQAAAAAAAADJAAAAAAAAAMkAAAAAAAAAyQAAAAAAAADJAAAAAAAAAMkAAAAAAAAAyQAAAAAAAADJAAAAAAAAAMkAAAAAAAAAyQAAAAAAAADJAAAAAAAAAMkAAAAAAAAAyQAAAAAAAADJAAAAAAAAAMkAAAAAAAAAyQAAAAAAAADJAAAAAAAAAMkAAAAAAAAAyQAAAAAAAADJAAAAAAAAAMkAAAAAAAAAyQAAAAAAAADJAAAAAAAAAMkAAAAAAAAAyQAAAAAAAADJAAAAAAAAAMkAAAAAAAAAyQAAAAAAAADJAAAAAAAAAMkAAAAAAAAAyQAAAAAAAADJAAAAAAAAAMkAAAAAAAAAyQAAAAAAAADJAAAAAAAAAMkAAAAAAAAAyQAAAAAAAADJAAAAAAAAAMkAAAAAAAAAyQAAAAAAAADJAAAAAAAAAMkAAAAAAAAAyQAAAAAAAADJAAAAAAAAAMkAAAAAAAAAyQAAAAAAAADJAAAAAAAAAMkAAAAAAAAAyQAAAAAAAADJAAAAAAAAAMkAAAAAAAAAyQAAAAAAAADJAAAAAAAAAMkAAAAAAAAAyQAAAAAAAADJAAAAAAAAAMkAAAAAAAAAyQAAAAAAAADJAAAAAAAAAMkAAAAAAAAAyQAAAAAAAADJAAAAAAAAAMkAAAAAAAAAyQAAAAAAAADJAAAAAAAAAMkAAAAAAAAAyQAAAAAAAADJAAAAAAAAAMkAAAAAAAAAyQAAAAAAAADJAAAAAAAAAMkAAAAAAAAAyQAAAAAAAADJAAAAAAAAAMkAAAAAAAAAyQAAAAAAAADJAAAAAAAAAMkAAAAAAAAAyQAAAAAAAADJAAAAAAAAAMkAAAAAAAAAyQAAAAAAAADJAAAAAAAAAMkAAAAAAAAAyQAAAAAAAADJAAAAAAAAAMkAAAAAAAAAyQAAAAAAAADJAAAAAAAAAMkAAAAAAAAAyQAAAAAAAADJAAAAAAAAAMkAAAAAAAAAyQAAAAAAAADJAAAAAAAAAMkAAAAAAAAAyQAAAAAAAADJAAAAAAAAAMkAAAAAAAAAyQAAAAAAAADJAAAAAAAAAMkAAAAAAAAAyQAAAAAAAADJAAAAAAAAAMkAAAAAAAAAyQAAAAAAAADJAAAAAAAAAMkAAAAAAAAAyQAAAAAAAADFAAAAAAAAAMUAAAAAAAAAxQAAAAAAAADFAAAAAAAAAMUAAAAAAAAAxQAAAAAAAADFAAAAAAAAAMUAAAAAAAAAxQAAAAAAAADFAAAAAAAAAMUAAAAAAAAAxQAAAAAAAADFAAAAAAAAAMUAAAAAAAAAxQAAAAAAAADFAAAAAAAAAMUAAAAAAAAAxQAAAAAAAADFAAAAAAAAAMUAAAAAAAAAxQAAAAAAAADFAAAAAAAAAMUAAAAAAAAAxQAAAAAAAADFAAAAAAAAAMUAAAAAAAAAxQAAAAAAAADFAAAAAAAAAMUAAAAAAAAAxQAAAAAAAADFAAAAAAAAAMUAAAAAAAAAxQAAAAAAAADFAAAAAAAAAMUAAAAAAAAAxQAAAAAAAADFAAAAAAAAAMUAAAAAAAAAxQAAAAAAAADFAAAAAAAAAMUAAAAAAAAAxQAAAAAAAADFAAAAAAAAAMUAAAAAAAAAxQAAAAAAAADFAAAAAAAAAMUAAAAAAAAAxQAAAAAAAADFAAAAAAAAAMUAAAAAAAAAxQAAAAAAAADFAAAAAAAAAMUAAAAAAAAAxQAAAAAAAADFAAAAAAAAAMUAAAAAAAAAxQAAAAAAAADFAAAAAAAAAMUAAAAAAAAAxQAAAAAAAADFAAAAAAAAAMUAAAAAAAAAxQAAAAAAAADFAAAAAAAAAMUAAAAAAAAAxQAAAAAAAADFAAAAAAAAAMUAAAAAAAAAxQAAAAAAAADFAAAAAAAAAMUAAAAAAAAAxQAAAAAAAADFAAAAAAAAAMUAAAAAAAAAxQAAAAAAAADFAAAAAAAAAMUAAAAAAAAAxQAAAAAAAADFAAAAAAAAAMUAAAAAAAAAxQAAAAAAAADFAAAAAAAAAMUAAAAAAAAAxQAAAAAAAADFAAAAAAAAAMUAAAAAAAAAxQAAAAAAAADFAAAAAAAAAMUAAAAAAAAAxQAAAAAAAADFAAAAAAAAAMUAAAAAAAAAxQAAAAAAAADFAAAAAAAAAMUAAAAAAAAAxQAAAAAAAADFAAAAAAAAAMUAAAAAAAAAxQAAAAAAAADFAAAAAAAAAMUAAAAAAAAAxQAAAAAAAADFAAAAAAAAAMUAAAAAAAAAxQAAAAAAAADFAAAAAAAAAMUAAAAAAAAAxQAAAAAAAADFAAAAAAAAAMEAAAAAAAAAwQAAAAAAAADBAAAAAAAAAMEAAAAAAAAAwQAAAAAAAADBAAAAAAAAAMEAAAAAAAAAwQAAAAAAAADBAAAAAAAAAMEAAAAAAAAAwQAAAAAAAADBAAAAAAAAAMEAAAAAAAAAwQAAAAAAAADBAAAAAAAAAMEAAAAAAAAAwQAAAAAAAADBAAAAAAAAAMEAAAAAAAAAwQAAAAAAAADBAAAAAAAAAMEAAAAAAAAAwQAAAAAAAADBAAAAAAAAAMEAAAAAAAAAwQAAAAAAAADBAAAAAAAAAMEAAAAAAAAAwQAAAAAAAADBAAAAAAAAAMEAAAAAAAAAwQAAAAAAAADBAAAAAAAAAMEAAAAAAAAAwQAAAAAAAADBAAAAAAAAAMEAAAAAAAAAwQAAAAAAAADBAAAAAAAAAMEAAAAAAAAAwQAAAAAAAADBAAAAAAAAAMEAAAAAAAAAwQAAAAAAAADBAAAAAAAAAMEAAAAAAAAAwQAAAAAAAADBAAAAAAAAAMEAAAAAAAAAwQAAAAAAAADBAAAAAAAAAMEAAAAAAAAAwQAAAAAAAADBAAAAAAAAAMEAAAAAAAAAwQAAAAAAAADBAAAAAAAAAMEAAAAAAAAAwQAAAAAAAADBAAAAAAAAAMEAAAAAAAAAwQAAAAAAAADBAAAAAAAAAMEAAAAAAAAAwQAAAAAAAADBAAAAAAAAAMEAAAAAAAAAwQAAAAAAAADBAAAAAAAAAMEAAAAAAAAAwQAAAAAAAADBAAAAAAAAAMEAAAAAAAAAwQAAAAAAAADBAAAAAAAAAMEAAAAAAAAAwQAAAAAAAADBAAAAAAAAAMEAAAAAAAAAwQAAAAAAAADBAAAAAAAAAMEAAAAAAAAAwQAAAAAAAADBAAAAAAAAAMEAAAAAAAAAwQAAAAAAAADBAAAAAAAAAMEAAAAAAAAAwQAAAAAAAADBAAAAAAAAAMEAAAAAAAAAwQAAAAAAAADBAAAAAAAAAMEAAAAAAAAAwQAAAAAAAADBAAAAAAAAAMEAAAAAAAAAwQAAAAAAAADBAAAAAAAAAMEAAAAAAAAAwQAAAAAAAADBAAAAAAAAAMEAAAAAAAAAwQAAAAAAAADBAAAAAAAAAMEAAAAAAAAAwQAAAAAAAADBAAAAAAAAAMEAAAAAAAAAwQAAAAAAAADBAAAAAAAAAMEAAAAAAAAAwQAAAAAAAADBAAAAAAAAAMEAAAAAAAAAwQAAAAAAAADBAAAAAAAAAMEAAAAAAAAAwQAAAAAAAADBAAAAAAAAAMEAAAAAAAAAwQAAAAAAAADBAAAAAAAAAMEAAAAAAAAAwQAAAAAAAADBAAAAAAAAAMEAAAAAAAAAwQAAAAAAAADBAAAAAAAAAMEAAAAAAAAAwQAAAAAAAADBAAAAAAAAAMEAAAAAAAAAwQAAAAAAAADBAAAAAAAAAMEAAAAAAAAAwQAAAAAAAADBAAAAAAAAAMEAAAAAAAAAwQAAAAAAAADBAAAAAAAAAMEAAAAAAAAAwQAAAAAAAADBAAAAAAAAAMEAAAAAAAAAwQAAAAAAAADBAAAAAAAAAMEAAAAAAAAAwQAAAAAAAADBAAAAAAAAAMEAAAAAAAAAwQAAAAAAAADBAAAAAAAAAMEAAAAAAAAAwQAAAAAAAADBAAAAAAAAAMEAAAAAAAAAwQAAAAAAAADBAAAAAAAAAMEAAAAAAAAAwQAAAAAAAADBAAAAAAAAAMEAAAAAAAAAwQAAAAAAAADBAAAAAAAAAMEAAAAAAAAAwQAAAAAAAADBAAAAAAAAAMEAAAAAAAAAwQAAAAAAAADBAAAAAAAAAMEAAAAAAAAAuQAAAAAAAAC5AAAAAAAAALkAAAAAAAAAuQAAAAAAAAC5AAAAAAAAALkAAAAAAAAAuQAAAAAAAAC5AAAAAAAAALkAAAAAAAAAuQAAAAAAAAC5AAAAAAAAALkAAAAAAAAAuQAAAAAAAAC5AAAAAAAAALkAAAAAAAAAuQAAAAAAAAC5AAAAAAAAALkAAAAAAAAAuQAAAAAAAAC5AAAAAAAAALkAAAAAAAAAuQAAAAAAAAC5AAAAAAAAALkAAAAAAAAAuQAAAAAAAAC5AAAAAAAAALkAAAAAAAAAuQAAAAAAAAC5AAAAAAAAALkAAAAAAAAAuQAAAAAAAAC5AAAAAAAAALkAAAAAAAAAuQAAAAAAAAC5AAAAAAAAALkAAAAAAAAAuQAAAAAAAAC5AAAAAAAAALkAAAAAAAAAuQAAAAAAAAC5AAAAAAAAALkAAAAAAAAAuQAAAAAAAAC5AAAAAAAAALkAAAAAAAAAuQAAAAAAAAC5AAAAAAAAALkAAAAAAAAAuQAAAAAAAAC5AAAAAAAAALkAAAAAAAAAuQAAAAAAAAC5AAAAAAAAALkAAAAAAAAAuQAAAAAAAAC5AAAAAAAAALkAAAAAAAAAuQAAAAAAAAC5AAAAAAAAALkAAAAAAAAAuQAAAAAAAAC5AAAAAAAAALkAAAAAAAAAuQAAAAAAAAC5AAAAAAAAALkAAAAAAAAAuQAAAAAAAAC5AAAAAAAAALkAAAAAAAAAuQAAAAAAAAC5AAAAAAAAALkAAAAAAAAAuQAAAAAAAAC5AAAAAAAAALkAAAAAAAAAuQAAAAAAAAC5AAAAAAAAALkAAAAAAAAAuQAAAAAAAAC5AAAAAAAAALkAAAAAAAAAuQAAAAAAAAC5AAAAAAAAALkAAAAAAAAAuQAAAAAAAAC5AAAAAAAAALkAAAAAAAAAuQAAAAAAAAC5AAAAAAAAALkAAAAAAAAAuQAAAAAAAAC5AAAAAAAAALkAAAAAAAAAuQAAAAAAAAC5AAAAAAAAALkAAAAAAAAAuQAAAAAAAAC5AAAAAAAAALkAAAAAAAAAuQAAAAAAAAC5AAAAAAAAALkAAAAAAAAAuQAAAAAAAAC5AAAAAAAAALkAAAAAAAAAuQAAAAAAAAC5AAAAAAAAALkAAAAAAAAAuQAAAAAAAAC5AAAAAAAAALkAAAAAAAAAuQAAAAAAAAC5AAAAAAAAALkAAAAAAAAAuQAAAAAAAAC5AAAAAAAAALkAAAAAAAAAuQAAAAAAAAC5AAAAAAAAALkAAAAAAAAAuQAAAAAAAAC5AAAAAAAAALkAAAAAAAAAuQAAAAAAAAC5AAAAAAAAALkAAAAAAAAAuQAAAAAAAAC5AAAAAAAAALkAAAAAAAAAuQAAAAAAAAC5AAAAAAAAALkAAAAAAAAAuQAAAAAAAAC5AAAAAAAAALkAAAAAAAAAuQAAAAAAAAC5AAAAAAAAALkAAAAAAAAAuQAAAAAAAAC5AAAAAAAAALkAAAAAAAAAuQAAAAAAAAC5AAAAAAAAALkAAAAAAAAAuQAAAAAAAAC5AAAAAAAAALkAAAAAAAAAuQAAAAAAAAC5AAAAAAAAALkAAAAAAAAAuQAAAAAAAAC5AAAAAAAAALkAAAAAAAAAuQAAAAAAAAC5AAAAAAAAALkAAAAAAAAAuQAAAAAAAAC5AAAAAAAAALkAAAAAAAAAuQAAAAAAAAC5AAAAAAAAALkAAAAAAAAAuQAAAAAAAAC5AAAAAAAAALkAAAAAAAAAuQAAAAAAAAC5AAAAAAAAALkAAAAAAAAAuQAAAAAAAAC5AAAAAAAAALkAAAAAAAAAuQAAAAAAAAC5AAAAAAAAALkAAAAAAAAAuQAAAAAAAAC5AAAAAAAAALkAAAAAAAAAuQAAAAAAAAC5AAAAAAAAALkAAAAAAAAAuQAAAAAAAAC5AAAAAAAAALkAAAAAAAAAuQAAAAAAAAC5AAAAAAAAALkAAAAAAAAAuQAAAAAAAAC5AAAAAAAAALkAAAAAAAAAuQAAAAAAAAC5AAAAAAAAALkAAAAAAAAAuQAAAAAAAAC5AAAAAAAAALkAAAAAAAAAuQAAAAAAAAC5AAAAAAAAALkAAAAAAAAAuQAAAAAAAAC5AAAAAAAAALkAAAAAAAAAuQAAAAAAAAC5AAAAAAAAALkAAAAAAAAAuQAAAAAAAAC5AAAAAAAAALkAAAAAAAAAuQAAAAAAAAC5AAAAAAAAALkAAAAAAAAAuQAAAAAAAAC5AAAAAAAAALkAAAAAAAAAuQAAAAAAAAC5AAAAAAAAALkAAAAAAAAAuQAAAAAAAAC5AAAAAAAAALkAAAAAAAAAuQAAAAAAAAC5AAAAAAAAALkAAAAAAAAAuQAAAAAAAAC5AAAAAAAAALkAAAAAAAAAuQAAAAAAAAC5AAAAAAAAALkAAAAAAAAAuQAAAAAAAAC5AAAAAAAAALkAAAAAAAAAuQAAAAAAAAC5AAAAAAAAALkAAAAAAAAAuQAAAAAAAAC5AAAAAAAAALkAAAAAAAAAuQAAAAAAAAC5AAAAAAAAALkAAAAAAAAAuQAAAAAAAAC5AAAAAAAAALkAAAAAAAAAuQAAAAAAAAC5AAAAAAAAALkAAAAAAAAAuQAAAAAAAAC5AAAAAAAAALkAAAAAAAAAuQAAAAAAAAC5AAAAAAAAALkAAAAAAAAAuQAAAAAAAAC5AAAAAAAAALkAAAAAAAAAuQAAAAAAAAC5AAAAAAAAALkAAAAAAAAAuQAAAAAAAAC5AAAAAAAAALkAAAAAAAAAuQAAAAAAAAC5AAAAAAAAALkAAAAAAAAAuQAAAAAAAAC5AAAAAAAAALkAAAAAAAAAuQAAAAAAAAC5AAAAAAAAALkAAAAAAAAAuQAAAAAAAAC5AAAAAAAAALkAAAAAAAAAuQAAAAAAAAC5AAAAAAAAALkAAAAAAAAAuQAAAAAAAAC5AAAAAAAAALkAAAAAAAAAuQAAAAAAAAC5AAAAAAAAALkAAAAAAAAAuQAAAAAAAAC5AAAAAAAAALkAAAAAAAAAuQAAAAAAAAC5AAAAAAAAALkAAAAAAAAAuQAAAAAAAAC5AAAAAAAAALkAAAAAAAAAuQAAAAAAAAC5AAAAAAAAALkAAAAAAAAAuQAAAAAAAAC5AAAAAAAAALkAAAAAAAAAuQAAAAAAAAC5AAAAAAAAALkAAAAAAAAAuQAAAAAAAAC5AAAAAAAAALkAAAAAAAAAuQAAAAAAAAC5AAAAAAAAALkAAAAAAAAAuQAAAAAAAAC5AAAAAAAAALkAAAAAAAAAuQAAAAAAAAC5AAAAAAAAALkAAAAAAAAAuQAAAAAAAAC5AAAAAAAAALkAAAAAAAAAuQAAAAAAAAC5AAAAAAAAALkAAAAAAAAAuQAAAAAAAAC5AAAAAAAAALkAAAAAAAAAuQAAAAAAAAC5AAAAAAAAALkAAAAAAAAAuQAAAAAAAAC5AAAAAAAAALkAAAAAAAAAuQAAAAAAAAC5AAAAAAAAALkAAAAAAAAAuQAAAAAAAAC5AAAAAAAAALkAAAAAAAAAuQAAAAAAAAC5AAAAAAAAALkAAAAAAAAAuQAAAAAAAAC5AAAAAAAAALkAAAAAAAAAuQAAAAAAAAC5AAAAAAAAALkAAAAAAAAAuQAAAAAAAAC5AAAAAAAAALkAAAAAAAAAuQAAAAAAAAC5AAAAAAAAALkAAAAAAAAAuQAAAAAAAAC5AAAAAAAAALkAAAAAAAAAuQAAAAAAAAC5AAAAAAAAALkAAAAAAAAAuQAAAAAAAAC5AAAAAAAAALkAAAAAAAAAuQAAAAAAAAC5AAAAAAAAALkAAAAAAAAAuQAAAAAAAAC5AAAAAAAAALkAAAAAAAAAuQAAAAAAAAC5AAAAAAAAALkAAAAAAAAAuQAAAAAAAAC5AAAAAAAAALkAAAAAAAAAuQAAAAAAAAC5AAAAAAAAALkAAAAAAAAAuQAAAAAAAAC5AAAAAAAAALkAAAAAAAAAuQAAAAAAAAC5AAAAAAAAALkAAAAAAAAAuQAAAAAAAAC5AAAAAAAAALkAAAAAAAAAuQAAAAAAAAC5AAAAAAAAALkAAAAAAAAAuQAAAAAAAAC5AAAAAAAAALkAAAAAAAAAuQAAAAAAAAC5AAAAAAAAALkAAAAAAAAAuQAAAAAAAAC5AAAAAAAAALkAAAAAAAAAuQAAAAAAAAC5AAAAAAAAALkAAAAAAAAAuQAAAAAAAAC5AAAAAAAAALkAAAAAAAAAuQAAAAAAAAC5AAAAAAAAALkAAAAAAAAAuQAAAAAAAAC5AAAAAAAAALkAAAAAAAAAuQAAAAAAAAC5AAAAAAAAALkAAAAAAAAAuQAAAAAAAAC5AAAAAAAAALkAAAAAAAAAuQAAAAAAAAC5AAAAAAAAALkAAAAAAAAAuQAAAAAAAAC5AAAAAAAAALkAAAAAAAAAuQAAAAAAAACxAAAAAAAAALEAAAAAAAAAsQAAAAAAAACxAAAAAAAAALEAAAAAAAAAsQAAAAAAAACxAAAAAAAAALEAAAAAAAAAsQAAAAAAAACxAAAAAAAAALEAAAAAAAAAsQAAAAAAAACxAAAAAAAAALEAAAAAAAAAsQAAAAAAAACxAAAAAAAAALEAAAAAAAAAsQAAAAAAAACxAAAAAAAAALEAAAAAAAAAsQAAAAAAAACxAAAAAAAAALEAAAAAAAAAsQAAAAAAAACxAAAAAAAAALEAAAAAAAAAsQAAAAAAAACxAAAAAAAAALEAAAAAAAAAsQAAAAAAAACxAAAAAAAAALEAAAAAAAAAsQAAAAAAAACxAAAAAAAAALEAAAAAAAAAsQAAAAAAAACxAAAAAAAAALEAAAAAAAAAsQAAAAAAAACxAAAAAAAAALEAAAAAAAAAsQAAAAAAAACxAAAAAAAAALEAAAAAAAAAsQAAAAAAAACxAAAAAAAAALEAAAAAAAAAsQAAAAAAAACxAAAAAAAAALEAAAAAAAAAsQAAAAAAAACxAAAAAAAAALEAAAAAAAAAsQAAAAAAAACxAAAAAAAAALEAAAAAAAAAsQAAAAAAAACxAAAAAAAAALEAAAAAAAAAsQAAAAAAAACxAAAAAAAAALEAAAAAAAAAsQAAAAAAAACxAAAAAAAAALEAAAAAAAAAsQAAAAAAAACxAAAAAAAAALEAAAAAAAAAsQAAAAAAAACxAAAAAAAAALEAAAAAAAAAsQAAAAAAAACxAAAAAAAAALEAAAAAAAAAsQAAAAAAAACxAAAAAAAAALEAAAAAAAAAsQAAAAAAAACxAAAAAAAAALEAAAAAAAAAsQAAAAAAAACxAAAAAAAAALEAAAAAAAAAsQAAAAAAAACxAAAAAAAAALEAAAAAAAAAsQAAAAAAAACxAAAAAAAAALEAAAAAAAAAsQAAAAAAAACxAAAAAAAAALEAAAAAAAAAsQAAAAAAAACxAAAAAAAAALEAAAAAAAAAsQAAAAAAAACxAAAAAAAAALEAAAAAAAAAsQAAAAAAAACxAAAAAAAAALEAAAAAAAAAsQAAAAAAAACxAAAAAAAAALEAAAAAAAAAsQAAAAAAAACxAAAAAAAAALEAAAAAAAAAsQAAAAAAAACxAAAAAAAAALEAAAAAAAAAsQAAAAAAAACxAAAAAAAAALEAAAAAAAAAsQAAAAAAAACxAAAAAAAAALEAAAAAAAAAsQAAAAAAAACxAAAAAAAAALEAAAAAAAAAsQAAAAAAAACxAAAAAAAAALEAAAAAAAAAsQAAAAAAAACxAAAAAAAAALEAAAAAAAAAsQAAAAAAAACxAAAAAAAAALEAAAAAAAAAsQAAAAAAAACxAAAAAAAAALEAAAAAAAAAsQAAAAAAAACxAAAAAAAAALEAAAAAAAAAsQAAAAAAAACxAAAAAAAAALEAAAAAAAAAsQAAAAAAAACxAAAAAAAAALEAAAAAAAAAsQAAAAAAAACxAAAAAAAAALEAAAAAAAAAsQAAAAAAAACxAAAAAAAAALEAAAAAAAAAsQAAAAAAAACxAAAAAAAAALEAAAAAAAAAsQAAAAAAAACxAAAAAAAAALEAAAAAAAAAsQAAAAAAAACxAAAAAAAAALEAAAAAAAAAsQAAAAAAAACxAAAAAAAAALEAAAAAAAAAsQAAAAAAAACxAAAAAAAAALEAAAAAAAAAsQAAAAAAAACxAAAAAAAAALEAAAAAAAAAsQAAAAAAAACxAAAAAAAAALEAAAAAAAAAsQAAAAAAAACxAAAAAAAAALEAAAAAAAAAsQAAAAAAAACxAAAAAAAAALEAAAAAAAAAsQAAAAAAAACxAAAAAAAAALEAAAAAAAAAsQAAAAAAAACxAAAAAAAAALEAAAAAAAAAsQAAAAAAAACxAAAAAAAAALEAAAAAAAAAsQAAAAAAAACxAAAAAAAAALEAAAAAAAAAsQAAAAAAAACxAAAAAAAAALEAAAAAAAAAsQAAAAAAAACxAAAAAAAAALEAAAAAAAAAsQAAAAAAAACxAAAAAAAAALEAAAAAAAAAsQAAAAAAAACxAAAAAAAAALEAAAAAAAAAsQAAAAAAAACxAAAAAAAAALEAAAAAAAAAsQAAAAAAAACxAAAAAAAAALEAAAAAAAAAsQAAAAAAAACxAAAAAAAAALEAAAAAAAAAsQAAAAAAAACxAAAAAAAAALEAAAAAAAAAsQAAAAAAAACxAAAAAAAAALEAAAAAAAAAsQAAAAAAAACxAAAAAAAAALEAAAAAAAAAsQAAAAAAAACxAAAAAAAAALEAAAAAAAAAsQAAAAAAAACxAAAAAAAAALEAAAAAAAAAsQAAAAAAAACxAAAAAAAAALEAAAAAAAAAsQAAAAAAAACxAAAAAAAAALEAAAAAAAAAsQAAAAAAAACxAAAAAAAAALEAAAAAAAAAsQAAAAAAAACxAAAAAAAAALEAAAAAAAAAsQAAAAAAAACxAAAAAAAAALEAAAAAAAAAsQAAAAAAAACxAAAAAAAAALEAAAAAAAAAsQAAAAAAAACxAAAAAAAAALEAAAAAAAAAsQAAAAAAAACxAAAAAAAAALEAAAAAAAAAsQAAAAAAAACxAAAAAAAAALEAAAAAAAAAsQAAAAAAAACxAAAAAAAAALEAAAAAAAAAsQAAAAAAAACxAAAAAAAAALEAAAAAAAAAsQAAAAAAAACxAAAAAAAAALEAAAAAAAAAqQAAAAAAAACpAAAAAAAAAKkAAAAAAAAAqQAAAAAAAACpAAAAAAAAAKkAAAAAAAAAqQAAAAAAAACpAAAAAAAAAKkAAAAAAAAAqQAAAAAAAACpAAAAAAAAAKkAAAAAAAAAqQAAAAAAAACpAAAAAAAAAKkAAAAAAAAAqQAAAAAAAACpAAAAAAAAAKkAAAAAAAAAqQAAAAAAAACpAAAAAAAAAKkAAAAAAAAAqQAAAAAAAACpAAAAAAAAAKkAAAAAAAAAqQAAAAAAAACpAAAAAAAAAKkAAAAAAAAAqQAAAAAAAACpAAAAAAAAAKkAAAAAAAAAqQAAAAAAAACpAAAAAAAAAKkAAAAAAAAAqQAAAAAAAACpAAAAAAAAAKkAAAAAAAAAqQAAAAAAAACpAAAAAAAAAKkAAAAAAAAAqQAAAAAAAACpAAAAAAAAAKkAAAAAAAAAqQAAAAAAAACpAAAAAAAAAKkAAAAAAAAAqQAAAAAAAACpAAAAAAAAAKkAAAAAAAAAqQAAAAAAAACpAAAAAAAAAKkAAAAAAAAAqQAAAAAAAACpAAAAAAAAAKkAAAAAAAAAqQAAAAAAAACpAAAAAAAAAKkAAAAAAAAAqQAAAAAAAACpAAAAAAAAAKkAAAAAAAAAqQAAAAAAAACpAAAAAAAAAKkAAAAAAAAAqQAAAAAAAACpAAAAAAAAAKkAAAAAAAAAqQAAAAAAAACpAAAAAAAAAKkAAAAAAAAAqQAAAAAAAACpAAAAAAAAAKkAAAAAAAAAqQAAAAAAAACpAAAAAAAAAKkAAAAAAAAAqQAAAAAAAACpAAAAAAAAAKkAAAAAAAAAqQAAAAAAAACpAAAAAAAAAKkAAAAAAAAAqQAAAAAAAACpAAAAAAAAAKkAAAAAAAAAqQAAAAAAAACpAAAAAAAAAKkAAAAAAAAAqQAAAAAAAACpAAAAAAAAAKkAAAAAAAAAqQAAAAAAAACpAAAAAAAAAKkAAAAAAAAAqQAAAAAAAACpAAAAAAAAAKkAAAAAAAAAqQAAAAAAAACpAAAAAAAAAKkAAAAAAAAAqQAAAAAAAACpAAAAAAAAAKkAAAAAAAAAqQAAAAAAAACpAAAAAAAAAKkAAAAAAAAAqQAAAAAAAACpAAAAAAAAAKkAAAAAAAAAqQAAAAAAAACpAAAAAAAAAKkAAAAAAAAAqQAAAAAAAACpAAAAAAAAAKkAAAAAAAAAqQAAAAAAAACpAAAAAAAAAKkAAAAAAAAAqQAAAAAAAACpAAAAAAAAAKkAAAAAAAAAqQAAAAAAAACpAAAAAAAAAKkAAAAAAAAAqQAAAAAAAACpAAAAAAAAAKkAAAAAAAAAqQAAAAAAAACpAAAAAAAAAKkAAAAAAAAAqQAAAAAAAACpAAAAAAAAAKkAAAAAAAAAqQAAAAAAAACpAAAAAAAAAKkAAAAAAAAAqQAAAAAAAACpAAAAAAAAAKkAAAAAAAAAqQAAAAAAAACpAAAAAAAAAKkAAAAAAAAAqQAAAAAAAACpAAAAAAAAAKkAAAAAAAAAqQAAAAAAAACpAAAAAAAAAKkAAAAAAAAAqQAAAAAAAACpAAAAAAAAAKkAAAAAAAAAqQAAAAAAAACpAAAAAAAAAKkAAAAAAAAAqQAAAAAAAACpAAAAAAAAAKkAAAAAAAAAqQAAAAAAAACpAAAAAAAAAKkAAAAAAAAAqQAAAAAAAACpAAAAAAAAAKkAAAAAAAAAqQAAAAAAAACpAAAAAAAAAKkAAAAAAAAAqQAAAAAAAACpAAAAAAAAAKkAAAAAAAAAqQAAAAAAAACpAAAAAAAAAKkAAAAAAAAAqQAAAAAAAACpAAAAAAAAAKkAAAAAAAAAqQAAAAAAAACpAAAAAAAAAKkAAAAAAAAAqQAAAAAAAACpAAAAAAAAAKkAAAAAAAAAqQAAAAAAAACpAAAAAAAAAKkAAAAAAAAAqQAAAAAAAACpAAAAAAAAAKkAAAAAAAAAqQAAAAAAAACpAAAAAAAAAKkAAAAAAAAAqQAAAAAAAACpAAAAAAAAAKkAAAAAAAAAqQAAAAAAAACpAAAAAAAAAKkAAAAAAAAAqQAAAAAAAACpAAAAAAAAAKkAAAAAAAAAqQAAAAAAAACpAAAAAAAAAKkAAAAAAAAAqQAAAAAAAACpAAAAAAAAAKkAAAAAAAAAqQAAAAAAAACpAAAAAAAAAKkAAAAAAAAAqQAAAAAAAACpAAAAAAAAAKkAAAAAAAAAqQAAAAAAAACpAAAAAAAAAKkAAAAAAAAAqQAAAAAAAACpAAAAAAAAAKkAAAAAAAAAqQAAAAAAAACpAAAAAAAAAKkAAAAAAAAAqQAAAAAAAACpAAAAAAAAAKkAAAAAAAAAqQAAAAAAAACpAAAAAAAAAKkAAAAAAAAAqQAAAAAAAACpAAAAAAAAAKEAAAAAAAAAoQAAAAAAAAChAAAAAAAAAKEAAAAAAAAAoQAAAAAAAAChAAAAAAAAAKEAAAAAAAAAoQAAAAAAAAChAAAAAAAAAKEAAAAAAAAAoQAAAAAAAAChAAAAAAAAAKEAAAAAAAAAoQAAAAAAAAChAAAAAAAAAKEAAAAAAAAAoQAAAAAAAAChAAAAAAAAAKEAAAAAAAAAoQAAAAAAAAChAAAAAAAAAKEAAAAAAAAAoQAAAAAAAAChAAAAAAAAAKEAAAAAAAAAoQAAAAAAAAChAAAAAAAAAKEAAAAAAAAAoQAAAAAAAAChAAAAAAAAAKEAAAAAAAAAoQAAAAAAAAChAAAAAAAAAKEAAAAAAAAAoQAAAAAAAAChAAAAAAAAAKEAAAAAAAAAoQAAAAAAAAChAAAAAAAAAKEAAAAAAAAAoQAAAAAAAAChAAAAAAAAAKEAAAAAAAAAoQAAAAAAAAChAAAAAAAAAKEAAAAAAAAAoQAAAAAAAAChAAAAAAAAAKEAAAAAAAAAoQAAAAAAAAChAAAAAAAAAKEAAAAAAAAAoQAAAAAAAAChAAAAAAAAAKEAAAAAAAAAoQAAAAAAAAChAAAAAAAAAKEAAAAAAAAAoQAAAAAAAAChAAAAAAAAAKEAAAAAAAAAoQAAAAAAAAChAAAAAAAAAKEAAAAAAAAAoQAAAAAAAAChAAAAAAAAAKEAAAAAAAAAoQAAAAAAAAChAAAAAAAAAKEAAAAAAAAAoQAAAAAAAAChAAAAAAAAAKEAAAAAAAAAoQAAAAAAAAChAAAAAAAAAKEAAAAAAAAAoQAAAAAAAAChAAAAAAAAAKEAAAAAAAAAoQAAAAAAAAChAAAAAAAAAKEAAAAAAAAAoQAAAAAAAAChAAAAAAAAAKEAAAAAAAAAoQAAAAAAAAChAAAAAAAAAKEAAAAAAAAAoQAAAAAAAAChAAAAAAAAAKEAAAAAAAAAoQAAAAAAAAChAAAAAAAAAKEAAAAAAAAAoQAAAAAAAAChAAAAAAAAAKEAAAAAAAAAoQAAAAAAAAChAAAAAAAAAKEAAAAAAAAAoQAAAAAAAAChAAAAAAAAAKEAAAAAAAAAoQAAAAAAAAChAAAAAAAAAKEAAAAAAAAAoQAAAAAAAAChAAAAAAAAAKEAAAAAAAAAoQAAAAAAAAChAAAAAAAAAKEAAAAAAAAAoQAAAAAAAAChAAAAAAAAAKEAAAAAAAAAoQAAAAAAAAChAAAAAAAAAKEAAAAAAAAAoQAAAAAAAAChAAAAAAAAAKEAAAAAAAAAoQAAAAAAAAChAAAAAAAAAKEAAAAAAAAAoQAAAAAAAAChAAAAAAAAAKEAAAAAAAAAoQAAAAAAAAChAAAAAAAAAKEAAAAAAAAAoQAAAAAAAAChAAAAAAAAAKEAAAAAAAAAoQAAAAAAAAChAAAAAAAAAKEAAAAAAAAAoQAAAAAAAAChAAAAAAAAAKEAAAAAAAAAoQAAAAAAAAChAAAAAAAAAKEAAAAAAAAAoQAAAAAAAAChAAAAAAAAAKEAAAAAAAAAoQAAAAAAAAChAAAAAAAAAKEAAAAAAAAAoQAAAAAAAAChAAAAAAAAAKEAAAAAAAAAoQAAAAAAAAChAAAAAAAAAKEAAAAAAAAAoQAAAAAAAAChAAAAAAAAAKEAAAAAAAAAoQAAAAAAAAChAAAAAAAAAKEAAAAAAAAAoQAAAAAAAAChAAAAAAAAAKEAAAAAAAAAoQAAAAAAAAChAAAAAAAAAKEAAAAAAAAAoQAAAAAAAAChAAAAAAAAAKEAAAAAAAAAoQAAAAAAAAChAAAAAAAAAKEAAAAAAAAAoQAAAAAAAAChAAAAAAAAAKEAAAAAAAAAoQAAAAAAAAChAAAAAAAAAKEAAAAAAAAAoQAAAAAAAAChAAAAAAAAAKEAAAAAAAAAoQAAAAAAAAChAAAAAAAAAKEAAAAAAAAAoQAAAAAAAAChAAAAAAAAAKEAAAAAAAAAoQAAAAAAAAChAAAAAAAAAKEAAAAAAAAAoQAAAAAAAAChAAAAAAAAAKEAAAAAAAAAoQAAAAAAAAChAAAAAAAAAKEAAAAAAAAAoQAAAAAAAAChAAAAAAAAAKEAAAAAAAAAoQAAAAAAAAChAAAAAAAAAKEAAAAAAAAAoQAAAAAAAAChAAAAAAAAAKEAAAAAAAAAoQAAAAAAAAChAAAAAAAAAKEAAAAAAAAAoQAAAAAAAAChAAAAAAAAAKEAAAAAAAAAoQAAAAAAAAChAAAAAAAAAKEAAAAAAAAAoQAAAAAAAAChAAAAAAAAAKEAAAAAAAAAoQAAAAAAAAChAAAAAAAAAKEAAAAAAAAAoQAAAAAAAAChAAAAAAAAAKEAAAAAAAAAoQAAAAAAAAChAAAAAAAAAKEAAAAAAAAAoQAAAAAAAAChAAAAAAAAAKEAAAAAAAAAoQAAAAAAAAChAAAAAAAAAKEAAAAAAAAAoQAAAAAAAAChAAAAAAAAAKEAAAAAAAAAmQAAAAAAAACZAAAAAAAAAJkAAAAAAAAAmQAAAAAAAACZAAAAAAAAAJkAAAAAAAAAkQAAAAAAAACJAAAAAAAAAIkAAAAAAAAAiQAAAAAAAACBAAAAAAAAAIEAAAAAAAAAgQAAAAAAAACBAAAAAAAAAIEAAAAAAAAAgQAAAAAAAABxAAAAAAAAAHEAAAAAAAAAcQAAAAAAAABxAAAAAAAAAHEAAAAAAAAAcQAAAAAAAABxAAAAAAAAAHEAAAAAAAAAcQAAAAAAAABxAAAAAAAAAHEAAAAAAAAAcQAAAAAAAABxAAAAAAAAAHEAAAAAAAAAcQAAAAAAAABxAAAAAAAAAHEAAAAAAAAAcQAAAAAAAABxAAAAAAAAAHEAAAAAAAAAcQAAAAAAAABxAAAAAAAAAHEAAAAAAAAAcQAAAAAAAABxAAAAAAAAAHEAAAAAAAAAcQAAAAAAAABxAAAAAAAAAHEAAAAAAAAAcQAAAAAAAABxAAAAAAAAAHEAAAAAAAAAcQAAAAAAAABxAAAAAAAAAHEAAAAAAAAAcQAAAAAAAABxAAAAAAAAAHEAAAAAAAAAcQAAAAAAAABxAAAAAAAAAHEAAAAAAAAAcQAAAAAAAABxAAAAAAAAAHEAAAAAAAAAcQAAAAAAAABxAAAAAAAAAHEAAAAAAAAAcQAAAAAAAABxAAAAAAAAAHEAAAAAAAAAcQAAAAAAAABxAAAAAAAAAHEAAAAAAAAAcQAAAAAAAABxAAAAAAAAAHEAAAAAAAAAcQAAAAAAAABxAAAAAAAAAHEAAAAAAAAAcQAAAAAAAABxAAAAAAAAAHEAAAAAAAAAcQAAAAAAAABxAAAAAAAAAHEAAAAAAAAAcQAAAAAAAABxAAAAAAAAAHEAAAAAAAAAcQAAAAAAAABxAAAAAAAAAHEAAAAAAAAAcQAAAAAAAABxAAAAAAAAAHEAAAAAAAAAcQAAAAAAAABxAAAAAAAAAHEAAAAAAAAAcQAAAAAAAABxAAAAAAAAAHEAAAAAAAAAcQAAAAAAAABxAAAAAAAAAHEAAAAAAAAAcQAAAAAAAABxAAAAAAAAAHEAAAAAAAAAcQAAAAAAAABxAAAAAAAAAHEAAAAAAAAAcQAAAAAAAABxAAAAAAAAAHEAAAAAAAAAcQAAAAAAAABxAAAAAAAAAHEAAAAAAAAAcQA==",
          "dtype": "f8"
         },
         "xaxis": "x2",
         "yaxis": "y2"
        }
       ],
       "layout": {
        "bargap": 0.1,
        "barmode": "relative",
        "legend": {
         "tracegroupgap": 0
        },
        "template": {
         "data": {
          "bar": [
           {
            "error_x": {
             "color": "#2a3f5f"
            },
            "error_y": {
             "color": "#2a3f5f"
            },
            "marker": {
             "line": {
              "color": "#E5ECF6",
              "width": 0.5
             },
             "pattern": {
              "fillmode": "overlay",
              "size": 10,
              "solidity": 0.2
             }
            },
            "type": "bar"
           }
          ],
          "barpolar": [
           {
            "marker": {
             "line": {
              "color": "#E5ECF6",
              "width": 0.5
             },
             "pattern": {
              "fillmode": "overlay",
              "size": 10,
              "solidity": 0.2
             }
            },
            "type": "barpolar"
           }
          ],
          "carpet": [
           {
            "aaxis": {
             "endlinecolor": "#2a3f5f",
             "gridcolor": "white",
             "linecolor": "white",
             "minorgridcolor": "white",
             "startlinecolor": "#2a3f5f"
            },
            "baxis": {
             "endlinecolor": "#2a3f5f",
             "gridcolor": "white",
             "linecolor": "white",
             "minorgridcolor": "white",
             "startlinecolor": "#2a3f5f"
            },
            "type": "carpet"
           }
          ],
          "choropleth": [
           {
            "colorbar": {
             "outlinewidth": 0,
             "ticks": ""
            },
            "type": "choropleth"
           }
          ],
          "contour": [
           {
            "colorbar": {
             "outlinewidth": 0,
             "ticks": ""
            },
            "colorscale": [
             [
              0,
              "#0d0887"
             ],
             [
              0.1111111111111111,
              "#46039f"
             ],
             [
              0.2222222222222222,
              "#7201a8"
             ],
             [
              0.3333333333333333,
              "#9c179e"
             ],
             [
              0.4444444444444444,
              "#bd3786"
             ],
             [
              0.5555555555555556,
              "#d8576b"
             ],
             [
              0.6666666666666666,
              "#ed7953"
             ],
             [
              0.7777777777777778,
              "#fb9f3a"
             ],
             [
              0.8888888888888888,
              "#fdca26"
             ],
             [
              1,
              "#f0f921"
             ]
            ],
            "type": "contour"
           }
          ],
          "contourcarpet": [
           {
            "colorbar": {
             "outlinewidth": 0,
             "ticks": ""
            },
            "type": "contourcarpet"
           }
          ],
          "heatmap": [
           {
            "colorbar": {
             "outlinewidth": 0,
             "ticks": ""
            },
            "colorscale": [
             [
              0,
              "#0d0887"
             ],
             [
              0.1111111111111111,
              "#46039f"
             ],
             [
              0.2222222222222222,
              "#7201a8"
             ],
             [
              0.3333333333333333,
              "#9c179e"
             ],
             [
              0.4444444444444444,
              "#bd3786"
             ],
             [
              0.5555555555555556,
              "#d8576b"
             ],
             [
              0.6666666666666666,
              "#ed7953"
             ],
             [
              0.7777777777777778,
              "#fb9f3a"
             ],
             [
              0.8888888888888888,
              "#fdca26"
             ],
             [
              1,
              "#f0f921"
             ]
            ],
            "type": "heatmap"
           }
          ],
          "histogram": [
           {
            "marker": {
             "pattern": {
              "fillmode": "overlay",
              "size": 10,
              "solidity": 0.2
             }
            },
            "type": "histogram"
           }
          ],
          "histogram2d": [
           {
            "colorbar": {
             "outlinewidth": 0,
             "ticks": ""
            },
            "colorscale": [
             [
              0,
              "#0d0887"
             ],
             [
              0.1111111111111111,
              "#46039f"
             ],
             [
              0.2222222222222222,
              "#7201a8"
             ],
             [
              0.3333333333333333,
              "#9c179e"
             ],
             [
              0.4444444444444444,
              "#bd3786"
             ],
             [
              0.5555555555555556,
              "#d8576b"
             ],
             [
              0.6666666666666666,
              "#ed7953"
             ],
             [
              0.7777777777777778,
              "#fb9f3a"
             ],
             [
              0.8888888888888888,
              "#fdca26"
             ],
             [
              1,
              "#f0f921"
             ]
            ],
            "type": "histogram2d"
           }
          ],
          "histogram2dcontour": [
           {
            "colorbar": {
             "outlinewidth": 0,
             "ticks": ""
            },
            "colorscale": [
             [
              0,
              "#0d0887"
             ],
             [
              0.1111111111111111,
              "#46039f"
             ],
             [
              0.2222222222222222,
              "#7201a8"
             ],
             [
              0.3333333333333333,
              "#9c179e"
             ],
             [
              0.4444444444444444,
              "#bd3786"
             ],
             [
              0.5555555555555556,
              "#d8576b"
             ],
             [
              0.6666666666666666,
              "#ed7953"
             ],
             [
              0.7777777777777778,
              "#fb9f3a"
             ],
             [
              0.8888888888888888,
              "#fdca26"
             ],
             [
              1,
              "#f0f921"
             ]
            ],
            "type": "histogram2dcontour"
           }
          ],
          "mesh3d": [
           {
            "colorbar": {
             "outlinewidth": 0,
             "ticks": ""
            },
            "type": "mesh3d"
           }
          ],
          "parcoords": [
           {
            "line": {
             "colorbar": {
              "outlinewidth": 0,
              "ticks": ""
             }
            },
            "type": "parcoords"
           }
          ],
          "pie": [
           {
            "automargin": true,
            "type": "pie"
           }
          ],
          "scatter": [
           {
            "fillpattern": {
             "fillmode": "overlay",
             "size": 10,
             "solidity": 0.2
            },
            "type": "scatter"
           }
          ],
          "scatter3d": [
           {
            "line": {
             "colorbar": {
              "outlinewidth": 0,
              "ticks": ""
             }
            },
            "marker": {
             "colorbar": {
              "outlinewidth": 0,
              "ticks": ""
             }
            },
            "type": "scatter3d"
           }
          ],
          "scattercarpet": [
           {
            "marker": {
             "colorbar": {
              "outlinewidth": 0,
              "ticks": ""
             }
            },
            "type": "scattercarpet"
           }
          ],
          "scattergeo": [
           {
            "marker": {
             "colorbar": {
              "outlinewidth": 0,
              "ticks": ""
             }
            },
            "type": "scattergeo"
           }
          ],
          "scattergl": [
           {
            "marker": {
             "colorbar": {
              "outlinewidth": 0,
              "ticks": ""
             }
            },
            "type": "scattergl"
           }
          ],
          "scattermap": [
           {
            "marker": {
             "colorbar": {
              "outlinewidth": 0,
              "ticks": ""
             }
            },
            "type": "scattermap"
           }
          ],
          "scattermapbox": [
           {
            "marker": {
             "colorbar": {
              "outlinewidth": 0,
              "ticks": ""
             }
            },
            "type": "scattermapbox"
           }
          ],
          "scatterpolar": [
           {
            "marker": {
             "colorbar": {
              "outlinewidth": 0,
              "ticks": ""
             }
            },
            "type": "scatterpolar"
           }
          ],
          "scatterpolargl": [
           {
            "marker": {
             "colorbar": {
              "outlinewidth": 0,
              "ticks": ""
             }
            },
            "type": "scatterpolargl"
           }
          ],
          "scatterternary": [
           {
            "marker": {
             "colorbar": {
              "outlinewidth": 0,
              "ticks": ""
             }
            },
            "type": "scatterternary"
           }
          ],
          "surface": [
           {
            "colorbar": {
             "outlinewidth": 0,
             "ticks": ""
            },
            "colorscale": [
             [
              0,
              "#0d0887"
             ],
             [
              0.1111111111111111,
              "#46039f"
             ],
             [
              0.2222222222222222,
              "#7201a8"
             ],
             [
              0.3333333333333333,
              "#9c179e"
             ],
             [
              0.4444444444444444,
              "#bd3786"
             ],
             [
              0.5555555555555556,
              "#d8576b"
             ],
             [
              0.6666666666666666,
              "#ed7953"
             ],
             [
              0.7777777777777778,
              "#fb9f3a"
             ],
             [
              0.8888888888888888,
              "#fdca26"
             ],
             [
              1,
              "#f0f921"
             ]
            ],
            "type": "surface"
           }
          ],
          "table": [
           {
            "cells": {
             "fill": {
              "color": "#EBF0F8"
             },
             "line": {
              "color": "white"
             }
            },
            "header": {
             "fill": {
              "color": "#C8D4E3"
             },
             "line": {
              "color": "white"
             }
            },
            "type": "table"
           }
          ]
         },
         "layout": {
          "annotationdefaults": {
           "arrowcolor": "#2a3f5f",
           "arrowhead": 0,
           "arrowwidth": 1
          },
          "autotypenumbers": "strict",
          "coloraxis": {
           "colorbar": {
            "outlinewidth": 0,
            "ticks": ""
           }
          },
          "colorscale": {
           "diverging": [
            [
             0,
             "#8e0152"
            ],
            [
             0.1,
             "#c51b7d"
            ],
            [
             0.2,
             "#de77ae"
            ],
            [
             0.3,
             "#f1b6da"
            ],
            [
             0.4,
             "#fde0ef"
            ],
            [
             0.5,
             "#f7f7f7"
            ],
            [
             0.6,
             "#e6f5d0"
            ],
            [
             0.7,
             "#b8e186"
            ],
            [
             0.8,
             "#7fbc41"
            ],
            [
             0.9,
             "#4d9221"
            ],
            [
             1,
             "#276419"
            ]
           ],
           "sequential": [
            [
             0,
             "#0d0887"
            ],
            [
             0.1111111111111111,
             "#46039f"
            ],
            [
             0.2222222222222222,
             "#7201a8"
            ],
            [
             0.3333333333333333,
             "#9c179e"
            ],
            [
             0.4444444444444444,
             "#bd3786"
            ],
            [
             0.5555555555555556,
             "#d8576b"
            ],
            [
             0.6666666666666666,
             "#ed7953"
            ],
            [
             0.7777777777777778,
             "#fb9f3a"
            ],
            [
             0.8888888888888888,
             "#fdca26"
            ],
            [
             1,
             "#f0f921"
            ]
           ],
           "sequentialminus": [
            [
             0,
             "#0d0887"
            ],
            [
             0.1111111111111111,
             "#46039f"
            ],
            [
             0.2222222222222222,
             "#7201a8"
            ],
            [
             0.3333333333333333,
             "#9c179e"
            ],
            [
             0.4444444444444444,
             "#bd3786"
            ],
            [
             0.5555555555555556,
             "#d8576b"
            ],
            [
             0.6666666666666666,
             "#ed7953"
            ],
            [
             0.7777777777777778,
             "#fb9f3a"
            ],
            [
             0.8888888888888888,
             "#fdca26"
            ],
            [
             1,
             "#f0f921"
            ]
           ]
          },
          "colorway": [
           "#636efa",
           "#EF553B",
           "#00cc96",
           "#ab63fa",
           "#FFA15A",
           "#19d3f3",
           "#FF6692",
           "#B6E880",
           "#FF97FF",
           "#FECB52"
          ],
          "font": {
           "color": "#2a3f5f"
          },
          "geo": {
           "bgcolor": "white",
           "lakecolor": "white",
           "landcolor": "#E5ECF6",
           "showlakes": true,
           "showland": true,
           "subunitcolor": "white"
          },
          "hoverlabel": {
           "align": "left"
          },
          "hovermode": "closest",
          "mapbox": {
           "style": "light"
          },
          "paper_bgcolor": "white",
          "plot_bgcolor": "#E5ECF6",
          "polar": {
           "angularaxis": {
            "gridcolor": "white",
            "linecolor": "white",
            "ticks": ""
           },
           "bgcolor": "#E5ECF6",
           "radialaxis": {
            "gridcolor": "white",
            "linecolor": "white",
            "ticks": ""
           }
          },
          "scene": {
           "xaxis": {
            "backgroundcolor": "#E5ECF6",
            "gridcolor": "white",
            "gridwidth": 2,
            "linecolor": "white",
            "showbackground": true,
            "ticks": "",
            "zerolinecolor": "white"
           },
           "yaxis": {
            "backgroundcolor": "#E5ECF6",
            "gridcolor": "white",
            "gridwidth": 2,
            "linecolor": "white",
            "showbackground": true,
            "ticks": "",
            "zerolinecolor": "white"
           },
           "zaxis": {
            "backgroundcolor": "#E5ECF6",
            "gridcolor": "white",
            "gridwidth": 2,
            "linecolor": "white",
            "showbackground": true,
            "ticks": "",
            "zerolinecolor": "white"
           }
          },
          "shapedefaults": {
           "line": {
            "color": "#2a3f5f"
           }
          },
          "ternary": {
           "aaxis": {
            "gridcolor": "white",
            "linecolor": "white",
            "ticks": ""
           },
           "baxis": {
            "gridcolor": "white",
            "linecolor": "white",
            "ticks": ""
           },
           "bgcolor": "#E5ECF6",
           "caxis": {
            "gridcolor": "white",
            "linecolor": "white",
            "ticks": ""
           }
          },
          "title": {
           "x": 0.05
          },
          "xaxis": {
           "automargin": true,
           "gridcolor": "white",
           "linecolor": "white",
           "ticks": "",
           "title": {
            "standoff": 15
           },
           "zerolinecolor": "white",
           "zerolinewidth": 2
          },
          "yaxis": {
           "automargin": true,
           "gridcolor": "white",
           "linecolor": "white",
           "ticks": "",
           "title": {
            "standoff": 15
           },
           "zerolinecolor": "white",
           "zerolinewidth": 2
          }
         }
        },
        "title": {
         "text": "elpsdm Distribution"
        },
        "xaxis": {
         "anchor": "y",
         "domain": [
          0,
          1
         ],
         "title": {
          "text": "elpsdm"
         }
        },
        "xaxis2": {
         "anchor": "y2",
         "domain": [
          0,
          1
         ],
         "matches": "x",
         "showgrid": true,
         "showticklabels": false
        },
        "yaxis": {
         "anchor": "x",
         "domain": [
          0,
          0.8316
         ],
         "title": {
          "text": "count"
         }
        },
        "yaxis2": {
         "anchor": "x2",
         "domain": [
          0.8416,
          1
         ],
         "matches": "y2",
         "showgrid": false,
         "showline": false,
         "showticklabels": false,
         "ticks": ""
        }
       }
      }
     },
     "metadata": {},
     "output_type": "display_data"
    }
   ],
   "source": [
    "fig = px.histogram(df, x='elpsdm', marginal='box', nbins=47, title='elpsdm Distribution')\n",
    "fig.update_layout(bargap=0.1)\n",
    "fig.show()"
   ]
  },
  {
   "cell_type": "code",
   "execution_count": 20,
   "metadata": {},
   "outputs": [
    {
     "data": {
      "application/vnd.plotly.v1+json": {
       "config": {
        "plotlyServerURL": "https://plot.ly"
       },
       "data": [
        {
         "bingroup": "x",
         "hovertemplate": "revlast=%{x}<br>count=%{y}<extra></extra>",
         "legendgroup": "",
         "marker": {
          "color": "#636efa",
          "pattern": {
           "shape": ""
          }
         },
         "name": "",
         "nbinsx": 47,
         "orientation": "v",
         "showlegend": false,
         "type": "histogram",
         "x": {
          "bdata": "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",
          "dtype": "f8"
         },
         "xaxis": "x",
         "yaxis": "y"
        },
        {
         "hovertemplate": "revlast=%{x}<extra></extra>",
         "legendgroup": "",
         "marker": {
          "color": "#636efa"
         },
         "name": "",
         "notched": true,
         "showlegend": false,
         "type": "box",
         "x": {
          "bdata": "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",
          "dtype": "f8"
         },
         "xaxis": "x2",
         "yaxis": "y2"
        }
       ],
       "layout": {
        "bargap": 0.1,
        "barmode": "relative",
        "legend": {
         "tracegroupgap": 0
        },
        "template": {
         "data": {
          "bar": [
           {
            "error_x": {
             "color": "#2a3f5f"
            },
            "error_y": {
             "color": "#2a3f5f"
            },
            "marker": {
             "line": {
              "color": "#E5ECF6",
              "width": 0.5
             },
             "pattern": {
              "fillmode": "overlay",
              "size": 10,
              "solidity": 0.2
             }
            },
            "type": "bar"
           }
          ],
          "barpolar": [
           {
            "marker": {
             "line": {
              "color": "#E5ECF6",
              "width": 0.5
             },
             "pattern": {
              "fillmode": "overlay",
              "size": 10,
              "solidity": 0.2
             }
            },
            "type": "barpolar"
           }
          ],
          "carpet": [
           {
            "aaxis": {
             "endlinecolor": "#2a3f5f",
             "gridcolor": "white",
             "linecolor": "white",
             "minorgridcolor": "white",
             "startlinecolor": "#2a3f5f"
            },
            "baxis": {
             "endlinecolor": "#2a3f5f",
             "gridcolor": "white",
             "linecolor": "white",
             "minorgridcolor": "white",
             "startlinecolor": "#2a3f5f"
            },
            "type": "carpet"
           }
          ],
          "choropleth": [
           {
            "colorbar": {
             "outlinewidth": 0,
             "ticks": ""
            },
            "type": "choropleth"
           }
          ],
          "contour": [
           {
            "colorbar": {
             "outlinewidth": 0,
             "ticks": ""
            },
            "colorscale": [
             [
              0,
              "#0d0887"
             ],
             [
              0.1111111111111111,
              "#46039f"
             ],
             [
              0.2222222222222222,
              "#7201a8"
             ],
             [
              0.3333333333333333,
              "#9c179e"
             ],
             [
              0.4444444444444444,
              "#bd3786"
             ],
             [
              0.5555555555555556,
              "#d8576b"
             ],
             [
              0.6666666666666666,
              "#ed7953"
             ],
             [
              0.7777777777777778,
              "#fb9f3a"
             ],
             [
              0.8888888888888888,
              "#fdca26"
             ],
             [
              1,
              "#f0f921"
             ]
            ],
            "type": "contour"
           }
          ],
          "contourcarpet": [
           {
            "colorbar": {
             "outlinewidth": 0,
             "ticks": ""
            },
            "type": "contourcarpet"
           }
          ],
          "heatmap": [
           {
            "colorbar": {
             "outlinewidth": 0,
             "ticks": ""
            },
            "colorscale": [
             [
              0,
              "#0d0887"
             ],
             [
              0.1111111111111111,
              "#46039f"
             ],
             [
              0.2222222222222222,
              "#7201a8"
             ],
             [
              0.3333333333333333,
              "#9c179e"
             ],
             [
              0.4444444444444444,
              "#bd3786"
             ],
             [
              0.5555555555555556,
              "#d8576b"
             ],
             [
              0.6666666666666666,
              "#ed7953"
             ],
             [
              0.7777777777777778,
              "#fb9f3a"
             ],
             [
              0.8888888888888888,
              "#fdca26"
             ],
             [
              1,
              "#f0f921"
             ]
            ],
            "type": "heatmap"
           }
          ],
          "histogram": [
           {
            "marker": {
             "pattern": {
              "fillmode": "overlay",
              "size": 10,
              "solidity": 0.2
             }
            },
            "type": "histogram"
           }
          ],
          "histogram2d": [
           {
            "colorbar": {
             "outlinewidth": 0,
             "ticks": ""
            },
            "colorscale": [
             [
              0,
              "#0d0887"
             ],
             [
              0.1111111111111111,
              "#46039f"
             ],
             [
              0.2222222222222222,
              "#7201a8"
             ],
             [
              0.3333333333333333,
              "#9c179e"
             ],
             [
              0.4444444444444444,
              "#bd3786"
             ],
             [
              0.5555555555555556,
              "#d8576b"
             ],
             [
              0.6666666666666666,
              "#ed7953"
             ],
             [
              0.7777777777777778,
              "#fb9f3a"
             ],
             [
              0.8888888888888888,
              "#fdca26"
             ],
             [
              1,
              "#f0f921"
             ]
            ],
            "type": "histogram2d"
           }
          ],
          "histogram2dcontour": [
           {
            "colorbar": {
             "outlinewidth": 0,
             "ticks": ""
            },
            "colorscale": [
             [
              0,
              "#0d0887"
             ],
             [
              0.1111111111111111,
              "#46039f"
             ],
             [
              0.2222222222222222,
              "#7201a8"
             ],
             [
              0.3333333333333333,
              "#9c179e"
             ],
             [
              0.4444444444444444,
              "#bd3786"
             ],
             [
              0.5555555555555556,
              "#d8576b"
             ],
             [
              0.6666666666666666,
              "#ed7953"
             ],
             [
              0.7777777777777778,
              "#fb9f3a"
             ],
             [
              0.8888888888888888,
              "#fdca26"
             ],
             [
              1,
              "#f0f921"
             ]
            ],
            "type": "histogram2dcontour"
           }
          ],
          "mesh3d": [
           {
            "colorbar": {
             "outlinewidth": 0,
             "ticks": ""
            },
            "type": "mesh3d"
           }
          ],
          "parcoords": [
           {
            "line": {
             "colorbar": {
              "outlinewidth": 0,
              "ticks": ""
             }
            },
            "type": "parcoords"
           }
          ],
          "pie": [
           {
            "automargin": true,
            "type": "pie"
           }
          ],
          "scatter": [
           {
            "fillpattern": {
             "fillmode": "overlay",
             "size": 10,
             "solidity": 0.2
            },
            "type": "scatter"
           }
          ],
          "scatter3d": [
           {
            "line": {
             "colorbar": {
              "outlinewidth": 0,
              "ticks": ""
             }
            },
            "marker": {
             "colorbar": {
              "outlinewidth": 0,
              "ticks": ""
             }
            },
            "type": "scatter3d"
           }
          ],
          "scattercarpet": [
           {
            "marker": {
             "colorbar": {
              "outlinewidth": 0,
              "ticks": ""
             }
            },
            "type": "scattercarpet"
           }
          ],
          "scattergeo": [
           {
            "marker": {
             "colorbar": {
              "outlinewidth": 0,
              "ticks": ""
             }
            },
            "type": "scattergeo"
           }
          ],
          "scattergl": [
           {
            "marker": {
             "colorbar": {
              "outlinewidth": 0,
              "ticks": ""
             }
            },
            "type": "scattergl"
           }
          ],
          "scattermap": [
           {
            "marker": {
             "colorbar": {
              "outlinewidth": 0,
              "ticks": ""
             }
            },
            "type": "scattermap"
           }
          ],
          "scattermapbox": [
           {
            "marker": {
             "colorbar": {
              "outlinewidth": 0,
              "ticks": ""
             }
            },
            "type": "scattermapbox"
           }
          ],
          "scatterpolar": [
           {
            "marker": {
             "colorbar": {
              "outlinewidth": 0,
              "ticks": ""
             }
            },
            "type": "scatterpolar"
           }
          ],
          "scatterpolargl": [
           {
            "marker": {
             "colorbar": {
              "outlinewidth": 0,
              "ticks": ""
             }
            },
            "type": "scatterpolargl"
           }
          ],
          "scatterternary": [
           {
            "marker": {
             "colorbar": {
              "outlinewidth": 0,
              "ticks": ""
             }
            },
            "type": "scatterternary"
           }
          ],
          "surface": [
           {
            "colorbar": {
             "outlinewidth": 0,
             "ticks": ""
            },
            "colorscale": [
             [
              0,
              "#0d0887"
             ],
             [
              0.1111111111111111,
              "#46039f"
             ],
             [
              0.2222222222222222,
              "#7201a8"
             ],
             [
              0.3333333333333333,
              "#9c179e"
             ],
             [
              0.4444444444444444,
              "#bd3786"
             ],
             [
              0.5555555555555556,
              "#d8576b"
             ],
             [
              0.6666666666666666,
              "#ed7953"
             ],
             [
              0.7777777777777778,
              "#fb9f3a"
             ],
             [
              0.8888888888888888,
              "#fdca26"
             ],
             [
              1,
              "#f0f921"
             ]
            ],
            "type": "surface"
           }
          ],
          "table": [
           {
            "cells": {
             "fill": {
              "color": "#EBF0F8"
             },
             "line": {
              "color": "white"
             }
            },
            "header": {
             "fill": {
              "color": "#C8D4E3"
             },
             "line": {
              "color": "white"
             }
            },
            "type": "table"
           }
          ]
         },
         "layout": {
          "annotationdefaults": {
           "arrowcolor": "#2a3f5f",
           "arrowhead": 0,
           "arrowwidth": 1
          },
          "autotypenumbers": "strict",
          "coloraxis": {
           "colorbar": {
            "outlinewidth": 0,
            "ticks": ""
           }
          },
          "colorscale": {
           "diverging": [
            [
             0,
             "#8e0152"
            ],
            [
             0.1,
             "#c51b7d"
            ],
            [
             0.2,
             "#de77ae"
            ],
            [
             0.3,
             "#f1b6da"
            ],
            [
             0.4,
             "#fde0ef"
            ],
            [
             0.5,
             "#f7f7f7"
            ],
            [
             0.6,
             "#e6f5d0"
            ],
            [
             0.7,
             "#b8e186"
            ],
            [
             0.8,
             "#7fbc41"
            ],
            [
             0.9,
             "#4d9221"
            ],
            [
             1,
             "#276419"
            ]
           ],
           "sequential": [
            [
             0,
             "#0d0887"
            ],
            [
             0.1111111111111111,
             "#46039f"
            ],
            [
             0.2222222222222222,
             "#7201a8"
            ],
            [
             0.3333333333333333,
             "#9c179e"
            ],
            [
             0.4444444444444444,
             "#bd3786"
            ],
            [
             0.5555555555555556,
             "#d8576b"
            ],
            [
             0.6666666666666666,
             "#ed7953"
            ],
            [
             0.7777777777777778,
             "#fb9f3a"
            ],
            [
             0.8888888888888888,
             "#fdca26"
            ],
            [
             1,
             "#f0f921"
            ]
           ],
           "sequentialminus": [
            [
             0,
             "#0d0887"
            ],
            [
             0.1111111111111111,
             "#46039f"
            ],
            [
             0.2222222222222222,
             "#7201a8"
            ],
            [
             0.3333333333333333,
             "#9c179e"
            ],
            [
             0.4444444444444444,
             "#bd3786"
            ],
            [
             0.5555555555555556,
             "#d8576b"
            ],
            [
             0.6666666666666666,
             "#ed7953"
            ],
            [
             0.7777777777777778,
             "#fb9f3a"
            ],
            [
             0.8888888888888888,
             "#fdca26"
            ],
            [
             1,
             "#f0f921"
            ]
           ]
          },
          "colorway": [
           "#636efa",
           "#EF553B",
           "#00cc96",
           "#ab63fa",
           "#FFA15A",
           "#19d3f3",
           "#FF6692",
           "#B6E880",
           "#FF97FF",
           "#FECB52"
          ],
          "font": {
           "color": "#2a3f5f"
          },
          "geo": {
           "bgcolor": "white",
           "lakecolor": "white",
           "landcolor": "#E5ECF6",
           "showlakes": true,
           "showland": true,
           "subunitcolor": "white"
          },
          "hoverlabel": {
           "align": "left"
          },
          "hovermode": "closest",
          "mapbox": {
           "style": "light"
          },
          "paper_bgcolor": "white",
          "plot_bgcolor": "#E5ECF6",
          "polar": {
           "angularaxis": {
            "gridcolor": "white",
            "linecolor": "white",
            "ticks": ""
           },
           "bgcolor": "#E5ECF6",
           "radialaxis": {
            "gridcolor": "white",
            "linecolor": "white",
            "ticks": ""
           }
          },
          "scene": {
           "xaxis": {
            "backgroundcolor": "#E5ECF6",
            "gridcolor": "white",
            "gridwidth": 2,
            "linecolor": "white",
            "showbackground": true,
            "ticks": "",
            "zerolinecolor": "white"
           },
           "yaxis": {
            "backgroundcolor": "#E5ECF6",
            "gridcolor": "white",
            "gridwidth": 2,
            "linecolor": "white",
            "showbackground": true,
            "ticks": "",
            "zerolinecolor": "white"
           },
           "zaxis": {
            "backgroundcolor": "#E5ECF6",
            "gridcolor": "white",
            "gridwidth": 2,
            "linecolor": "white",
            "showbackground": true,
            "ticks": "",
            "zerolinecolor": "white"
           }
          },
          "shapedefaults": {
           "line": {
            "color": "#2a3f5f"
           }
          },
          "ternary": {
           "aaxis": {
            "gridcolor": "white",
            "linecolor": "white",
            "ticks": ""
           },
           "baxis": {
            "gridcolor": "white",
            "linecolor": "white",
            "ticks": ""
           },
           "bgcolor": "#E5ECF6",
           "caxis": {
            "gridcolor": "white",
            "linecolor": "white",
            "ticks": ""
           }
          },
          "title": {
           "x": 0.05
          },
          "xaxis": {
           "automargin": true,
           "gridcolor": "white",
           "linecolor": "white",
           "ticks": "",
           "title": {
            "standoff": 15
           },
           "zerolinecolor": "white",
           "zerolinewidth": 2
          },
          "yaxis": {
           "automargin": true,
           "gridcolor": "white",
           "linecolor": "white",
           "ticks": "",
           "title": {
            "standoff": 15
           },
           "zerolinecolor": "white",
           "zerolinewidth": 2
          }
         }
        },
        "title": {
         "text": "revlast Distribution"
        },
        "xaxis": {
         "anchor": "y",
         "domain": [
          0,
          1
         ],
         "title": {
          "text": "revlast"
         }
        },
        "xaxis2": {
         "anchor": "y2",
         "domain": [
          0,
          1
         ],
         "matches": "x",
         "showgrid": true,
         "showticklabels": false
        },
        "yaxis": {
         "anchor": "x",
         "domain": [
          0,
          0.8316
         ],
         "title": {
          "text": "count"
         }
        },
        "yaxis2": {
         "anchor": "x2",
         "domain": [
          0.8416,
          1
         ],
         "matches": "y2",
         "showgrid": false,
         "showline": false,
         "showticklabels": false,
         "ticks": ""
        }
       }
      }
     },
     "metadata": {},
     "output_type": "display_data"
    }
   ],
   "source": [
    "fig = px.histogram(df, x='revlast', marginal='box', nbins=47, title='revlast Distribution')\n",
    "fig.update_layout(bargap=0.1)\n",
    "fig.show()"
   ]
  },
  {
   "cell_type": "code",
   "execution_count": 21,
   "metadata": {},
   "outputs": [
    {
     "data": {
      "application/vnd.plotly.v1+json": {
       "config": {
        "plotlyServerURL": "https://plot.ly"
       },
       "data": [
        {
         "bingroup": "x",
         "hovertemplate": "rev24=%{x}<br>count=%{y}<extra></extra>",
         "legendgroup": "",
         "marker": {
          "color": "#636efa",
          "pattern": {
           "shape": ""
          }
         },
         "name": "",
         "nbinsx": 47,
         "orientation": "v",
         "showlegend": false,
         "type": "histogram",
         "x": {
          "bdata": "AAAAAAAAPkAAAAAAAOBpQAAAAAAAAEpAAAAAAABAWkAAAAAAAABAQAAAAAAAQFJAAAAAAACAU0AAAAAAAABEQAAAAAAAYGRAAAAAAABAYEAAAAAAAEBZQAAAAAAAIGVAAAAAAABAYEAAAAAAACBhQAAAAAAAgEtAAAAAAADgYUAAAAAAAEBgQAAAAAAAwFZAAAAAAAAAOkAAAAAAAIBLQAAAAAAAgEVAAAAAAACAS0AAAAAAAAA5QAAAAAAAQF1AAAAAAABgZUAAAAAAAEBSQAAAAAAAAD5AAAAAAABgaUAAAAAAAAA5QAAAAAAAgEhAAAAAAABAWEAAAAAAAMBlQAAAAAAAgGNAAAAAAAAAT0AAAAAAAABXQAAAAAAAwFlAAAAAAADIY0AAAAAAAMBiQAAAAAAAAF9AAAAAAACAW0AAAAAAAABGQAAAAAAAgFFAAAAAAAAAZEAAAAAAAEBqQAAAAAAAgE9AAAAAAACARkAAAAAAAABZQAAAAAAAgFpAAAAAAAAATUAAAAAAAIBGQAAAAAAAADlAAAAAAAAgbEAAAAAAAABOQAAAAAAAQFtAAAAAAADAZEAAAAAAAEBhQAAAAAAAAENAAAAAAACAYEAAAAAAAIBYQAAAAAAAQFFAAAAAAABAVEAAAAAAAEBcQAAAAAAAwFlAAAAAAACARkAAAAAAAABGQAAAAAAAQFpAAAAAAACAW0AAAAAAAAA0QAAAAAAAoGVAAAAAAABAV0AAAAAAAABKQAAAAAAAIGdAAAAAAAAgYkAAAAAAAOBgQAAAAAAAgGFAAAAAAADAU0AAAAAAAABHQAAAAAAAgE5AAAAAAACAS0AAAAAAAIBBQAAAAAAAAFRAAAAAAADAXUAAAAAAAMBbQAAAAAAAAFlAAAAAAACAV0AAAAAAAABSQFK4HoXrAWFAAAAAAAAAREAAAAAAAIBbQAAAAAAAoGNAAAAAAABgYkAAAAAAAAA0QAAAAAAAQFFAAAAAAADAUEAAAAAAAEBTQAAAAAAAQFhAAAAAAAAAW0AAAAAAAEBQQAAAAAAAIGRAAAAAAADAXUAAAAAAAABtQAAAAAAAwGJAAAAAAAAAPkAAAAAAAMBjQAAAAAAAQFhAAAAAAADAVEAAAAAAAMBfQAAAAAAAAFtAAAAAAAAAREAAAAAAAIBCQAAAAAAAgExAAAAAAABIcEAAAAAAAIBEQAAAAAAA4GBAAAAAAAAAaUAAAAAAAABSQAAAAAAAwFxAAAAAAADAUkAAAAAAAMBhQAAAAAAAAEVAAAAAAADAWkAAAAAAAABdQAAAAAAAAGVAAAAAAAAgaUAAAAAAAIBZQAAAAACAkHBAAAAAAACgaUAAAAAAAABDQAAAAAAAQFpAAAAAAADAY0AAAAAAAABCQAAAAAAAAD5AAAAAAAAAWEAAAAAAAMBlQAAAAAAAADlAAAAAAABgcEAAAAAAAABSQAAAAAAAwFBAAAAAAADAUUAAAAAAAMBUQAAAAAAAQFVAAAAAAACASEAAAAAAAIBRQAAAAAAAgFFAAAAAAACAUEAAAAAAAAA5QAAAAAAAgEtAAAAAAAAALkAAAAAAAAA+QAAAAAAAADpAAAAAAADAUUAAAAAAAIBkQAAAAAAAADRAAAAAAAAAUEAAAAAAAAA5QAAAAAAAgEdAAAAAAAAANEAAAAAAAIBLQAAAAAAAAC5AAAAAAAAANEAAAAAAAAA0QAAAAAAAIGBAAAAAAADAYkAAAAAAAGBiQAAAAAAAgEBAAAAAAAAgYEAAAAAAAIBQQAAAAAAAADtAAAAAAAAANEAAAAAAAIBBQAAAAAAAAEZAAAAAAABAWUAAAAAAAIBGQAAAAAAAgFZAAAAAAABAYEAAAAAAAAAuQAAAAAAAADlAAAAAAACAVEAAAAAAAEBcQAAAAAAAADhAw/UoXI8CUEAAAAAAAAA+QAAAAAAAgEZAAAAAAAAALkAAAAAAAIBTQAAAAAAAgG5AAAAAAABAYUAAAAAAAAA5QAAAAAAAgFFAAAAAAADAUUAAAAAAAABhQAAAAAAAYGFAAAAAAAAAQ0AAAAAAAEBlQAAAAAAAgEZAAAAAAAAAOUAAAAAAAAAuQAAAAAAAADRAAAAAAACATUAAAAAAAAA5QAAAAAAAgFxAAAAAAADAbUAAAAAAgJBwQAAAAAAAgEFAAAAAAAAAZkAAAAAAAMBTQAAAAAAAADZAAAAAAABAakAAAAAAAABXQAAAAAAAgEFAAAAAAAAASUAAAAAAAABEQAAAAAAAwGtAAAAAAAAASUAAAAAAAIBBQAAAAAAAgExAAAAAAACgbkAAAAAAAGBdQAAAAAAAQGZAAAAAAACAU0AAAAAAAABjQAAAAAAAwFtAAAAAAADAVUAAAAAAAMBiQAAAAAAAAEVAAAAAAABAUkAAAAAAACBgQAAAAAAAAEpAAAAAAABAVEAAAAAAAIBLQAAAAAAAwFpAAAAAAAAALkAAAAAAAEBgQAAAAAAAwF5AAAAAAAAAOkAAAAAAAAAuQAAAAAAAwFJAAAAAAAAASUAAAAAAAEBnQAAAAAAAgFNAAAAAAAAALkAAAAAAAIBDQAAAAAAAgExAAAAAAAAARUAAAAAAAAA5QAAAAAAAAGJAAAAAAAAAQkAAAAAAAABJQAAAAAAAQGBAAAAAAADgYkAAAAAAAAA0QAAAAAAAAF5AAAAAAAAASUAAAAAAAMBQQAAAAAAAgE5AAAAAAADAV0AAAAAAAAA+QAAAAAAAwF1AAAAAAABAWUAAAAAAAMBXQAAAAAAAgEZAAAAAAAAANEAAAAAAAAA+QAAAAAAAAEBAAAAAAAAAOUAAAAAAAABMQAAAAAAAQFVAAAAAAACAYkAAAAAAACBiQAAAAAAA4GhAAAAAAAAgbEAAAAAAgJBwQAAAAAAAgEpAAAAAAACAZEAAAAAAAGBjQAAAAAAAAE5AAAAAAACATEAAAAAAAABEQAAAAAAAgF9AAAAAAABAW0AAAAAAACBaQAAAAAAAgEtAAAAAAAAANEAAAAAAAABXQAAAAAAAAElAAAAAAACAXUAAAAAAAABeQAAAAAAA4GRAAAAAAAAAYUAAAAAAAAA6QAAAAAAAQF9AAAAAAAAAV0AAAAAAACBkQAAAAAAAgFZAAAAAAAAATkAAAAAAAEBlQAAAAAAAAFVAAAAAAABAbkAAAAAAAEBQQAAAAAAA4GhAAAAAAAAgYkAAAAAAgJBwQAAAAAAAIGlAAAAAAABgZ0AAAAAAAMBeQAAAAAAAAExAAAAAAACASUAAAAAAAABdQAAAAAAAAFlAAAAAAABgbUAAAAAAAAAuQAAAAAAAQFZAAAAAAAAAN0AAAAAAAABeQAAAAAAAgEZAAAAAAACAS0AAAAAAAABCQAAAAAAAgElAAAAAAAAgYUAAAAAAAABUQAAAAACAkHBAAAAAAABAWkAAAAAAAABPQAAAAAAAAFtAAAAAAICQcEAAAAAAAIBUQAAAAAAAgEtAAAAAAACAS0AAAAAAAIBDQAAAAAAAgEFAAAAAAAAAOUAAAAAAAABcQAAAAAAAIGFAAAAAAACAY0AAAAAAAEBcQAAAAAAAoGZAAAAAAAAAOUAAAAAAAEBdQAAAAAAAQFdAAAAAAACAZEAAAAAAAABBQAAAAAAAQF5AAAAAAABAYEAAAAAAACBgQAAAAAAAAF1AAAAAAABQUUAAAAAAAABQQAAAAAAAoGFAAAAAAADAVEAAAAAAAIBJQAAAAAAAoGZAAAAAAABAY0AAAAAAAAA0QAAAAAAAQFZAAAAAAABgY0AAAAAAAABfQAAAAAAA4GhAAAAAAACAQUAAAAAAAABMQAAAAAAAgEBAAAAAAAAAPkAAAAAAACBhQAAAAAAAwFxAAAAAAABAUEAAAAAAAABlQAAAAAAAAE9AAAAAAACARkAAAAAAAABBQAAAAAAAQFBAAAAAAAAANEAAAAAAAAA5QAAAAAAAAC5AAAAAAAAANEAAAAAAAABWQAAAAAAAAEFAAAAAAABAYEAAAAAAAIBAQAAAAAAAQFpAAAAAAACAWUAAAAAAAIBBQAAAAAAAAC5AAAAAAABAV0AAAAAAAEBjQAAAAAAAAEFAAAAAAAAANEAAAAAAAMBeQAAAAAAAAC5AAAAAAACAXUAAAAAAAAA3QAAAAAAAADlAAAAAAAAANEAAAAAAAIBjQAAAAAAAYG9AAAAAAAAANEAAAAAAAAA5QAAAAAAAQFVAAAAAAAAAVkAAAAAAAAA6QAAAAAAA0GpAAAAAAAAAOUAAAAAAAAA6QAAAAAAAADdAAAAAAAAASUAAAAAAAMBYQAAAAAAAADRAAAAAAAAANEAAAAAAAAA0QAAAAAAAAGlAAAAAAAAAQkAAAAAAAEBTQAAAAAAAAEhAAAAAAAAAOEAAAAAAAKBsQAAAAAAAwF9AAAAAAACARkAAAAAAgJBwQAAAAAAAAFNAAAAAAADAUkAAAAAAAEBsQDMzMzMz8zJAAAAAAAAAOUAAAAAAAIBDQAAAAAAAAFpAAAAAAAAALkAAAAAAAAA5QAAAAAAAIGJAAAAAAAAAZkAAAAAAAGBkQAAAAAAAIGBAAAAAAAAAMEAAAAAAAABRQAAAAAAAgF9AAAAAAAAAVEAAAAAAAEBfQAAAAAAAoFlAAAAAAAAAPkAAAAAAAEBuQAAAAAAAQF9AAAAAAAAAX0AAAAAAAABEQAAAAAAA4GNAAAAAAAAAO0AAAAAAAIBNQAAAAAAAAFRAAAAAAABgY0AAAAAAAGBnQAAAAAAAADRAAAAAAAAAPkAAAAAAAAAuQAAAAACAkHBAAAAAAABAZkAAAAAAAGBjQAAAAAAAAEFAAAAAAAAAVkAAAAAAAAAuQAAAAAAAADlAAAAAAACATkAAAAAAAABXQAAAAAAAgEFAAAAAAAAAT0AAAAAAAAA+QAAAAAAAQFlAAAAAAADAXEAAAAAAAMBZQAAAAAAAwFBAAAAAAAAANEAAAAAAAIBZQAAAAAAAoGNAAAAAAABAVUAAAAAAAAA8QAAAAAAAgFhAAAAAAABAUEAAAAAAAIBAQAAAAAAAAFNAAAAAAAAAOUAAAAAAAABAQAAAAAAAwGZAAAAAAAAATkAAAAAAAEBQQAAAAAAAQF5AAAAAAABAXEAAAAAAAABAQAAAAAAAADRAAAAAAAAAV0AAAAAAAGBlQAAAAAAAYGJAAAAAAADAUUAAAAAAAIBeQAAAAAAAAC5AAAAAAICQcEAAAAAAgJBwQAAAAAAAAEFAAAAAAADQZEAAAAAAAAA5QAAAAAAAgEFAAAAAAICQcEAAAAAAAOBiQAAAAAAAgEhAAAAAAAAANEAAAAAAAEBaQAAAAAAAADlAAAAAAADAVEAAAAAAAGBtQAAAAAAAADRAAAAAAAAAOUAAAAAAAIBLQAAAAAAAgFNAAAAAAAAALkAAAAAAAAA0QAAAAAAAAEdAAAAAAAAAQEAAAAAAAMBVQAAAAAAAAFlAAAAAAAAASUAAAAAAAIBQQAAAAAAAAFRAAAAAAAAAMkAAAAAAAKBoQAAAAAAAgEZAAAAAAABAU0AAAAAAACBgQAAAAAAAgFhAAAAAAAAAOUAAAAAAAAA+QAAAAAAAADRAAAAAAACAY0AAAAAAgJBwQAAAAAAAADRAAAAAAADATUAAAAAAAIBXQAAAAAAAwFtAAAAAAAAAOUAAAAAAACBhQAAAAAAAYGRAAAAAAAAAU0AAAAAAAAA+QAAAAAAAADRAAAAAAABAWUAAAAAAAABJQAAAAAAAAD1AAAAAAAAAU0AAAAAAAAA5QAAAAAAAAFZAAAAAAAAAT0AAAAAAAMBjQAAAAAAAAFZAAAAAAAAASkAAAAAAAAA0QAAAAAAAoGFAAAAAAAAgYEAAAAAAAMBSQAAAAAAAAEFAAAAAAACAUEAAAAAAAMBjQAAAAAAAADlAAAAAAACAQUAAAAAAAGBoQAAAAAAAgEJAAAAAAACAZEAAAAAAAIBBQAAAAAAAAC5AAAAAAAAAW0AAAAAAAEBwQAAAAAAAAC5AAAAAAABAakAAAAAAAABJQAAAAACAkHBAAAAAAAAARkAAAAAAAIBBQAAAAAAAgEFAAAAAAAAATEAAAAAAAEBUQAAAAAAAADlAAAAAAICQcEAAAAAAAABNQAAAAAAAADRAAAAAAABAYEAAAAAAAEBaQAAAAAAAAD5AAAAAAAAASkAAAAAAAAA5QAAAAAAAQFNAAAAAAABAZUAAAAAAAIBoQAAAAAAAgEJAAAAAAAAgYEAAAAAAAAA+QAAAAACAkHBAAAAAAACAUEAAAAAAAABOQAAAAAAAgFJAAAAAAAAAU0AAAAAAAABUQAAAAAAAAC5AAAAAAABgaUAAAAAAAEBTQAAAAAAAAFlAAAAAAADAY0AAAAAAAAA5QAAAAAAAQGFAAAAAAACAWkAAAAAAAMBgQAAAAAAAQFFAAAAAAICQcEAAAAAAAEBQQAAAAAAAgEhAAAAAAACARkAAAAAAAABPQAAAAAAAAFpAAAAAAACgYkAAAAAAAMBbQAAAAAAAgEpAAAAAAACAQ0AAAAAAAOBqQAAAAAAAAElAAAAAAACAQUAAAAAAAMBaQAAAAAAAAGpAAAAAAACAWEAAAAAAAABBQAAAAAAAAGBAAAAAAAAANEAAAAAAAMBdQAAAAAAAgEhAAAAAAAAAPkAAAAAAAAA+QAAAAAAAAEVAAAAAAAAAOkAAAAAAAIBVQAAAAAAAgERAAAAAAABAUEAAAAAAAAA+QAAAAAAAIGZAAAAAAAAAPkAAAAAAgJBwQOF6FK5HAWVAAAAAAADgZkAAAAAAgJBwQAAAAAAAYGFAAAAAAAAAWUAAAAAAAAA+QAAAAAAAAGFAAAAAAACAWkAAAAAAAABEQAAAAAAAgGtAAAAAAAAAOUAAAAAAAAA+QAAAAAAAgFxAAAAAAAAAT0AAAAAAAABBQAAAAAAAwFBAAAAAAAAARkAAAAAAAABZQAAAAAAAgFZAAAAAAAAAVUAAAAAAAIBEQAAAAAAAgGNAAAAAAAAANEAAAAAAAABcQAAAAAAAgE5AAAAAAAAATUAAAAAAAABXQAAAAAAAgEdAAAAAAAAAWkAAAAAAAIBbQAAAAAAAgEFAAAAAAACAXkAAAAAAAAA0QAAAAAAAgFhAAAAAAAAAYkAAAAAAAABKQAAAAAAAgElAAAAAAADAUkAAAAAAAIBVQAAAAACAkHBAAAAAAAAAVkAAAAAAAIBaQAAAAAAAADlAAAAAAABAY0AAAAAAAGBjQAAAAAAAAEhAAAAAAACASEAAAAAAAEBXQAAAAAAAAFlAAAAAAAAAOUAAAAAAAABEQAAAAAAAgExAAAAAAAAAWEAAAAAAAAA0QAAAAAAAwFZAAAAAAABgY0AAAAAAAAA0QAAAAAAAgGBAAAAAAAAAOUAAAAAAgJBwQAAAAAAAgE5AAAAAAAAAOUAAAAAAAIBwQAAAAAAAAD5AAAAAAAAAOkAAAAAAAKBhQAAAAAAAAC5AAAAAAABgYkAAAAAAAEBlQAAAAAAAAGJAMzMzMzOTTkAAAAAAACBuQGZmZmZmZmFAAAAAAABwcEAAAAAAgJBwQAAAAAAAAD5AAAAAAAAAQ0AAAAAAAMBdQAAAAAAAAD1AAAAAAAAATEAAAAAAAABZQAAAAACAkHBAAAAAAACAX0AAAAAAAIBAQAAAAAAAADZAAAAAAACAX0AAAAAAAIBEQAAAAAAAgEtAAAAAAAAAOkAAAAAAAAA+QAAAAAAAAGlAAAAAAAAATkAAAAAAAIBBQAAAAAAAAGhAAAAAAADgYEAAAAAAAMBYQAAAAAAAgFdAAAAAAAAAVkAAAAAAAMBdQAAAAACAkHBAAAAAAICQcEAAAAAAAMBeQAAAAAAAADRAAAAAAAAAVkAAAAAAAMBRQAAAAAAAIGVAAAAAAAAAQ0AAAAAAAEBfQAAAAAAAgEhAAAAAAADAWUAAAAAAAABWQAAAAACAkHBAAAAAAACAQkAAAAAAAIBBQAAAAAAAADpAAAAAAABAVUAAAAAAAABcQAAAAAAAQGRAAAAAAABAWkAAAAAAAIBeQAAAAAAAQFRAAAAAAAAAWUAAAAAAAMBXQAAAAAAAQFVAAAAAAACAWUAAAAAAAABEQAAAAAAAgFNAAAAAAADAVEAAAAAAAABOQAAAAAAAgEdAAAAAAABAV0AAAAAAAABPQAAAAAAAAGlAAAAAAADAW0AAAAAAACBuQAAAAAAAAEhAAAAAAACASEAAAAAAAABMQAAAAAAAQGVAAAAAAAAAQUAAAAAAAIBrQAAAAAAAQFVAAAAAAAAgY0AAAAAAAIBBQAAAAAAAQFBA7FG4HoUrUEAAAAAAAAA+QAAAAAAAADRAAAAAAAAAPEAAAAAAAIBSQAAAAAAAgEtAAAAAAADAUEAAAAAAAABPQAAAAAAAAFxAAAAAAABAW0AAAAAAAIBOQAAAAAAAgE5AAAAAAADAVEAAAAAAAABQQAAAAAAAQFNAAAAAAABAW0AAAAAAAIBLQAAAAAAAgGdAAAAAAAAAYkAAAAAAAIBMQAAAAAAAwFBAAAAAAAAAPkAAAAAAAEBSQAAAAAAAkHBAAAAAAADAW0AAAAAAAABJQAAAAAAAwFhAAAAAAACAYkAAAAAAAABnQAAAAAAAIG9AAAAAAADgY0AAAAAAAIBBQAAAAAAAgGBAAAAAAACAXEAAAAAAAMBUQAAAAAAAAFJAAAAAAACARUAAAAAAAIBBQAAAAAAAADpAAAAAAACgZUAAAAAAAIBtQAAAAAAAAD1AAAAAAACAXkAAAAAAAMBiQAAAAAAAoGBAAAAAAACARkAAAAAAAEBdQAAAAAAAgEFAAAAAAACARkAAAAAAAMBVQAAAAAAAIGRAAAAAAACASUAAAAAAAIBXQAAAAAAAwFBAAAAAAADgb0AAAAAAAABAQAAAAAAAwFZAAAAAAACARUAAAAAAAEBYQAAAAAAAAF1AAAAAAACAUkAAAAAAAAA7QAAAAAAAgFlAAAAAAACAUkAAAAAAAABJQAAAAAAAwFpAAAAAAICQcEAAAAAAAIBIQAAAAAAAwFVAAAAAAADAUEAAAAAAAABSQAAAAAAAQFVAAAAAAABgZEAAAAAAAIBDQAAAAAAAAGBAAAAAAAAAREAAAAAAAMBgQAAAAAAAgG9AAAAAAAAAbkAAAAAAAGBuQAAAAAAAAEpAAAAAAACAUEAAAAAAAABBQAAAAAAAQFhAAAAAAACAXkAAAAAAACBiQAAAAAAA4GBAAAAAAACAWkAAAAAAAIBgQAAAAAAAAFtAAAAAAACAUkAAAAAAgJBwQAAAAAAAgEBAAAAAAAAAQkAAAAAAAAA5QAAAAAAAADlAAAAAAAAAV0AAAAAAAABdQAAAAAAAwFhAAAAAAAAAPkAAAAAAAIBbQAAAAAAAgF1AAAAAAABAXEAAAAAAgJBwQAAAAAAAIGxAAAAAAAAgYkAAAAAAAABZQAAAAACAkHBAAAAAAAAAWUAAAAAAAIBYQAAAAAAAgFRAAAAAAAAAPkAAAAAAAAA8QAAAAAAAgFtAAAAAAICQcEAAAAAAAEBpQAAAAACAkHBAAAAAAAAAREAAAAAAAMBUQAAAAAAAwGJAAAAAAADAYUAAAAAAAABwQAAAAAAAgFdAAAAAAABAV0AAAAAAAMBbQAAAAAAAwGdAAAAAAACATUAAAAAAAGBsQAAAAACAkHBAAAAAAAAAT0AAAAAAACBgQAAAAAAAADJAAAAAAADAUEAAAAAAAABEQAAAAAAAADRAAAAAAACAQEAAAAAAAIBWQAAAAAAAADlAAAAAAICQcEAAAAAAAABdQAAAAAAAgFpAAAAAAAAAWUAAAAAAAABFQAAAAAAAAD1AAAAAAADgYEAAAAAAAMBSQAAAAAAAgFhAAAAAAACAR0AAAAAAAABKQAAAAACAkHBAAAAAAAAAXkAAAAAAAABZQAAAAAAAAFRAAAAAAACAREAAAAAAAIBpQAAAAAAAAElAAAAAAICQcEAAAAAAAAA5QAAAAAAAAE9AAAAAAACAVEAAAAAAACBhQAAAAAAAAENAAAAAAAAAREAAAAAAAIBGQAAAAAAAwF9AAAAAAAAAUEAAAAAAAMBQQAAAAAAAAFlAAAAAAAAASkAAAAAAAIBMQAAAAAAAAFxAAAAAAAAASkAAAAAAAEBiQAAAAAAAQFVAAAAAAABAU0AAAAAAAIBBQAAAAAAAwFtAAAAAAACAQ0AAAAAAAABEQAAAAAAAQGNAAAAAAABgZ0AAAAAAAABeQAAAAAAAQG5AAAAAAACASEAAAAAAAABgQAAAAAAAwFJAAAAAAAAASUAAAAAAAABOQAAAAAAAQFBAAAAAAAAAXEAAAAAAAIBUQAAAAAAAQFFAAAAAAAAASUAAAAAAAABPQAAAAAAAwFhAAAAAAAAAV0AAAAAAAABGQAAAAAAAAExAAAAAAAAAVUAAAAAAAIBRQAAAAAAAgF5AAAAAAAAAT0AAAAAAAMBUQAAAAAAAAFRAAAAAAACAQ0AAAAAAAEBZQAAAAAAAoGhAAAAAAAAASEAAAAAAAAA1QAAAAAAAAFBAAAAAAADAW0AAAAAAAMBXQAAAAAAAgE5AAAAAAABAV0AAAAAAAIBWQAAAAACAkHBAAAAAAABAXUAAAAAAAIBbQAAAAAAAAFlAAAAAAAAALkAAAAAAAMBcQAAAAAAAIGZAAAAAAADAU0AAAAAAAMBSQAAAAAAAADRAAAAAAACAVkAAAAAAAIBgQAAAAAAAAFZAAAAAAACAcEAAAAAAAABYQAAAAAAAQFBAAAAAAACASUAAAAAAAIBgQAAAAAAAADtAAAAAAACATUAAAAAAAMBSQAAAAAAAAGVAAAAAAAAAREAAAAAAAIBgQAAAAAAAQFJAzczMzMwcYkAAAAAAAABVQAAAAAAAgEtAAAAAAACAVkAAAAAAAMBsQAAAAAAAAGBAAAAAAADgYkAAAAAAAMBhQAAAAAAAwFJAAAAAAADAa0AAAAAAAKBoQAAAAAAAAD1AAAAAAAAASEAAAAAAAABDQAAAAAAAgF1AAAAAAACgbEAAAAAAAMBUQAAAAAAAAFNAAAAAAACAQkAAAAAAAGBpQAAAAAAAgFFAAAAAAACgakAAAAAAAMBgQAAAAAAAgFBAAAAAAAAAWkAAAAAAAIBaQAAAAAAAQFdAAAAAAADAUkAAAAAAAIBLQAAAAAAAgGVAAAAAAACAUkAAAAAAAABJQAAAAAAAwFdAAAAAAADAVkAAAAAAAIBXQAAAAAAAAFRAAAAAAAAATkAAAAAAAGBgQAAAAAAAADlAAAAAAAAAQEAAAAAAAIBJQAAAAAAAAGFAAAAAAABAU0AAAAAAAMBYQAAAAAAAYGNAAAAAAACAXUAAAAAAAABfQAAAAAAAAD5AAAAAAAAAVEAAAAAAAGBlQAAAAAAAgEpAAAAAAADAUEAAAAAAgJBwQAAAAAAAgExAAAAAAACAV0AAAAAAAABTQAAAAAAAAEFAAAAAAAAAN0AAAAAAACBhQAAAAAAAoGNAAAAAAABAWkAAAAAAAABQQAAAAAAAAHBAAAAAAAAASUAAAAAAAEBUQAAAAAAA4GBAAAAAAACAQUAAAAAAAIBcQAAAAAAAQFVAAAAAAAAAPEAAAAAAgJBwQAAAAAAAAFlAAAAAAAAARUAAAAAAAIBKQAAAAAAAgEFAAAAAAABAVEAAAAAAAGBhQAAAAAAAwFRAAAAAAAAAOUAAAAAAAABQQAAAAAAAQF9AAAAAAABAXEAAAAAAAKBhQAAAAAAAgEJAAAAAAACAW0AAAAAAgJBwQAAAAAAAAFdAAAAAAACATkAAAAAAAAA5QAAAAAAAAFRAAAAAAABAV0AAAAAAAEBTQAAAAAAAIGpAAAAAAAAATkAAAAAAAABeQMP1KFyPUmpAAAAAAACARkAAAAAAAIBQQAAAAAAAgEpAAAAAAABAUEAAAAAAAIBBQAAAAAAAADRAAAAAAADgYUAAAAAAgJBwQAAAAAAAYGRAAAAAAAAAPkAAAAAAAIBYQAAAAAAAwGhAAAAAAACAT0AAAAAAgJBwQAAAAAAAQFtAAAAAAAAARECkcD0K11NpQAAAAAAAAEBAAAAAAICQcEAAAAAAAEBoQAAAAAAAAFlAAAAAAACAQUAAAAAAAIBVQAAAAAAAgFJAAAAAAABAUEAAAAAAAGBvQAAAAAAAAFNAAAAAAAAATkCamZmZmZk9QAAAAAAAADlAAAAAAACAZ0AAAAAAAAAuQAAAAAAAgEZAAAAAAADAXkAAAAAAAAA0QAAAAAAAADlAAAAAAAAAQUAAAAAAAABDQAAAAAAAwFRAAAAAAAAAaEAAAAAAAOBuQAAAAAAAwFFAAAAAAACAQUAAAAAAAABJQAAAAAAAYGVAAAAAAICQcEAAAAAAAIBgQAAAAAAAQFNAAAAAAAAgZUAAAAAAAEBmQAAAAAAAgFFAAAAAAABgaUAAAAAAAIBZQAAAAAAA4GNAAAAAAADAU0AAAAAAAAA+QAAAAAAA4GVAAAAAAACARkAAAAAAAKBnQAAAAAAAQFRAAAAAAACAVkAAAAAAAAAuQAAAAAAAoGhAAAAAAAAgYkAAAAAAAIBRQAAAAAAAeGBAAAAAAAAAOkAAAAAAAIBKQAAAAAAAgF5AAAAAAAAALkAAAAAAAIBKQAAAAAAAAEJAAAAAAACAR0AAAAAAAAA6QAAAAAAAQFhAAAAAAAAAMkAAAAAAAABQQAAAAAAAQFpAAAAAAAAAWkAAAAAAAABUQAAAAAAAAFFAAAAAAADAUkAAAAAAAABmQAAAAAAAAD5AAAAAAABAUEAAAAAAAIBIQAAAAAAAAE5AAAAAAADAU0AAAAAAAMBdQAAAAAAAgFJAAAAAAACATkAAAAAAAAAuQAAAAAAAgEhAAAAAAACAXEAAAAAAAEBSQAAAAAAAQFdAAAAAAACAUEAAAAAAAABOQAAAAAAAAEBAAAAAAABAV0AAAAAAgJBwQAAAAAAAgEVAAAAAAACAXEAAAAAAAMBSQAAAAAAAAENAAAAAAAAATkAAAAAAAIBMQAAAAAAAgE9AAAAAAACASkAAAAAAAAA0QAAAAAAAADlAAAAAAABAWEAAAAAAAIBMQAAAAAAAAGtAAAAAAAAAU0AAAAAAAAAuQAAAAAAAAEpAAAAAAACAVUAAAAAAAMBZQAAAAAAAwFVAAAAAAAAALkAAAAAAAAA5QAAAAAAAAD1AAAAAAAAANEAAAAAAAMBWQAAAAAAAADRAAAAAAACAV0AAAAAAAMBcQAAAAAAAgElAAAAAAAAAREAAAAAAAAAuQAAAAACAkHBAAAAAAAAAV0AAAAAAAEBfQAAAAAAAwFVAAAAAAAAAb0AAAAAAAIBXQAAAAAAAAD5AAAAAAAAAOUAAAAAAAABOQAAAAAAAgGVAAAAAAAAAUkAAAAAAAIBcQAAAAAAA4G9AAAAAAAAARkAAAAAAAAA5QAAAAAAAAC5AAAAAAACgYUAAAAAAAABaQAAAAAAAwFNAAAAAAAAAW0AAAAAAAGBwQAAAAAAAgFJAAAAAAAAAT0AAAAAAAAA8QAAAAAAAQF1AAAAAAABAVUAAAAAAgJBwQAAAAACAkHBAAAAAAACAWkAAAAAAAABOQAAAAAAAQGJAAAAAAICQcEAAAAAAAABHQAAAAAAAQF9AAAAAAACAVkAAAAAAAABFQAAAAAAAwF1AAAAAAAAAPkAAAAAAAABjQAAAAAAAgGhAAAAAAACAS0AAAAAAAAAuQAAAAAAAAD1AAAAAAAAAQEAAAAAAAABaQAAAAAAAADlAAAAAAACARkAAAAAAAIBTQAAAAAAAgFNAAAAAAAAANEAAAAAAAIBcQAAAAAAAADRAAAAAAAAAN0AAAAAAAAA5QAAAAAAAQFFAAAAAAABAWUAAAAAAAABVQAAAAAAAQFpAAAAAAACAWEAAAAAAAABTQAAAAAAAADRAAAAAAACAQUAAAAAAAEBaQAAAAAAAADRAAAAAAAAAOUAAAAAAAIBYQAAAAAAAgGBAAAAAAAAARkAAAAAAAIBlQAAAAAAAAEhAAAAAAADwYkAAAAAAAAA+QAAAAAAAwGFAAAAAAAAAMUAAAAAAAABeQAAAAAAAgEpAAAAAAACAU0AAAAAAAIBDQAAAAAAAgFVAAAAAAACAU0AAAAAAAOBjQAAAAAAAAEpAAAAAAADAV0AAAAAAAABEQAAAAAAAADlAAAAAAABAV0AAAAAAAAA/QAAAAAAAIFtAAAAAAAAANEAAAAAAAABmQAAAAAAAQFBAAAAAAAAANEAAAAAAAEBpQAAAAAAAAEBAAAAAAAAAPEAAAAAAAEBVQAAAAAAAAGBAAAAAAABAWUAAAAAAAMBjQAAAAAAAIGJAAAAAAABAVEAAAAAAAABKQAAAAAAA4GdAAAAAAACAUUAAAAAAAGBjQAAAAAAAgGNAAAAAAAAAOUAAAAAAAABcQAAAAAAAAERAAAAAAAAALkAAAAAAAAAuQAAAAAAAAFpAAAAAAADgY0AAAAAAAABTQAAAAAAAQFBAAAAAAACAREAAAAAAAIBPQAAAAAAAwFFAAAAAAAAAOkAAAAAAAKBhQAAAAAAAQGpAAAAAAADgWUAAAAAAAABGQAAAAAAA8GBAAAAAAAAAPkAAAAAAAEBTQAAAAAAAAFpAAAAAAAAAOUAAAAAAAABIQAAAAAAAAE1AAAAAAAAATUAAAAAAAAAuQAAAAAAAgFNAAAAAAABAVkAAAAAAAIBGQAAAAAAAgE5AAAAAAACAXEAAAAAAAEBiQAAAAAAAAFlAAAAAAADAZ0AAAAAAAIBaQAAAAAAAADRAAAAAAAAATkAAAAAAAIBGQAAAAAAAAF9AAAAAAACAZEAAAAAAAIBDQAAAAAAAIGFAAAAAAICQcEAAAAAAgJBwQAAAAAAAAEtAAAAAAABAXEAAAAAAgJBwQAAAAAAAAEFAAAAAAAAASUAAAAAAAIBBQAAAAAAAAFRAAAAAAAAASUAAAAAAACBhQAAAAAAAgFpAAAAAAAAAVEAAAAAAAAA0QAAAAAAAADlAAAAAAAAAR0AAAAAAAABSQAAAAAAAADlAAAAAAADAWUAAAAAAAAA2QAAAAAAAADlAAAAAAABgYkAAAAAAAIBpQAAAAAAAwFxAAAAAAADAXEAAAAAAAIBRQAAAAAAAgEFAAAAAAACAXEAAAAAAAAA5QAAAAAAAAExAAAAAAADAVkAAAAAAAABDQAAAAAAAADlAAAAAAADAZ0AAAAAAAABRQAAAAAAAgExAAAAAAAAASkAAAAAAAAA5QAAAAAAAADdAAAAAAAAAY0AAAAAAAEBfQAAAAAAAgFBAAAAAAAAAWEAAAAAAAAA9QFyPwvUozFlAAAAAAACASEAAAAAAAKBjQAAAAAAAgEZAAAAAAACARkAAAAAAAMBdQAAAAAAAAFFAAAAAAICQcEAAAAAAAOBgQAAAAAAAwFFAAAAAAAAAUEAAAAAAAIBdQAAAAAAAADxAAAAAAAAAQ0AAAAAAAIBOQAAAAAAAgGxAAAAAAAAASUAAAAAAAIBdQAAAAAAAgGpAAAAAAAAAVEAAAAAAAABbQAAAAAAAADlAAAAAAAAAVkAAAAAAAEBSQAAAAACAkHBAAAAAAACAS0AAAAAAAABEQAAAAACAkHBAAAAAAACAWkAAAAAAAEBeQAAAAAAAADlAAAAAAACAQEAAAAAAAABVQAAAAAAAgEtAAAAAAAAASUAAAAAAAMBuQAAAAAAAgFVAAAAAAABAVUAAAAAAAIBCQAAAAAAAQFBAAAAAAADAUEAAAAAAAKBhQAAAAAAAEFRAAAAAAAAAVUAAAAAAAAA5QAAAAAAAQF9AAAAAAACAS0AAAAAAAIBNQAAAAAAAADlAAAAAAACAXkAAAAAAAAAuQAAAAAAAgEdAAAAAAADAY0AAAAAAAAA5QAAAAAAAADRAAAAAAAAANEAAAAAAAABJQAAAAAAAQFFAAAAAAAAAPEAAAAAAAABmQAAAAAAAQF9AAAAAAAAASUAAAAAAAIBBQAAAAAAAAEVAAAAAAACAREAAAAAAAEBfQAAAAACAkHBAAAAAAAAASkAAAAAAAABCQAAAAAAAQG1AAAAAAAAga0AAAAAAAIBGQAAAAACAkHBAAAAAAAAASUAAAAAAAOBgQAAAAAAAAC5AAAAAAAAAOUAAAAAAAOBrQAAAAAAAwF5AAAAAAAAAW0AAAAAAAABZQAAAAAAAQFBAAAAAAABAZEAAAAAAAIBSQAAAAAAAAC5AAAAAAADAV0AAAAAAAAA2QAAAAAAAAFZAAAAAAAAAPUAAAAAAAIBLQAAAAAAAAEpAAAAAAADAUUAAAAAAAAAuQAAAAAAAAEtAAAAAAACgYkAAAAAAAIBSQAAAAAAAADlAAAAAAAAARUAAAAAAAAA5QAAAAAAAAD9AAAAAAAAALkAAAAAAAMBRQAAAAAAAADRAAAAAAADAXEAAAAAAAIBBQAAAAAAAADpAAAAAAACAYEAAAAAAAEBkQAAAAAAAwFNAAAAAAAAAU0AAAAAAAAA8QAAAAAAAADdAAAAAAACAW0AAAAAAAABHQAAAAAAAgFZAAAAAAAAAQkAAAAAAAAAuQAAAAAAAAC5AAAAAAAAAWkAAAAAAAKBoQAAAAAAAADlAAAAAAAAAPkAAAAAAAABcQAAAAAAAQFVAAAAAAAAAZkAAAAAAAABFQAAAAAAAAEdAAAAAAAAAN0AAAAAAAIBdQAAAAAAAAG9AAAAAAAAAU0AAAAAAAABJQAAAAAAAAC5AAAAAAABAXUAAAAAAAABEQAAAAAAAwFxAAAAAAACAXEAAAAAAAIBBQAAAAAAAwGNAAAAAAAAAOUAAAAAAAEBQQAAAAAAAAD1AAAAAAADAUEAAAAAAAMBTQAAAAAAAAC5AAAAAAAAAPkAAAAAAAGBhQAAAAAAAAEZAAAAAAAAAS0AAAAAAAIBaQAAAAAAAADRAAAAAAAAALkAAAAAAAABFQAAAAAAAAEdAAAAAAICQcEAAAAAAAKBiQAAAAAAAwGJAAAAAAADAVkAAAAAAAIBAQAAAAAAAgEBAAAAAAAAAV0AAAAAAAABJQAAAAAAAwFhAAAAAAAAAPkAAAAAAAAAuQAAAAAAAAEtAAAAAAAAgWkAAAAAAAEBjQAAAAAAAwFZAAAAAAAAAOUAAAAAAAAA5QAAAAAAAAEJAAAAAAAAAQ0AAAAAAAABTQAAAAAAAAElAAAAAAAAALkAAAAAAAEBVQAAAAAAAAFlAAAAAAAAANEAAAAAAAMBSQAAAAAAA6GBAAAAAAABAX0AAAAAAAAA/QAAAAAAAAFZAAAAAAAAALkAAAAAAAMBsQAAAAAAAwFBAAAAAAABAZUAAAAAAAGBoQAAAAAAAgEFAAAAAAICQcEAAAAAAAAAuQAAAAAAAAC5AAAAAAAAAQEAAAAAAAABkQAAAAAAAwFVAAAAAAAAAOUAAAAAAAAA0QAAAAAAAwGFAAAAAAADAV0AAAAAAAIBLQAAAAAAAADxAAAAAAAAAR0AAAAAAgJBwQKRwPQrXg1VAAAAAAADAZ0AAAAAAAMBaQAAAAAAAQEhAAAAAAAAANEAAAAAAAMBcQAAAAAAA4GRAAAAAAACAREAAAAAAAGBsQAAAAAAAYG9AAAAAAAAANEAAAAAAAABPQAAAAAAAoG5AAAAAAABgZkAAAAAAAAA4QAAAAAAAgExAAAAAAABwcEAAAAAAAABkQAAAAAAAgF9AAAAAAACgZkAAAAAAAIBLQAAAAAAAgENAAAAAAABAXUAAAAAAAEBSQAAAAAAAwF1AAAAAAAAgUkAAAAAAAAA8QAAAAAAAADlAAAAAAAAANUAAAAAAAIBSQAAAAAAAkHBAAAAAAACAT0AAAAAAAAA1QAAAAAAAAERAAAAAAAAAYEAAAAAAAABWQAAAAAAAADRAAAAAAAAwWUAAAAAAAIBXQAAAAACAkHBAAAAAAADga0AAAAAAgJBwQAAAAAAAAFxAAAAAAACAV0AAAAAAAAA0QAAAAAAAQF5AAAAAAADgY0AAAAAAAIBbQAAAAACAkHBAAAAAAAAAOUAAAAAAAMBZQAAAAAAAgFBAAAAAAAAARUAAAAAAAAA6QAAAAAAAgEdAAAAAAACAS0AAAAAAAIBOQAAAAAAAYG1AAAAAAICQcEAAAAAAAKBlQAAAAAAAAGxAAAAAAADAYkAAAAAAAABGQAAAAAAAIGBAAAAAAAAAP0AAAAAAAABDQAAAAAAAYGZAAAAAAACAQEAAAAAAAABTQAAAAAAAADRAAAAAAAAQbEAAAAAAAEBXQAAAAAAAwFpAAAAAAADAW0AAAAAAACBlQAAAAAAAAD9AAAAAAACAQUAAAAAAAABaQAAAAAAAYGRAAAAAAAAAVkAAAAAAAKBsQAAAAAAAwF1AAAAAAAAAVkAAAAAAAIBaQAAAAAAAAERAAAAAAICQcEAAAAAAAABJQAAAAAAAAFJAAAAAAABAX0AAAAAAAMBoQAAAAAAAgF1AAAAAAAAAPkAAAAAAAAA5QAAAAAAAgEJAAAAAAAAAN0AAAAAAAABJQAAAAAAAAGJAAAAAAAAATkAAAAAAgJBwQAAAAAAAgEJAAAAAAABgYEAAAAAAAEBdQAAAAAAAAC5AAAAAAAAAT0AAAAAAAIBiQAAAAAAAAEVAAAAAAABAWUAAAAAAAABFQAAAAAAAwGtAAAAAAABAW0AAAAAAAABQQAAAAAAAQGRAAAAAAAAga0AAAAAAAMBeQAAAAAAAQFxAAAAAAICQcEAAAAAAAIBYQAAAAAAAADRAAAAAAACAW0AAAAAAAIBLQAAAAAAAAFhAAAAAAAAANEAAAAAAAIBFQAAAAAAAgFhAAAAAAAAAN0AAAAAAAOBhQAAAAAAAAD5AAAAAAACAakAAAAAAAEBRQAAAAAAAAERAAAAAAAAAQ0AAAAAAgJBwQAAAAAAAAGRAAAAAAAAAR0AAAAAAAIBCQAAAAAAAYGVAzczMzMysXUAAAAAAAABNQAAAAAAAgEZAAAAAAAAATEAAAAAAAAAwQAAAAAAAgEhAAAAAAACgZEAAAAAAgJBwQAAAAAAAQFhAAAAAAACga0AAAAAAAAA0QAAAAAAAgEpAAAAAAACAS0AAAAAAAIBDQDMzMzMzo1dAAAAAAAAARUAAAAAAAABDQAAAAAAAAEJAAAAAAAAAXUAAAAAAAIBGQAAAAAAAoGBAAAAAAADAXEAAAAAAAABEQAAAAAAAYGNAAAAAAABAVUAAAAAAAABQQAAAAAAAAG5AAAAAAAAALkAAAAAAAIBMQAAAAAAAAC5AAAAAAACgZUAAAAAAAOBiQAAAAAAAAFxAAAAAAICQcEAAAAAAAMBfQAAAAAAAgFNAAAAAAACAQUAAAAAAAABJQAAAAAAAgEZAAAAAAAAAVEAAAAAAAABLQAAAAAAAQF1AAAAAAACARkAAAAAAAABUQAAAAAAAAFFAAAAAAACAR0AAAAAAAABHQAAAAAAAwFpAAAAAAACASUAAAAAAAABGQAAAAACAkHBAAAAAAAAAYUAAAAAAAIBBQAAAAAAAADRAAAAAAADAbEAAAAAAAAA0QAAAAAAAwE5AAAAAAAAAPkAAAAAAAABIQAAAAAAAAFFAAAAAAACAUEAAAAAAAIBHQAAAAAAAgEZAAAAAAACASUAAAAAAAMBRQAAAAAAAIGJAAAAAAAAAPEAAAAAAAAA3QAAAAAAAgGVAAAAAAAAAQEAAAAAAAKBjQAAAAAAAAEBAAAAAAABAYEAAAAAAAABGQAAAAAAA4GVAAAAAAABAW0AAAAAAAHBgQAAAAAAAgFtAAAAAAAAAQkAAAAAAAABKQAAAAAAAQFZAAAAAAAAAOkAAAAAAAAA5QAAAAAAAQGRAAAAAAABgYEA9CtejcP1HQAAAAAAAAFxAAAAAAACASEAAAAAAAMBWQAAAAAAAQFRAAAAAAAAAPkAAAAAAACBhQAAAAAAAAFtAAAAAAAAAU0AAAAAAAEBfQAAAAAAAQFFAAAAAAAAAXUAAAAAAAIBfQAAAAACAkHBAAAAAAABgaEAAAAAAAABJQAAAAAAAAEVAAAAAAAAAZEAAAAAAAABAQJqZmZmZOVRAAAAAAAAAVEAAAAAAAAA5QAAAAAAAoGNAAAAAAACAUkAAAAAAAAA+QAAAAAAAAEpAAAAAAICQcEAAAAAAAABoQAAAAAAAoGRAAAAAAAAgb0AAAAAAAIBlQAAAAACAkHBAAAAAAAAgbkAAAAAAAIBqQAAAAACAkHBAAAAAAICQcEAAAAAAAOBhQAAAAAAAgFpAAAAAAACga0AAAAAAAKBrQAAAAAAAgFxAAAAAAABAUEAAAAAAAIBiQAAAAACAkHBAAAAAAACgY0AAAAAAACBiQAAAAAAAQGFAAAAAAAAgZkAAAAAAAEBdQAAAAACAkHBAAAAAAACAVEAAAAAAAMBcQBSuR+F6RF5AAAAAAACAVUAAAAAAAOBqQAAAAAAAoGtAAAAAAICQcEAAAAAAAGBlQAAAAACAkHBAAAAAAAAAUEAAAAAAAABUQAAAAAAAAE9AAAAAAABAWkAAAAAAAEBQQAAAAAAAwFhAAAAAAADAUkAAAAAAAIBmQAAAAAAAQGpAAAAAAABAX0AAAAAAgJBwQAAAAAAAYGhAAAAAAADAUUAAAAAAAGBoQAAAAAAAwF9AAAAAAAAAREAAAAAAAOBlQAAAAAAAwFlAAAAAAICQcEAAAAAAAGBjQAAAAAAAwFxAAAAAAAAgZ0AAAAAAAIBPQAAAAAAAgF1AAAAAAABAWEAAAAAAAEBnQAAAAAAAwGNAuB6F61EgYkAAAAAAgJBwQAAAAAAAwGZAAAAAAAAQcEAAAAAAAABpQAAAAAAAwGxAAAAAAICQcEAAAAAAAEBeQK5H4XoU/mtAAAAAAAAAZkAAAAAAgJBwQAAAAACAkHBAAAAAAACAUUAAAAAAAIBWQAAAAACAkHBAAAAAAACAVUAAAAAAgJBwQAAAAAAAQFxAAAAAAADAUkAAAAAAAOBpQAAAAAAA4GdAAAAAAADAXkAAAAAAAGBiQAAAAAAAQGxAAAAAAICQcEAAAAAAgJBwQAAAAAAAAFFAAAAAAAAQYUAAAAAAAABWQAAAAACAkHBAAAAAAACgZUAAAAAAACBpQAAAAACAkHBAAAAAAABAYUAAAAAAAABrQAAAAAAAwGJAAAAAAAAANEAAAAAAAIBaQAAAAAAAgGtAAAAAAAAQcEAAAAAAgJBwQAAAAAAAYHBAAAAAAABAa0AAAAAAAEBaQAAAAAAAAFBAAAAAAABAWkAAAAAAgJBwQAAAAACAkHBAAAAAAABAU0AAAAAAgJBwQA==",
          "dtype": "f8"
         },
         "xaxis": "x",
         "yaxis": "y"
        },
        {
         "hovertemplate": "rev24=%{x}<extra></extra>",
         "legendgroup": "",
         "marker": {
          "color": "#636efa"
         },
         "name": "",
         "notched": true,
         "showlegend": false,
         "type": "box",
         "x": {
          "bdata": "AAAAAAAAPkAAAAAAAOBpQAAAAAAAAEpAAAAAAABAWkAAAAAAAABAQAAAAAAAQFJAAAAAAACAU0AAAAAAAABEQAAAAAAAYGRAAAAAAABAYEAAAAAAAEBZQAAAAAAAIGVAAAAAAABAYEAAAAAAACBhQAAAAAAAgEtAAAAAAADgYUAAAAAAAEBgQAAAAAAAwFZAAAAAAAAAOkAAAAAAAIBLQAAAAAAAgEVAAAAAAACAS0AAAAAAAAA5QAAAAAAAQF1AAAAAAABgZUAAAAAAAEBSQAAAAAAAAD5AAAAAAABgaUAAAAAAAAA5QAAAAAAAgEhAAAAAAABAWEAAAAAAAMBlQAAAAAAAgGNAAAAAAAAAT0AAAAAAAABXQAAAAAAAwFlAAAAAAADIY0AAAAAAAMBiQAAAAAAAAF9AAAAAAACAW0AAAAAAAABGQAAAAAAAgFFAAAAAAAAAZEAAAAAAAEBqQAAAAAAAgE9AAAAAAACARkAAAAAAAABZQAAAAAAAgFpAAAAAAAAATUAAAAAAAIBGQAAAAAAAADlAAAAAAAAgbEAAAAAAAABOQAAAAAAAQFtAAAAAAADAZEAAAAAAAEBhQAAAAAAAAENAAAAAAACAYEAAAAAAAIBYQAAAAAAAQFFAAAAAAABAVEAAAAAAAEBcQAAAAAAAwFlAAAAAAACARkAAAAAAAABGQAAAAAAAQFpAAAAAAACAW0AAAAAAAAA0QAAAAAAAoGVAAAAAAABAV0AAAAAAAABKQAAAAAAAIGdAAAAAAAAgYkAAAAAAAOBgQAAAAAAAgGFAAAAAAADAU0AAAAAAAABHQAAAAAAAgE5AAAAAAACAS0AAAAAAAIBBQAAAAAAAAFRAAAAAAADAXUAAAAAAAMBbQAAAAAAAAFlAAAAAAACAV0AAAAAAAABSQFK4HoXrAWFAAAAAAAAAREAAAAAAAIBbQAAAAAAAoGNAAAAAAABgYkAAAAAAAAA0QAAAAAAAQFFAAAAAAADAUEAAAAAAAEBTQAAAAAAAQFhAAAAAAAAAW0AAAAAAAEBQQAAAAAAAIGRAAAAAAADAXUAAAAAAAABtQAAAAAAAwGJAAAAAAAAAPkAAAAAAAMBjQAAAAAAAQFhAAAAAAADAVEAAAAAAAMBfQAAAAAAAAFtAAAAAAAAAREAAAAAAAIBCQAAAAAAAgExAAAAAAABIcEAAAAAAAIBEQAAAAAAA4GBAAAAAAAAAaUAAAAAAAABSQAAAAAAAwFxAAAAAAADAUkAAAAAAAMBhQAAAAAAAAEVAAAAAAADAWkAAAAAAAABdQAAAAAAAAGVAAAAAAAAgaUAAAAAAAIBZQAAAAACAkHBAAAAAAACgaUAAAAAAAABDQAAAAAAAQFpAAAAAAADAY0AAAAAAAABCQAAAAAAAAD5AAAAAAAAAWEAAAAAAAMBlQAAAAAAAADlAAAAAAABgcEAAAAAAAABSQAAAAAAAwFBAAAAAAADAUUAAAAAAAMBUQAAAAAAAQFVAAAAAAACASEAAAAAAAIBRQAAAAAAAgFFAAAAAAACAUEAAAAAAAAA5QAAAAAAAgEtAAAAAAAAALkAAAAAAAAA+QAAAAAAAADpAAAAAAADAUUAAAAAAAIBkQAAAAAAAADRAAAAAAAAAUEAAAAAAAAA5QAAAAAAAgEdAAAAAAAAANEAAAAAAAIBLQAAAAAAAAC5AAAAAAAAANEAAAAAAAAA0QAAAAAAAIGBAAAAAAADAYkAAAAAAAGBiQAAAAAAAgEBAAAAAAAAgYEAAAAAAAIBQQAAAAAAAADtAAAAAAAAANEAAAAAAAIBBQAAAAAAAAEZAAAAAAABAWUAAAAAAAIBGQAAAAAAAgFZAAAAAAABAYEAAAAAAAAAuQAAAAAAAADlAAAAAAACAVEAAAAAAAEBcQAAAAAAAADhAw/UoXI8CUEAAAAAAAAA+QAAAAAAAgEZAAAAAAAAALkAAAAAAAIBTQAAAAAAAgG5AAAAAAABAYUAAAAAAAAA5QAAAAAAAgFFAAAAAAADAUUAAAAAAAABhQAAAAAAAYGFAAAAAAAAAQ0AAAAAAAEBlQAAAAAAAgEZAAAAAAAAAOUAAAAAAAAAuQAAAAAAAADRAAAAAAACATUAAAAAAAAA5QAAAAAAAgFxAAAAAAADAbUAAAAAAgJBwQAAAAAAAgEFAAAAAAAAAZkAAAAAAAMBTQAAAAAAAADZAAAAAAABAakAAAAAAAABXQAAAAAAAgEFAAAAAAAAASUAAAAAAAABEQAAAAAAAwGtAAAAAAAAASUAAAAAAAIBBQAAAAAAAgExAAAAAAACgbkAAAAAAAGBdQAAAAAAAQGZAAAAAAACAU0AAAAAAAABjQAAAAAAAwFtAAAAAAADAVUAAAAAAAMBiQAAAAAAAAEVAAAAAAABAUkAAAAAAACBgQAAAAAAAAEpAAAAAAABAVEAAAAAAAIBLQAAAAAAAwFpAAAAAAAAALkAAAAAAAEBgQAAAAAAAwF5AAAAAAAAAOkAAAAAAAAAuQAAAAAAAwFJAAAAAAAAASUAAAAAAAEBnQAAAAAAAgFNAAAAAAAAALkAAAAAAAIBDQAAAAAAAgExAAAAAAAAARUAAAAAAAAA5QAAAAAAAAGJAAAAAAAAAQkAAAAAAAABJQAAAAAAAQGBAAAAAAADgYkAAAAAAAAA0QAAAAAAAAF5AAAAAAAAASUAAAAAAAMBQQAAAAAAAgE5AAAAAAADAV0AAAAAAAAA+QAAAAAAAwF1AAAAAAABAWUAAAAAAAMBXQAAAAAAAgEZAAAAAAAAANEAAAAAAAAA+QAAAAAAAAEBAAAAAAAAAOUAAAAAAAABMQAAAAAAAQFVAAAAAAACAYkAAAAAAACBiQAAAAAAA4GhAAAAAAAAgbEAAAAAAgJBwQAAAAAAAgEpAAAAAAACAZEAAAAAAAGBjQAAAAAAAAE5AAAAAAACATEAAAAAAAABEQAAAAAAAgF9AAAAAAABAW0AAAAAAACBaQAAAAAAAgEtAAAAAAAAANEAAAAAAAABXQAAAAAAAAElAAAAAAACAXUAAAAAAAABeQAAAAAAA4GRAAAAAAAAAYUAAAAAAAAA6QAAAAAAAQF9AAAAAAAAAV0AAAAAAACBkQAAAAAAAgFZAAAAAAAAATkAAAAAAAEBlQAAAAAAAAFVAAAAAAABAbkAAAAAAAEBQQAAAAAAA4GhAAAAAAAAgYkAAAAAAgJBwQAAAAAAAIGlAAAAAAABgZ0AAAAAAAMBeQAAAAAAAAExAAAAAAACASUAAAAAAAABdQAAAAAAAAFlAAAAAAABgbUAAAAAAAAAuQAAAAAAAQFZAAAAAAAAAN0AAAAAAAABeQAAAAAAAgEZAAAAAAACAS0AAAAAAAABCQAAAAAAAgElAAAAAAAAgYUAAAAAAAABUQAAAAACAkHBAAAAAAABAWkAAAAAAAABPQAAAAAAAAFtAAAAAAICQcEAAAAAAAIBUQAAAAAAAgEtAAAAAAACAS0AAAAAAAIBDQAAAAAAAgEFAAAAAAAAAOUAAAAAAAABcQAAAAAAAIGFAAAAAAACAY0AAAAAAAEBcQAAAAAAAoGZAAAAAAAAAOUAAAAAAAEBdQAAAAAAAQFdAAAAAAACAZEAAAAAAAABBQAAAAAAAQF5AAAAAAABAYEAAAAAAACBgQAAAAAAAAF1AAAAAAABQUUAAAAAAAABQQAAAAAAAoGFAAAAAAADAVEAAAAAAAIBJQAAAAAAAoGZAAAAAAABAY0AAAAAAAAA0QAAAAAAAQFZAAAAAAABgY0AAAAAAAABfQAAAAAAA4GhAAAAAAACAQUAAAAAAAABMQAAAAAAAgEBAAAAAAAAAPkAAAAAAACBhQAAAAAAAwFxAAAAAAABAUEAAAAAAAABlQAAAAAAAAE9AAAAAAACARkAAAAAAAABBQAAAAAAAQFBAAAAAAAAANEAAAAAAAAA5QAAAAAAAAC5AAAAAAAAANEAAAAAAAABWQAAAAAAAAEFAAAAAAABAYEAAAAAAAIBAQAAAAAAAQFpAAAAAAACAWUAAAAAAAIBBQAAAAAAAAC5AAAAAAABAV0AAAAAAAEBjQAAAAAAAAEFAAAAAAAAANEAAAAAAAMBeQAAAAAAAAC5AAAAAAACAXUAAAAAAAAA3QAAAAAAAADlAAAAAAAAANEAAAAAAAIBjQAAAAAAAYG9AAAAAAAAANEAAAAAAAAA5QAAAAAAAQFVAAAAAAAAAVkAAAAAAAAA6QAAAAAAA0GpAAAAAAAAAOUAAAAAAAAA6QAAAAAAAADdAAAAAAAAASUAAAAAAAMBYQAAAAAAAADRAAAAAAAAANEAAAAAAAAA0QAAAAAAAAGlAAAAAAAAAQkAAAAAAAEBTQAAAAAAAAEhAAAAAAAAAOEAAAAAAAKBsQAAAAAAAwF9AAAAAAACARkAAAAAAgJBwQAAAAAAAAFNAAAAAAADAUkAAAAAAAEBsQDMzMzMz8zJAAAAAAAAAOUAAAAAAAIBDQAAAAAAAAFpAAAAAAAAALkAAAAAAAAA5QAAAAAAAIGJAAAAAAAAAZkAAAAAAAGBkQAAAAAAAIGBAAAAAAAAAMEAAAAAAAABRQAAAAAAAgF9AAAAAAAAAVEAAAAAAAEBfQAAAAAAAoFlAAAAAAAAAPkAAAAAAAEBuQAAAAAAAQF9AAAAAAAAAX0AAAAAAAABEQAAAAAAA4GNAAAAAAAAAO0AAAAAAAIBNQAAAAAAAAFRAAAAAAABgY0AAAAAAAGBnQAAAAAAAADRAAAAAAAAAPkAAAAAAAAAuQAAAAACAkHBAAAAAAABAZkAAAAAAAGBjQAAAAAAAAEFAAAAAAAAAVkAAAAAAAAAuQAAAAAAAADlAAAAAAACATkAAAAAAAABXQAAAAAAAgEFAAAAAAAAAT0AAAAAAAAA+QAAAAAAAQFlAAAAAAADAXEAAAAAAAMBZQAAAAAAAwFBAAAAAAAAANEAAAAAAAIBZQAAAAAAAoGNAAAAAAABAVUAAAAAAAAA8QAAAAAAAgFhAAAAAAABAUEAAAAAAAIBAQAAAAAAAAFNAAAAAAAAAOUAAAAAAAABAQAAAAAAAwGZAAAAAAAAATkAAAAAAAEBQQAAAAAAAQF5AAAAAAABAXEAAAAAAAABAQAAAAAAAADRAAAAAAAAAV0AAAAAAAGBlQAAAAAAAYGJAAAAAAADAUUAAAAAAAIBeQAAAAAAAAC5AAAAAAICQcEAAAAAAgJBwQAAAAAAAAEFAAAAAAADQZEAAAAAAAAA5QAAAAAAAgEFAAAAAAICQcEAAAAAAAOBiQAAAAAAAgEhAAAAAAAAANEAAAAAAAEBaQAAAAAAAADlAAAAAAADAVEAAAAAAAGBtQAAAAAAAADRAAAAAAAAAOUAAAAAAAIBLQAAAAAAAgFNAAAAAAAAALkAAAAAAAAA0QAAAAAAAAEdAAAAAAAAAQEAAAAAAAMBVQAAAAAAAAFlAAAAAAAAASUAAAAAAAIBQQAAAAAAAAFRAAAAAAAAAMkAAAAAAAKBoQAAAAAAAgEZAAAAAAABAU0AAAAAAACBgQAAAAAAAgFhAAAAAAAAAOUAAAAAAAAA+QAAAAAAAADRAAAAAAACAY0AAAAAAgJBwQAAAAAAAADRAAAAAAADATUAAAAAAAIBXQAAAAAAAwFtAAAAAAAAAOUAAAAAAACBhQAAAAAAAYGRAAAAAAAAAU0AAAAAAAAA+QAAAAAAAADRAAAAAAABAWUAAAAAAAABJQAAAAAAAAD1AAAAAAAAAU0AAAAAAAAA5QAAAAAAAAFZAAAAAAAAAT0AAAAAAAMBjQAAAAAAAAFZAAAAAAAAASkAAAAAAAAA0QAAAAAAAoGFAAAAAAAAgYEAAAAAAAMBSQAAAAAAAAEFAAAAAAACAUEAAAAAAAMBjQAAAAAAAADlAAAAAAACAQUAAAAAAAGBoQAAAAAAAgEJAAAAAAACAZEAAAAAAAIBBQAAAAAAAAC5AAAAAAAAAW0AAAAAAAEBwQAAAAAAAAC5AAAAAAABAakAAAAAAAABJQAAAAACAkHBAAAAAAAAARkAAAAAAAIBBQAAAAAAAgEFAAAAAAAAATEAAAAAAAEBUQAAAAAAAADlAAAAAAICQcEAAAAAAAABNQAAAAAAAADRAAAAAAABAYEAAAAAAAEBaQAAAAAAAAD5AAAAAAAAASkAAAAAAAAA5QAAAAAAAQFNAAAAAAABAZUAAAAAAAIBoQAAAAAAAgEJAAAAAAAAgYEAAAAAAAAA+QAAAAACAkHBAAAAAAACAUEAAAAAAAABOQAAAAAAAgFJAAAAAAAAAU0AAAAAAAABUQAAAAAAAAC5AAAAAAABgaUAAAAAAAEBTQAAAAAAAAFlAAAAAAADAY0AAAAAAAAA5QAAAAAAAQGFAAAAAAACAWkAAAAAAAMBgQAAAAAAAQFFAAAAAAICQcEAAAAAAAEBQQAAAAAAAgEhAAAAAAACARkAAAAAAAABPQAAAAAAAAFpAAAAAAACgYkAAAAAAAMBbQAAAAAAAgEpAAAAAAACAQ0AAAAAAAOBqQAAAAAAAAElAAAAAAACAQUAAAAAAAMBaQAAAAAAAAGpAAAAAAACAWEAAAAAAAABBQAAAAAAAAGBAAAAAAAAANEAAAAAAAMBdQAAAAAAAgEhAAAAAAAAAPkAAAAAAAAA+QAAAAAAAAEVAAAAAAAAAOkAAAAAAAIBVQAAAAAAAgERAAAAAAABAUEAAAAAAAAA+QAAAAAAAIGZAAAAAAAAAPkAAAAAAgJBwQOF6FK5HAWVAAAAAAADgZkAAAAAAgJBwQAAAAAAAYGFAAAAAAAAAWUAAAAAAAAA+QAAAAAAAAGFAAAAAAACAWkAAAAAAAABEQAAAAAAAgGtAAAAAAAAAOUAAAAAAAAA+QAAAAAAAgFxAAAAAAAAAT0AAAAAAAABBQAAAAAAAwFBAAAAAAAAARkAAAAAAAABZQAAAAAAAgFZAAAAAAAAAVUAAAAAAAIBEQAAAAAAAgGNAAAAAAAAANEAAAAAAAABcQAAAAAAAgE5AAAAAAAAATUAAAAAAAABXQAAAAAAAgEdAAAAAAAAAWkAAAAAAAIBbQAAAAAAAgEFAAAAAAACAXkAAAAAAAAA0QAAAAAAAgFhAAAAAAAAAYkAAAAAAAABKQAAAAAAAgElAAAAAAADAUkAAAAAAAIBVQAAAAACAkHBAAAAAAAAAVkAAAAAAAIBaQAAAAAAAADlAAAAAAABAY0AAAAAAAGBjQAAAAAAAAEhAAAAAAACASEAAAAAAAEBXQAAAAAAAAFlAAAAAAAAAOUAAAAAAAABEQAAAAAAAgExAAAAAAAAAWEAAAAAAAAA0QAAAAAAAwFZAAAAAAABgY0AAAAAAAAA0QAAAAAAAgGBAAAAAAAAAOUAAAAAAgJBwQAAAAAAAgE5AAAAAAAAAOUAAAAAAAIBwQAAAAAAAAD5AAAAAAAAAOkAAAAAAAKBhQAAAAAAAAC5AAAAAAABgYkAAAAAAAEBlQAAAAAAAAGJAMzMzMzOTTkAAAAAAACBuQGZmZmZmZmFAAAAAAABwcEAAAAAAgJBwQAAAAAAAAD5AAAAAAAAAQ0AAAAAAAMBdQAAAAAAAAD1AAAAAAAAATEAAAAAAAABZQAAAAACAkHBAAAAAAACAX0AAAAAAAIBAQAAAAAAAADZAAAAAAACAX0AAAAAAAIBEQAAAAAAAgEtAAAAAAAAAOkAAAAAAAAA+QAAAAAAAAGlAAAAAAAAATkAAAAAAAIBBQAAAAAAAAGhAAAAAAADgYEAAAAAAAMBYQAAAAAAAgFdAAAAAAAAAVkAAAAAAAMBdQAAAAACAkHBAAAAAAICQcEAAAAAAAMBeQAAAAAAAADRAAAAAAAAAVkAAAAAAAMBRQAAAAAAAIGVAAAAAAAAAQ0AAAAAAAEBfQAAAAAAAgEhAAAAAAADAWUAAAAAAAABWQAAAAACAkHBAAAAAAACAQkAAAAAAAIBBQAAAAAAAADpAAAAAAABAVUAAAAAAAABcQAAAAAAAQGRAAAAAAABAWkAAAAAAAIBeQAAAAAAAQFRAAAAAAAAAWUAAAAAAAMBXQAAAAAAAQFVAAAAAAACAWUAAAAAAAABEQAAAAAAAgFNAAAAAAADAVEAAAAAAAABOQAAAAAAAgEdAAAAAAABAV0AAAAAAAABPQAAAAAAAAGlAAAAAAADAW0AAAAAAACBuQAAAAAAAAEhAAAAAAACASEAAAAAAAABMQAAAAAAAQGVAAAAAAAAAQUAAAAAAAIBrQAAAAAAAQFVAAAAAAAAgY0AAAAAAAIBBQAAAAAAAQFBA7FG4HoUrUEAAAAAAAAA+QAAAAAAAADRAAAAAAAAAPEAAAAAAAIBSQAAAAAAAgEtAAAAAAADAUEAAAAAAAABPQAAAAAAAAFxAAAAAAABAW0AAAAAAAIBOQAAAAAAAgE5AAAAAAADAVEAAAAAAAABQQAAAAAAAQFNAAAAAAABAW0AAAAAAAIBLQAAAAAAAgGdAAAAAAAAAYkAAAAAAAIBMQAAAAAAAwFBAAAAAAAAAPkAAAAAAAEBSQAAAAAAAkHBAAAAAAADAW0AAAAAAAABJQAAAAAAAwFhAAAAAAACAYkAAAAAAAABnQAAAAAAAIG9AAAAAAADgY0AAAAAAAIBBQAAAAAAAgGBAAAAAAACAXEAAAAAAAMBUQAAAAAAAAFJAAAAAAACARUAAAAAAAIBBQAAAAAAAADpAAAAAAACgZUAAAAAAAIBtQAAAAAAAAD1AAAAAAACAXkAAAAAAAMBiQAAAAAAAoGBAAAAAAACARkAAAAAAAEBdQAAAAAAAgEFAAAAAAACARkAAAAAAAMBVQAAAAAAAIGRAAAAAAACASUAAAAAAAIBXQAAAAAAAwFBAAAAAAADgb0AAAAAAAABAQAAAAAAAwFZAAAAAAACARUAAAAAAAEBYQAAAAAAAAF1AAAAAAACAUkAAAAAAAAA7QAAAAAAAgFlAAAAAAACAUkAAAAAAAABJQAAAAAAAwFpAAAAAAICQcEAAAAAAAIBIQAAAAAAAwFVAAAAAAADAUEAAAAAAAABSQAAAAAAAQFVAAAAAAABgZEAAAAAAAIBDQAAAAAAAAGBAAAAAAAAAREAAAAAAAMBgQAAAAAAAgG9AAAAAAAAAbkAAAAAAAGBuQAAAAAAAAEpAAAAAAACAUEAAAAAAAABBQAAAAAAAQFhAAAAAAACAXkAAAAAAACBiQAAAAAAA4GBAAAAAAACAWkAAAAAAAIBgQAAAAAAAAFtAAAAAAACAUkAAAAAAgJBwQAAAAAAAgEBAAAAAAAAAQkAAAAAAAAA5QAAAAAAAADlAAAAAAAAAV0AAAAAAAABdQAAAAAAAwFhAAAAAAAAAPkAAAAAAAIBbQAAAAAAAgF1AAAAAAABAXEAAAAAAgJBwQAAAAAAAIGxAAAAAAAAgYkAAAAAAAABZQAAAAACAkHBAAAAAAAAAWUAAAAAAAIBYQAAAAAAAgFRAAAAAAAAAPkAAAAAAAAA8QAAAAAAAgFtAAAAAAICQcEAAAAAAAEBpQAAAAACAkHBAAAAAAAAAREAAAAAAAMBUQAAAAAAAwGJAAAAAAADAYUAAAAAAAABwQAAAAAAAgFdAAAAAAABAV0AAAAAAAMBbQAAAAAAAwGdAAAAAAACATUAAAAAAAGBsQAAAAACAkHBAAAAAAAAAT0AAAAAAACBgQAAAAAAAADJAAAAAAADAUEAAAAAAAABEQAAAAAAAADRAAAAAAACAQEAAAAAAAIBWQAAAAAAAADlAAAAAAICQcEAAAAAAAABdQAAAAAAAgFpAAAAAAAAAWUAAAAAAAABFQAAAAAAAAD1AAAAAAADgYEAAAAAAAMBSQAAAAAAAgFhAAAAAAACAR0AAAAAAAABKQAAAAACAkHBAAAAAAAAAXkAAAAAAAABZQAAAAAAAAFRAAAAAAACAREAAAAAAAIBpQAAAAAAAAElAAAAAAICQcEAAAAAAAAA5QAAAAAAAAE9AAAAAAACAVEAAAAAAACBhQAAAAAAAAENAAAAAAAAAREAAAAAAAIBGQAAAAAAAwF9AAAAAAAAAUEAAAAAAAMBQQAAAAAAAAFlAAAAAAAAASkAAAAAAAIBMQAAAAAAAAFxAAAAAAAAASkAAAAAAAEBiQAAAAAAAQFVAAAAAAABAU0AAAAAAAIBBQAAAAAAAwFtAAAAAAACAQ0AAAAAAAABEQAAAAAAAQGNAAAAAAABgZ0AAAAAAAABeQAAAAAAAQG5AAAAAAACASEAAAAAAAABgQAAAAAAAwFJAAAAAAAAASUAAAAAAAABOQAAAAAAAQFBAAAAAAAAAXEAAAAAAAIBUQAAAAAAAQFFAAAAAAAAASUAAAAAAAABPQAAAAAAAwFhAAAAAAAAAV0AAAAAAAABGQAAAAAAAAExAAAAAAAAAVUAAAAAAAIBRQAAAAAAAgF5AAAAAAAAAT0AAAAAAAMBUQAAAAAAAAFRAAAAAAACAQ0AAAAAAAEBZQAAAAAAAoGhAAAAAAAAASEAAAAAAAAA1QAAAAAAAAFBAAAAAAADAW0AAAAAAAMBXQAAAAAAAgE5AAAAAAABAV0AAAAAAAIBWQAAAAACAkHBAAAAAAABAXUAAAAAAAIBbQAAAAAAAAFlAAAAAAAAALkAAAAAAAMBcQAAAAAAAIGZAAAAAAADAU0AAAAAAAMBSQAAAAAAAADRAAAAAAACAVkAAAAAAAIBgQAAAAAAAAFZAAAAAAACAcEAAAAAAAABYQAAAAAAAQFBAAAAAAACASUAAAAAAAIBgQAAAAAAAADtAAAAAAACATUAAAAAAAMBSQAAAAAAAAGVAAAAAAAAAREAAAAAAAIBgQAAAAAAAQFJAzczMzMwcYkAAAAAAAABVQAAAAAAAgEtAAAAAAACAVkAAAAAAAMBsQAAAAAAAAGBAAAAAAADgYkAAAAAAAMBhQAAAAAAAwFJAAAAAAADAa0AAAAAAAKBoQAAAAAAAAD1AAAAAAAAASEAAAAAAAABDQAAAAAAAgF1AAAAAAACgbEAAAAAAAMBUQAAAAAAAAFNAAAAAAACAQkAAAAAAAGBpQAAAAAAAgFFAAAAAAACgakAAAAAAAMBgQAAAAAAAgFBAAAAAAAAAWkAAAAAAAIBaQAAAAAAAQFdAAAAAAADAUkAAAAAAAIBLQAAAAAAAgGVAAAAAAACAUkAAAAAAAABJQAAAAAAAwFdAAAAAAADAVkAAAAAAAIBXQAAAAAAAAFRAAAAAAAAATkAAAAAAAGBgQAAAAAAAADlAAAAAAAAAQEAAAAAAAIBJQAAAAAAAAGFAAAAAAABAU0AAAAAAAMBYQAAAAAAAYGNAAAAAAACAXUAAAAAAAABfQAAAAAAAAD5AAAAAAAAAVEAAAAAAAGBlQAAAAAAAgEpAAAAAAADAUEAAAAAAgJBwQAAAAAAAgExAAAAAAACAV0AAAAAAAABTQAAAAAAAAEFAAAAAAAAAN0AAAAAAACBhQAAAAAAAoGNAAAAAAABAWkAAAAAAAABQQAAAAAAAAHBAAAAAAAAASUAAAAAAAEBUQAAAAAAA4GBAAAAAAACAQUAAAAAAAIBcQAAAAAAAQFVAAAAAAAAAPEAAAAAAgJBwQAAAAAAAAFlAAAAAAAAARUAAAAAAAIBKQAAAAAAAgEFAAAAAAABAVEAAAAAAAGBhQAAAAAAAwFRAAAAAAAAAOUAAAAAAAABQQAAAAAAAQF9AAAAAAABAXEAAAAAAAKBhQAAAAAAAgEJAAAAAAACAW0AAAAAAgJBwQAAAAAAAAFdAAAAAAACATkAAAAAAAAA5QAAAAAAAAFRAAAAAAABAV0AAAAAAAEBTQAAAAAAAIGpAAAAAAAAATkAAAAAAAABeQMP1KFyPUmpAAAAAAACARkAAAAAAAIBQQAAAAAAAgEpAAAAAAABAUEAAAAAAAIBBQAAAAAAAADRAAAAAAADgYUAAAAAAgJBwQAAAAAAAYGRAAAAAAAAAPkAAAAAAAIBYQAAAAAAAwGhAAAAAAACAT0AAAAAAgJBwQAAAAAAAQFtAAAAAAAAARECkcD0K11NpQAAAAAAAAEBAAAAAAICQcEAAAAAAAEBoQAAAAAAAAFlAAAAAAACAQUAAAAAAAIBVQAAAAAAAgFJAAAAAAABAUEAAAAAAAGBvQAAAAAAAAFNAAAAAAAAATkCamZmZmZk9QAAAAAAAADlAAAAAAACAZ0AAAAAAAAAuQAAAAAAAgEZAAAAAAADAXkAAAAAAAAA0QAAAAAAAADlAAAAAAAAAQUAAAAAAAABDQAAAAAAAwFRAAAAAAAAAaEAAAAAAAOBuQAAAAAAAwFFAAAAAAACAQUAAAAAAAABJQAAAAAAAYGVAAAAAAICQcEAAAAAAAIBgQAAAAAAAQFNAAAAAAAAgZUAAAAAAAEBmQAAAAAAAgFFAAAAAAABgaUAAAAAAAIBZQAAAAAAA4GNAAAAAAADAU0AAAAAAAAA+QAAAAAAA4GVAAAAAAACARkAAAAAAAKBnQAAAAAAAQFRAAAAAAACAVkAAAAAAAAAuQAAAAAAAoGhAAAAAAAAgYkAAAAAAAIBRQAAAAAAAeGBAAAAAAAAAOkAAAAAAAIBKQAAAAAAAgF5AAAAAAAAALkAAAAAAAIBKQAAAAAAAAEJAAAAAAACAR0AAAAAAAAA6QAAAAAAAQFhAAAAAAAAAMkAAAAAAAABQQAAAAAAAQFpAAAAAAAAAWkAAAAAAAABUQAAAAAAAAFFAAAAAAADAUkAAAAAAAABmQAAAAAAAAD5AAAAAAABAUEAAAAAAAIBIQAAAAAAAAE5AAAAAAADAU0AAAAAAAMBdQAAAAAAAgFJAAAAAAACATkAAAAAAAAAuQAAAAAAAgEhAAAAAAACAXEAAAAAAAEBSQAAAAAAAQFdAAAAAAACAUEAAAAAAAABOQAAAAAAAAEBAAAAAAABAV0AAAAAAgJBwQAAAAAAAgEVAAAAAAACAXEAAAAAAAMBSQAAAAAAAAENAAAAAAAAATkAAAAAAAIBMQAAAAAAAgE9AAAAAAACASkAAAAAAAAA0QAAAAAAAADlAAAAAAABAWEAAAAAAAIBMQAAAAAAAAGtAAAAAAAAAU0AAAAAAAAAuQAAAAAAAAEpAAAAAAACAVUAAAAAAAMBZQAAAAAAAwFVAAAAAAAAALkAAAAAAAAA5QAAAAAAAAD1AAAAAAAAANEAAAAAAAMBWQAAAAAAAADRAAAAAAACAV0AAAAAAAMBcQAAAAAAAgElAAAAAAAAAREAAAAAAAAAuQAAAAACAkHBAAAAAAAAAV0AAAAAAAEBfQAAAAAAAwFVAAAAAAAAAb0AAAAAAAIBXQAAAAAAAAD5AAAAAAAAAOUAAAAAAAABOQAAAAAAAgGVAAAAAAAAAUkAAAAAAAIBcQAAAAAAA4G9AAAAAAAAARkAAAAAAAAA5QAAAAAAAAC5AAAAAAACgYUAAAAAAAABaQAAAAAAAwFNAAAAAAAAAW0AAAAAAAGBwQAAAAAAAgFJAAAAAAAAAT0AAAAAAAAA8QAAAAAAAQF1AAAAAAABAVUAAAAAAgJBwQAAAAACAkHBAAAAAAACAWkAAAAAAAABOQAAAAAAAQGJAAAAAAICQcEAAAAAAAABHQAAAAAAAQF9AAAAAAACAVkAAAAAAAABFQAAAAAAAwF1AAAAAAAAAPkAAAAAAAABjQAAAAAAAgGhAAAAAAACAS0AAAAAAAAAuQAAAAAAAAD1AAAAAAAAAQEAAAAAAAABaQAAAAAAAADlAAAAAAACARkAAAAAAAIBTQAAAAAAAgFNAAAAAAAAANEAAAAAAAIBcQAAAAAAAADRAAAAAAAAAN0AAAAAAAAA5QAAAAAAAQFFAAAAAAABAWUAAAAAAAABVQAAAAAAAQFpAAAAAAACAWEAAAAAAAABTQAAAAAAAADRAAAAAAACAQUAAAAAAAEBaQAAAAAAAADRAAAAAAAAAOUAAAAAAAIBYQAAAAAAAgGBAAAAAAAAARkAAAAAAAIBlQAAAAAAAAEhAAAAAAADwYkAAAAAAAAA+QAAAAAAAwGFAAAAAAAAAMUAAAAAAAABeQAAAAAAAgEpAAAAAAACAU0AAAAAAAIBDQAAAAAAAgFVAAAAAAACAU0AAAAAAAOBjQAAAAAAAAEpAAAAAAADAV0AAAAAAAABEQAAAAAAAADlAAAAAAABAV0AAAAAAAAA/QAAAAAAAIFtAAAAAAAAANEAAAAAAAABmQAAAAAAAQFBAAAAAAAAANEAAAAAAAEBpQAAAAAAAAEBAAAAAAAAAPEAAAAAAAEBVQAAAAAAAAGBAAAAAAABAWUAAAAAAAMBjQAAAAAAAIGJAAAAAAABAVEAAAAAAAABKQAAAAAAA4GdAAAAAAACAUUAAAAAAAGBjQAAAAAAAgGNAAAAAAAAAOUAAAAAAAABcQAAAAAAAAERAAAAAAAAALkAAAAAAAAAuQAAAAAAAAFpAAAAAAADgY0AAAAAAAABTQAAAAAAAQFBAAAAAAACAREAAAAAAAIBPQAAAAAAAwFFAAAAAAAAAOkAAAAAAAKBhQAAAAAAAQGpAAAAAAADgWUAAAAAAAABGQAAAAAAA8GBAAAAAAAAAPkAAAAAAAEBTQAAAAAAAAFpAAAAAAAAAOUAAAAAAAABIQAAAAAAAAE1AAAAAAAAATUAAAAAAAAAuQAAAAAAAgFNAAAAAAABAVkAAAAAAAIBGQAAAAAAAgE5AAAAAAACAXEAAAAAAAEBiQAAAAAAAAFlAAAAAAADAZ0AAAAAAAIBaQAAAAAAAADRAAAAAAAAATkAAAAAAAIBGQAAAAAAAAF9AAAAAAACAZEAAAAAAAIBDQAAAAAAAIGFAAAAAAICQcEAAAAAAgJBwQAAAAAAAAEtAAAAAAABAXEAAAAAAgJBwQAAAAAAAAEFAAAAAAAAASUAAAAAAAIBBQAAAAAAAAFRAAAAAAAAASUAAAAAAACBhQAAAAAAAgFpAAAAAAAAAVEAAAAAAAAA0QAAAAAAAADlAAAAAAAAAR0AAAAAAAABSQAAAAAAAADlAAAAAAADAWUAAAAAAAAA2QAAAAAAAADlAAAAAAABgYkAAAAAAAIBpQAAAAAAAwFxAAAAAAADAXEAAAAAAAIBRQAAAAAAAgEFAAAAAAACAXEAAAAAAAAA5QAAAAAAAAExAAAAAAADAVkAAAAAAAABDQAAAAAAAADlAAAAAAADAZ0AAAAAAAABRQAAAAAAAgExAAAAAAAAASkAAAAAAAAA5QAAAAAAAADdAAAAAAAAAY0AAAAAAAEBfQAAAAAAAgFBAAAAAAAAAWEAAAAAAAAA9QFyPwvUozFlAAAAAAACASEAAAAAAAKBjQAAAAAAAgEZAAAAAAACARkAAAAAAAMBdQAAAAAAAAFFAAAAAAICQcEAAAAAAAOBgQAAAAAAAwFFAAAAAAAAAUEAAAAAAAIBdQAAAAAAAADxAAAAAAAAAQ0AAAAAAAIBOQAAAAAAAgGxAAAAAAAAASUAAAAAAAIBdQAAAAAAAgGpAAAAAAAAAVEAAAAAAAABbQAAAAAAAADlAAAAAAAAAVkAAAAAAAEBSQAAAAACAkHBAAAAAAACAS0AAAAAAAABEQAAAAACAkHBAAAAAAACAWkAAAAAAAEBeQAAAAAAAADlAAAAAAACAQEAAAAAAAABVQAAAAAAAgEtAAAAAAAAASUAAAAAAAMBuQAAAAAAAgFVAAAAAAABAVUAAAAAAAIBCQAAAAAAAQFBAAAAAAADAUEAAAAAAAKBhQAAAAAAAEFRAAAAAAAAAVUAAAAAAAAA5QAAAAAAAQF9AAAAAAACAS0AAAAAAAIBNQAAAAAAAADlAAAAAAACAXkAAAAAAAAAuQAAAAAAAgEdAAAAAAADAY0AAAAAAAAA5QAAAAAAAADRAAAAAAAAANEAAAAAAAABJQAAAAAAAQFFAAAAAAAAAPEAAAAAAAABmQAAAAAAAQF9AAAAAAAAASUAAAAAAAIBBQAAAAAAAAEVAAAAAAACAREAAAAAAAEBfQAAAAACAkHBAAAAAAAAASkAAAAAAAABCQAAAAAAAQG1AAAAAAAAga0AAAAAAAIBGQAAAAACAkHBAAAAAAAAASUAAAAAAAOBgQAAAAAAAAC5AAAAAAAAAOUAAAAAAAOBrQAAAAAAAwF5AAAAAAAAAW0AAAAAAAABZQAAAAAAAQFBAAAAAAABAZEAAAAAAAIBSQAAAAAAAAC5AAAAAAADAV0AAAAAAAAA2QAAAAAAAAFZAAAAAAAAAPUAAAAAAAIBLQAAAAAAAAEpAAAAAAADAUUAAAAAAAAAuQAAAAAAAAEtAAAAAAACgYkAAAAAAAIBSQAAAAAAAADlAAAAAAAAARUAAAAAAAAA5QAAAAAAAAD9AAAAAAAAALkAAAAAAAMBRQAAAAAAAADRAAAAAAADAXEAAAAAAAIBBQAAAAAAAADpAAAAAAACAYEAAAAAAAEBkQAAAAAAAwFNAAAAAAAAAU0AAAAAAAAA8QAAAAAAAADdAAAAAAACAW0AAAAAAAABHQAAAAAAAgFZAAAAAAAAAQkAAAAAAAAAuQAAAAAAAAC5AAAAAAAAAWkAAAAAAAKBoQAAAAAAAADlAAAAAAAAAPkAAAAAAAABcQAAAAAAAQFVAAAAAAAAAZkAAAAAAAABFQAAAAAAAAEdAAAAAAAAAN0AAAAAAAIBdQAAAAAAAAG9AAAAAAAAAU0AAAAAAAABJQAAAAAAAAC5AAAAAAABAXUAAAAAAAABEQAAAAAAAwFxAAAAAAACAXEAAAAAAAIBBQAAAAAAAwGNAAAAAAAAAOUAAAAAAAEBQQAAAAAAAAD1AAAAAAADAUEAAAAAAAMBTQAAAAAAAAC5AAAAAAAAAPkAAAAAAAGBhQAAAAAAAAEZAAAAAAAAAS0AAAAAAAIBaQAAAAAAAADRAAAAAAAAALkAAAAAAAABFQAAAAAAAAEdAAAAAAICQcEAAAAAAAKBiQAAAAAAAwGJAAAAAAADAVkAAAAAAAIBAQAAAAAAAgEBAAAAAAAAAV0AAAAAAAABJQAAAAAAAwFhAAAAAAAAAPkAAAAAAAAAuQAAAAAAAAEtAAAAAAAAgWkAAAAAAAEBjQAAAAAAAwFZAAAAAAAAAOUAAAAAAAAA5QAAAAAAAAEJAAAAAAAAAQ0AAAAAAAABTQAAAAAAAAElAAAAAAAAALkAAAAAAAEBVQAAAAAAAAFlAAAAAAAAANEAAAAAAAMBSQAAAAAAA6GBAAAAAAABAX0AAAAAAAAA/QAAAAAAAAFZAAAAAAAAALkAAAAAAAMBsQAAAAAAAwFBAAAAAAABAZUAAAAAAAGBoQAAAAAAAgEFAAAAAAICQcEAAAAAAAAAuQAAAAAAAAC5AAAAAAAAAQEAAAAAAAABkQAAAAAAAwFVAAAAAAAAAOUAAAAAAAAA0QAAAAAAAwGFAAAAAAADAV0AAAAAAAIBLQAAAAAAAADxAAAAAAAAAR0AAAAAAgJBwQKRwPQrXg1VAAAAAAADAZ0AAAAAAAMBaQAAAAAAAQEhAAAAAAAAANEAAAAAAAMBcQAAAAAAA4GRAAAAAAACAREAAAAAAAGBsQAAAAAAAYG9AAAAAAAAANEAAAAAAAABPQAAAAAAAoG5AAAAAAABgZkAAAAAAAAA4QAAAAAAAgExAAAAAAABwcEAAAAAAAABkQAAAAAAAgF9AAAAAAACgZkAAAAAAAIBLQAAAAAAAgENAAAAAAABAXUAAAAAAAEBSQAAAAAAAwF1AAAAAAAAgUkAAAAAAAAA8QAAAAAAAADlAAAAAAAAANUAAAAAAAIBSQAAAAAAAkHBAAAAAAACAT0AAAAAAAAA1QAAAAAAAAERAAAAAAAAAYEAAAAAAAABWQAAAAAAAADRAAAAAAAAwWUAAAAAAAIBXQAAAAACAkHBAAAAAAADga0AAAAAAgJBwQAAAAAAAAFxAAAAAAACAV0AAAAAAAAA0QAAAAAAAQF5AAAAAAADgY0AAAAAAAIBbQAAAAACAkHBAAAAAAAAAOUAAAAAAAMBZQAAAAAAAgFBAAAAAAAAARUAAAAAAAAA6QAAAAAAAgEdAAAAAAACAS0AAAAAAAIBOQAAAAAAAYG1AAAAAAICQcEAAAAAAAKBlQAAAAAAAAGxAAAAAAADAYkAAAAAAAABGQAAAAAAAIGBAAAAAAAAAP0AAAAAAAABDQAAAAAAAYGZAAAAAAACAQEAAAAAAAABTQAAAAAAAADRAAAAAAAAQbEAAAAAAAEBXQAAAAAAAwFpAAAAAAADAW0AAAAAAACBlQAAAAAAAAD9AAAAAAACAQUAAAAAAAABaQAAAAAAAYGRAAAAAAAAAVkAAAAAAAKBsQAAAAAAAwF1AAAAAAAAAVkAAAAAAAIBaQAAAAAAAAERAAAAAAICQcEAAAAAAAABJQAAAAAAAAFJAAAAAAABAX0AAAAAAAMBoQAAAAAAAgF1AAAAAAAAAPkAAAAAAAAA5QAAAAAAAgEJAAAAAAAAAN0AAAAAAAABJQAAAAAAAAGJAAAAAAAAATkAAAAAAgJBwQAAAAAAAgEJAAAAAAABgYEAAAAAAAEBdQAAAAAAAAC5AAAAAAAAAT0AAAAAAAIBiQAAAAAAAAEVAAAAAAABAWUAAAAAAAABFQAAAAAAAwGtAAAAAAABAW0AAAAAAAABQQAAAAAAAQGRAAAAAAAAga0AAAAAAAMBeQAAAAAAAQFxAAAAAAICQcEAAAAAAAIBYQAAAAAAAADRAAAAAAACAW0AAAAAAAIBLQAAAAAAAAFhAAAAAAAAANEAAAAAAAIBFQAAAAAAAgFhAAAAAAAAAN0AAAAAAAOBhQAAAAAAAAD5AAAAAAACAakAAAAAAAEBRQAAAAAAAAERAAAAAAAAAQ0AAAAAAgJBwQAAAAAAAAGRAAAAAAAAAR0AAAAAAAIBCQAAAAAAAYGVAzczMzMysXUAAAAAAAABNQAAAAAAAgEZAAAAAAAAATEAAAAAAAAAwQAAAAAAAgEhAAAAAAACgZEAAAAAAgJBwQAAAAAAAQFhAAAAAAACga0AAAAAAAAA0QAAAAAAAgEpAAAAAAACAS0AAAAAAAIBDQDMzMzMzo1dAAAAAAAAARUAAAAAAAABDQAAAAAAAAEJAAAAAAAAAXUAAAAAAAIBGQAAAAAAAoGBAAAAAAADAXEAAAAAAAABEQAAAAAAAYGNAAAAAAABAVUAAAAAAAABQQAAAAAAAAG5AAAAAAAAALkAAAAAAAIBMQAAAAAAAAC5AAAAAAACgZUAAAAAAAOBiQAAAAAAAAFxAAAAAAICQcEAAAAAAAMBfQAAAAAAAgFNAAAAAAACAQUAAAAAAAABJQAAAAAAAgEZAAAAAAAAAVEAAAAAAAABLQAAAAAAAQF1AAAAAAACARkAAAAAAAABUQAAAAAAAAFFAAAAAAACAR0AAAAAAAABHQAAAAAAAwFpAAAAAAACASUAAAAAAAABGQAAAAACAkHBAAAAAAAAAYUAAAAAAAIBBQAAAAAAAADRAAAAAAADAbEAAAAAAAAA0QAAAAAAAwE5AAAAAAAAAPkAAAAAAAABIQAAAAAAAAFFAAAAAAACAUEAAAAAAAIBHQAAAAAAAgEZAAAAAAACASUAAAAAAAMBRQAAAAAAAIGJAAAAAAAAAPEAAAAAAAAA3QAAAAAAAgGVAAAAAAAAAQEAAAAAAAKBjQAAAAAAAAEBAAAAAAABAYEAAAAAAAABGQAAAAAAA4GVAAAAAAABAW0AAAAAAAHBgQAAAAAAAgFtAAAAAAAAAQkAAAAAAAABKQAAAAAAAQFZAAAAAAAAAOkAAAAAAAAA5QAAAAAAAQGRAAAAAAABgYEA9CtejcP1HQAAAAAAAAFxAAAAAAACASEAAAAAAAMBWQAAAAAAAQFRAAAAAAAAAPkAAAAAAACBhQAAAAAAAAFtAAAAAAAAAU0AAAAAAAEBfQAAAAAAAQFFAAAAAAAAAXUAAAAAAAIBfQAAAAACAkHBAAAAAAABgaEAAAAAAAABJQAAAAAAAAEVAAAAAAAAAZEAAAAAAAABAQJqZmZmZOVRAAAAAAAAAVEAAAAAAAAA5QAAAAAAAoGNAAAAAAACAUkAAAAAAAAA+QAAAAAAAAEpAAAAAAICQcEAAAAAAAABoQAAAAAAAoGRAAAAAAAAgb0AAAAAAAIBlQAAAAACAkHBAAAAAAAAgbkAAAAAAAIBqQAAAAACAkHBAAAAAAICQcEAAAAAAAOBhQAAAAAAAgFpAAAAAAACga0AAAAAAAKBrQAAAAAAAgFxAAAAAAABAUEAAAAAAAIBiQAAAAACAkHBAAAAAAACgY0AAAAAAACBiQAAAAAAAQGFAAAAAAAAgZkAAAAAAAEBdQAAAAACAkHBAAAAAAACAVEAAAAAAAMBcQBSuR+F6RF5AAAAAAACAVUAAAAAAAOBqQAAAAAAAoGtAAAAAAICQcEAAAAAAAGBlQAAAAACAkHBAAAAAAAAAUEAAAAAAAABUQAAAAAAAAE9AAAAAAABAWkAAAAAAAEBQQAAAAAAAwFhAAAAAAADAUkAAAAAAAIBmQAAAAAAAQGpAAAAAAABAX0AAAAAAgJBwQAAAAAAAYGhAAAAAAADAUUAAAAAAAGBoQAAAAAAAwF9AAAAAAAAAREAAAAAAAOBlQAAAAAAAwFlAAAAAAICQcEAAAAAAAGBjQAAAAAAAwFxAAAAAAAAgZ0AAAAAAAIBPQAAAAAAAgF1AAAAAAABAWEAAAAAAAEBnQAAAAAAAwGNAuB6F61EgYkAAAAAAgJBwQAAAAAAAwGZAAAAAAAAQcEAAAAAAAABpQAAAAAAAwGxAAAAAAICQcEAAAAAAAEBeQK5H4XoU/mtAAAAAAAAAZkAAAAAAgJBwQAAAAACAkHBAAAAAAACAUUAAAAAAAIBWQAAAAACAkHBAAAAAAACAVUAAAAAAgJBwQAAAAAAAQFxAAAAAAADAUkAAAAAAAOBpQAAAAAAA4GdAAAAAAADAXkAAAAAAAGBiQAAAAAAAQGxAAAAAAICQcEAAAAAAgJBwQAAAAAAAAFFAAAAAAAAQYUAAAAAAAABWQAAAAACAkHBAAAAAAACgZUAAAAAAACBpQAAAAACAkHBAAAAAAABAYUAAAAAAAABrQAAAAAAAwGJAAAAAAAAANEAAAAAAAIBaQAAAAAAAgGtAAAAAAAAQcEAAAAAAgJBwQAAAAAAAYHBAAAAAAABAa0AAAAAAAEBaQAAAAAAAAFBAAAAAAABAWkAAAAAAgJBwQAAAAACAkHBAAAAAAABAU0AAAAAAgJBwQA==",
          "dtype": "f8"
         },
         "xaxis": "x2",
         "yaxis": "y2"
        }
       ],
       "layout": {
        "bargap": 0.1,
        "barmode": "relative",
        "legend": {
         "tracegroupgap": 0
        },
        "template": {
         "data": {
          "bar": [
           {
            "error_x": {
             "color": "#2a3f5f"
            },
            "error_y": {
             "color": "#2a3f5f"
            },
            "marker": {
             "line": {
              "color": "#E5ECF6",
              "width": 0.5
             },
             "pattern": {
              "fillmode": "overlay",
              "size": 10,
              "solidity": 0.2
             }
            },
            "type": "bar"
           }
          ],
          "barpolar": [
           {
            "marker": {
             "line": {
              "color": "#E5ECF6",
              "width": 0.5
             },
             "pattern": {
              "fillmode": "overlay",
              "size": 10,
              "solidity": 0.2
             }
            },
            "type": "barpolar"
           }
          ],
          "carpet": [
           {
            "aaxis": {
             "endlinecolor": "#2a3f5f",
             "gridcolor": "white",
             "linecolor": "white",
             "minorgridcolor": "white",
             "startlinecolor": "#2a3f5f"
            },
            "baxis": {
             "endlinecolor": "#2a3f5f",
             "gridcolor": "white",
             "linecolor": "white",
             "minorgridcolor": "white",
             "startlinecolor": "#2a3f5f"
            },
            "type": "carpet"
           }
          ],
          "choropleth": [
           {
            "colorbar": {
             "outlinewidth": 0,
             "ticks": ""
            },
            "type": "choropleth"
           }
          ],
          "contour": [
           {
            "colorbar": {
             "outlinewidth": 0,
             "ticks": ""
            },
            "colorscale": [
             [
              0,
              "#0d0887"
             ],
             [
              0.1111111111111111,
              "#46039f"
             ],
             [
              0.2222222222222222,
              "#7201a8"
             ],
             [
              0.3333333333333333,
              "#9c179e"
             ],
             [
              0.4444444444444444,
              "#bd3786"
             ],
             [
              0.5555555555555556,
              "#d8576b"
             ],
             [
              0.6666666666666666,
              "#ed7953"
             ],
             [
              0.7777777777777778,
              "#fb9f3a"
             ],
             [
              0.8888888888888888,
              "#fdca26"
             ],
             [
              1,
              "#f0f921"
             ]
            ],
            "type": "contour"
           }
          ],
          "contourcarpet": [
           {
            "colorbar": {
             "outlinewidth": 0,
             "ticks": ""
            },
            "type": "contourcarpet"
           }
          ],
          "heatmap": [
           {
            "colorbar": {
             "outlinewidth": 0,
             "ticks": ""
            },
            "colorscale": [
             [
              0,
              "#0d0887"
             ],
             [
              0.1111111111111111,
              "#46039f"
             ],
             [
              0.2222222222222222,
              "#7201a8"
             ],
             [
              0.3333333333333333,
              "#9c179e"
             ],
             [
              0.4444444444444444,
              "#bd3786"
             ],
             [
              0.5555555555555556,
              "#d8576b"
             ],
             [
              0.6666666666666666,
              "#ed7953"
             ],
             [
              0.7777777777777778,
              "#fb9f3a"
             ],
             [
              0.8888888888888888,
              "#fdca26"
             ],
             [
              1,
              "#f0f921"
             ]
            ],
            "type": "heatmap"
           }
          ],
          "histogram": [
           {
            "marker": {
             "pattern": {
              "fillmode": "overlay",
              "size": 10,
              "solidity": 0.2
             }
            },
            "type": "histogram"
           }
          ],
          "histogram2d": [
           {
            "colorbar": {
             "outlinewidth": 0,
             "ticks": ""
            },
            "colorscale": [
             [
              0,
              "#0d0887"
             ],
             [
              0.1111111111111111,
              "#46039f"
             ],
             [
              0.2222222222222222,
              "#7201a8"
             ],
             [
              0.3333333333333333,
              "#9c179e"
             ],
             [
              0.4444444444444444,
              "#bd3786"
             ],
             [
              0.5555555555555556,
              "#d8576b"
             ],
             [
              0.6666666666666666,
              "#ed7953"
             ],
             [
              0.7777777777777778,
              "#fb9f3a"
             ],
             [
              0.8888888888888888,
              "#fdca26"
             ],
             [
              1,
              "#f0f921"
             ]
            ],
            "type": "histogram2d"
           }
          ],
          "histogram2dcontour": [
           {
            "colorbar": {
             "outlinewidth": 0,
             "ticks": ""
            },
            "colorscale": [
             [
              0,
              "#0d0887"
             ],
             [
              0.1111111111111111,
              "#46039f"
             ],
             [
              0.2222222222222222,
              "#7201a8"
             ],
             [
              0.3333333333333333,
              "#9c179e"
             ],
             [
              0.4444444444444444,
              "#bd3786"
             ],
             [
              0.5555555555555556,
              "#d8576b"
             ],
             [
              0.6666666666666666,
              "#ed7953"
             ],
             [
              0.7777777777777778,
              "#fb9f3a"
             ],
             [
              0.8888888888888888,
              "#fdca26"
             ],
             [
              1,
              "#f0f921"
             ]
            ],
            "type": "histogram2dcontour"
           }
          ],
          "mesh3d": [
           {
            "colorbar": {
             "outlinewidth": 0,
             "ticks": ""
            },
            "type": "mesh3d"
           }
          ],
          "parcoords": [
           {
            "line": {
             "colorbar": {
              "outlinewidth": 0,
              "ticks": ""
             }
            },
            "type": "parcoords"
           }
          ],
          "pie": [
           {
            "automargin": true,
            "type": "pie"
           }
          ],
          "scatter": [
           {
            "fillpattern": {
             "fillmode": "overlay",
             "size": 10,
             "solidity": 0.2
            },
            "type": "scatter"
           }
          ],
          "scatter3d": [
           {
            "line": {
             "colorbar": {
              "outlinewidth": 0,
              "ticks": ""
             }
            },
            "marker": {
             "colorbar": {
              "outlinewidth": 0,
              "ticks": ""
             }
            },
            "type": "scatter3d"
           }
          ],
          "scattercarpet": [
           {
            "marker": {
             "colorbar": {
              "outlinewidth": 0,
              "ticks": ""
             }
            },
            "type": "scattercarpet"
           }
          ],
          "scattergeo": [
           {
            "marker": {
             "colorbar": {
              "outlinewidth": 0,
              "ticks": ""
             }
            },
            "type": "scattergeo"
           }
          ],
          "scattergl": [
           {
            "marker": {
             "colorbar": {
              "outlinewidth": 0,
              "ticks": ""
             }
            },
            "type": "scattergl"
           }
          ],
          "scattermap": [
           {
            "marker": {
             "colorbar": {
              "outlinewidth": 0,
              "ticks": ""
             }
            },
            "type": "scattermap"
           }
          ],
          "scattermapbox": [
           {
            "marker": {
             "colorbar": {
              "outlinewidth": 0,
              "ticks": ""
             }
            },
            "type": "scattermapbox"
           }
          ],
          "scatterpolar": [
           {
            "marker": {
             "colorbar": {
              "outlinewidth": 0,
              "ticks": ""
             }
            },
            "type": "scatterpolar"
           }
          ],
          "scatterpolargl": [
           {
            "marker": {
             "colorbar": {
              "outlinewidth": 0,
              "ticks": ""
             }
            },
            "type": "scatterpolargl"
           }
          ],
          "scatterternary": [
           {
            "marker": {
             "colorbar": {
              "outlinewidth": 0,
              "ticks": ""
             }
            },
            "type": "scatterternary"
           }
          ],
          "surface": [
           {
            "colorbar": {
             "outlinewidth": 0,
             "ticks": ""
            },
            "colorscale": [
             [
              0,
              "#0d0887"
             ],
             [
              0.1111111111111111,
              "#46039f"
             ],
             [
              0.2222222222222222,
              "#7201a8"
             ],
             [
              0.3333333333333333,
              "#9c179e"
             ],
             [
              0.4444444444444444,
              "#bd3786"
             ],
             [
              0.5555555555555556,
              "#d8576b"
             ],
             [
              0.6666666666666666,
              "#ed7953"
             ],
             [
              0.7777777777777778,
              "#fb9f3a"
             ],
             [
              0.8888888888888888,
              "#fdca26"
             ],
             [
              1,
              "#f0f921"
             ]
            ],
            "type": "surface"
           }
          ],
          "table": [
           {
            "cells": {
             "fill": {
              "color": "#EBF0F8"
             },
             "line": {
              "color": "white"
             }
            },
            "header": {
             "fill": {
              "color": "#C8D4E3"
             },
             "line": {
              "color": "white"
             }
            },
            "type": "table"
           }
          ]
         },
         "layout": {
          "annotationdefaults": {
           "arrowcolor": "#2a3f5f",
           "arrowhead": 0,
           "arrowwidth": 1
          },
          "autotypenumbers": "strict",
          "coloraxis": {
           "colorbar": {
            "outlinewidth": 0,
            "ticks": ""
           }
          },
          "colorscale": {
           "diverging": [
            [
             0,
             "#8e0152"
            ],
            [
             0.1,
             "#c51b7d"
            ],
            [
             0.2,
             "#de77ae"
            ],
            [
             0.3,
             "#f1b6da"
            ],
            [
             0.4,
             "#fde0ef"
            ],
            [
             0.5,
             "#f7f7f7"
            ],
            [
             0.6,
             "#e6f5d0"
            ],
            [
             0.7,
             "#b8e186"
            ],
            [
             0.8,
             "#7fbc41"
            ],
            [
             0.9,
             "#4d9221"
            ],
            [
             1,
             "#276419"
            ]
           ],
           "sequential": [
            [
             0,
             "#0d0887"
            ],
            [
             0.1111111111111111,
             "#46039f"
            ],
            [
             0.2222222222222222,
             "#7201a8"
            ],
            [
             0.3333333333333333,
             "#9c179e"
            ],
            [
             0.4444444444444444,
             "#bd3786"
            ],
            [
             0.5555555555555556,
             "#d8576b"
            ],
            [
             0.6666666666666666,
             "#ed7953"
            ],
            [
             0.7777777777777778,
             "#fb9f3a"
            ],
            [
             0.8888888888888888,
             "#fdca26"
            ],
            [
             1,
             "#f0f921"
            ]
           ],
           "sequentialminus": [
            [
             0,
             "#0d0887"
            ],
            [
             0.1111111111111111,
             "#46039f"
            ],
            [
             0.2222222222222222,
             "#7201a8"
            ],
            [
             0.3333333333333333,
             "#9c179e"
            ],
            [
             0.4444444444444444,
             "#bd3786"
            ],
            [
             0.5555555555555556,
             "#d8576b"
            ],
            [
             0.6666666666666666,
             "#ed7953"
            ],
            [
             0.7777777777777778,
             "#fb9f3a"
            ],
            [
             0.8888888888888888,
             "#fdca26"
            ],
            [
             1,
             "#f0f921"
            ]
           ]
          },
          "colorway": [
           "#636efa",
           "#EF553B",
           "#00cc96",
           "#ab63fa",
           "#FFA15A",
           "#19d3f3",
           "#FF6692",
           "#B6E880",
           "#FF97FF",
           "#FECB52"
          ],
          "font": {
           "color": "#2a3f5f"
          },
          "geo": {
           "bgcolor": "white",
           "lakecolor": "white",
           "landcolor": "#E5ECF6",
           "showlakes": true,
           "showland": true,
           "subunitcolor": "white"
          },
          "hoverlabel": {
           "align": "left"
          },
          "hovermode": "closest",
          "mapbox": {
           "style": "light"
          },
          "paper_bgcolor": "white",
          "plot_bgcolor": "#E5ECF6",
          "polar": {
           "angularaxis": {
            "gridcolor": "white",
            "linecolor": "white",
            "ticks": ""
           },
           "bgcolor": "#E5ECF6",
           "radialaxis": {
            "gridcolor": "white",
            "linecolor": "white",
            "ticks": ""
           }
          },
          "scene": {
           "xaxis": {
            "backgroundcolor": "#E5ECF6",
            "gridcolor": "white",
            "gridwidth": 2,
            "linecolor": "white",
            "showbackground": true,
            "ticks": "",
            "zerolinecolor": "white"
           },
           "yaxis": {
            "backgroundcolor": "#E5ECF6",
            "gridcolor": "white",
            "gridwidth": 2,
            "linecolor": "white",
            "showbackground": true,
            "ticks": "",
            "zerolinecolor": "white"
           },
           "zaxis": {
            "backgroundcolor": "#E5ECF6",
            "gridcolor": "white",
            "gridwidth": 2,
            "linecolor": "white",
            "showbackground": true,
            "ticks": "",
            "zerolinecolor": "white"
           }
          },
          "shapedefaults": {
           "line": {
            "color": "#2a3f5f"
           }
          },
          "ternary": {
           "aaxis": {
            "gridcolor": "white",
            "linecolor": "white",
            "ticks": ""
           },
           "baxis": {
            "gridcolor": "white",
            "linecolor": "white",
            "ticks": ""
           },
           "bgcolor": "#E5ECF6",
           "caxis": {
            "gridcolor": "white",
            "linecolor": "white",
            "ticks": ""
           }
          },
          "title": {
           "x": 0.05
          },
          "xaxis": {
           "automargin": true,
           "gridcolor": "white",
           "linecolor": "white",
           "ticks": "",
           "title": {
            "standoff": 15
           },
           "zerolinecolor": "white",
           "zerolinewidth": 2
          },
          "yaxis": {
           "automargin": true,
           "gridcolor": "white",
           "linecolor": "white",
           "ticks": "",
           "title": {
            "standoff": 15
           },
           "zerolinecolor": "white",
           "zerolinewidth": 2
          }
         }
        },
        "title": {
         "text": "rev24 Distribution"
        },
        "xaxis": {
         "anchor": "y",
         "domain": [
          0,
          1
         ],
         "title": {
          "text": "rev24"
         }
        },
        "xaxis2": {
         "anchor": "y2",
         "domain": [
          0,
          1
         ],
         "matches": "x",
         "showgrid": true,
         "showticklabels": false
        },
        "yaxis": {
         "anchor": "x",
         "domain": [
          0,
          0.8316
         ],
         "title": {
          "text": "count"
         }
        },
        "yaxis2": {
         "anchor": "x2",
         "domain": [
          0.8416,
          1
         ],
         "matches": "y2",
         "showgrid": false,
         "showline": false,
         "showticklabels": false,
         "ticks": ""
        }
       }
      }
     },
     "metadata": {},
     "output_type": "display_data"
    }
   ],
   "source": [
    "fig = px.histogram(df, x='rev24', marginal='box', nbins=47, title='rev24 Distribution')\n",
    "fig.update_layout(bargap=0.1)\n",
    "fig.show()"
   ]
  },
  {
   "cell_type": "code",
   "execution_count": 22,
   "metadata": {},
   "outputs": [
    {
     "data": {
      "application/vnd.plotly.v1+json": {
       "config": {
        "plotlyServerURL": "https://plot.ly"
       },
       "data": [
        {
         "bingroup": "x",
         "hovertemplate": "n24=%{x}<br>count=%{y}<extra></extra>",
         "legendgroup": "",
         "marker": {
          "color": "#636efa",
          "pattern": {
           "shape": ""
          }
         },
         "name": "",
         "nbinsx": 47,
         "orientation": "v",
         "showlegend": false,
         "type": "histogram",
         "x": {
          "bdata": "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",
          "dtype": "f8"
         },
         "xaxis": "x",
         "yaxis": "y"
        },
        {
         "hovertemplate": "n24=%{x}<extra></extra>",
         "legendgroup": "",
         "marker": {
          "color": "#636efa"
         },
         "name": "",
         "notched": true,
         "showlegend": false,
         "type": "box",
         "x": {
          "bdata": "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",
          "dtype": "f8"
         },
         "xaxis": "x2",
         "yaxis": "y2"
        }
       ],
       "layout": {
        "bargap": 0.1,
        "barmode": "relative",
        "legend": {
         "tracegroupgap": 0
        },
        "template": {
         "data": {
          "bar": [
           {
            "error_x": {
             "color": "#2a3f5f"
            },
            "error_y": {
             "color": "#2a3f5f"
            },
            "marker": {
             "line": {
              "color": "#E5ECF6",
              "width": 0.5
             },
             "pattern": {
              "fillmode": "overlay",
              "size": 10,
              "solidity": 0.2
             }
            },
            "type": "bar"
           }
          ],
          "barpolar": [
           {
            "marker": {
             "line": {
              "color": "#E5ECF6",
              "width": 0.5
             },
             "pattern": {
              "fillmode": "overlay",
              "size": 10,
              "solidity": 0.2
             }
            },
            "type": "barpolar"
           }
          ],
          "carpet": [
           {
            "aaxis": {
             "endlinecolor": "#2a3f5f",
             "gridcolor": "white",
             "linecolor": "white",
             "minorgridcolor": "white",
             "startlinecolor": "#2a3f5f"
            },
            "baxis": {
             "endlinecolor": "#2a3f5f",
             "gridcolor": "white",
             "linecolor": "white",
             "minorgridcolor": "white",
             "startlinecolor": "#2a3f5f"
            },
            "type": "carpet"
           }
          ],
          "choropleth": [
           {
            "colorbar": {
             "outlinewidth": 0,
             "ticks": ""
            },
            "type": "choropleth"
           }
          ],
          "contour": [
           {
            "colorbar": {
             "outlinewidth": 0,
             "ticks": ""
            },
            "colorscale": [
             [
              0,
              "#0d0887"
             ],
             [
              0.1111111111111111,
              "#46039f"
             ],
             [
              0.2222222222222222,
              "#7201a8"
             ],
             [
              0.3333333333333333,
              "#9c179e"
             ],
             [
              0.4444444444444444,
              "#bd3786"
             ],
             [
              0.5555555555555556,
              "#d8576b"
             ],
             [
              0.6666666666666666,
              "#ed7953"
             ],
             [
              0.7777777777777778,
              "#fb9f3a"
             ],
             [
              0.8888888888888888,
              "#fdca26"
             ],
             [
              1,
              "#f0f921"
             ]
            ],
            "type": "contour"
           }
          ],
          "contourcarpet": [
           {
            "colorbar": {
             "outlinewidth": 0,
             "ticks": ""
            },
            "type": "contourcarpet"
           }
          ],
          "heatmap": [
           {
            "colorbar": {
             "outlinewidth": 0,
             "ticks": ""
            },
            "colorscale": [
             [
              0,
              "#0d0887"
             ],
             [
              0.1111111111111111,
              "#46039f"
             ],
             [
              0.2222222222222222,
              "#7201a8"
             ],
             [
              0.3333333333333333,
              "#9c179e"
             ],
             [
              0.4444444444444444,
              "#bd3786"
             ],
             [
              0.5555555555555556,
              "#d8576b"
             ],
             [
              0.6666666666666666,
              "#ed7953"
             ],
             [
              0.7777777777777778,
              "#fb9f3a"
             ],
             [
              0.8888888888888888,
              "#fdca26"
             ],
             [
              1,
              "#f0f921"
             ]
            ],
            "type": "heatmap"
           }
          ],
          "histogram": [
           {
            "marker": {
             "pattern": {
              "fillmode": "overlay",
              "size": 10,
              "solidity": 0.2
             }
            },
            "type": "histogram"
           }
          ],
          "histogram2d": [
           {
            "colorbar": {
             "outlinewidth": 0,
             "ticks": ""
            },
            "colorscale": [
             [
              0,
              "#0d0887"
             ],
             [
              0.1111111111111111,
              "#46039f"
             ],
             [
              0.2222222222222222,
              "#7201a8"
             ],
             [
              0.3333333333333333,
              "#9c179e"
             ],
             [
              0.4444444444444444,
              "#bd3786"
             ],
             [
              0.5555555555555556,
              "#d8576b"
             ],
             [
              0.6666666666666666,
              "#ed7953"
             ],
             [
              0.7777777777777778,
              "#fb9f3a"
             ],
             [
              0.8888888888888888,
              "#fdca26"
             ],
             [
              1,
              "#f0f921"
             ]
            ],
            "type": "histogram2d"
           }
          ],
          "histogram2dcontour": [
           {
            "colorbar": {
             "outlinewidth": 0,
             "ticks": ""
            },
            "colorscale": [
             [
              0,
              "#0d0887"
             ],
             [
              0.1111111111111111,
              "#46039f"
             ],
             [
              0.2222222222222222,
              "#7201a8"
             ],
             [
              0.3333333333333333,
              "#9c179e"
             ],
             [
              0.4444444444444444,
              "#bd3786"
             ],
             [
              0.5555555555555556,
              "#d8576b"
             ],
             [
              0.6666666666666666,
              "#ed7953"
             ],
             [
              0.7777777777777778,
              "#fb9f3a"
             ],
             [
              0.8888888888888888,
              "#fdca26"
             ],
             [
              1,
              "#f0f921"
             ]
            ],
            "type": "histogram2dcontour"
           }
          ],
          "mesh3d": [
           {
            "colorbar": {
             "outlinewidth": 0,
             "ticks": ""
            },
            "type": "mesh3d"
           }
          ],
          "parcoords": [
           {
            "line": {
             "colorbar": {
              "outlinewidth": 0,
              "ticks": ""
             }
            },
            "type": "parcoords"
           }
          ],
          "pie": [
           {
            "automargin": true,
            "type": "pie"
           }
          ],
          "scatter": [
           {
            "fillpattern": {
             "fillmode": "overlay",
             "size": 10,
             "solidity": 0.2
            },
            "type": "scatter"
           }
          ],
          "scatter3d": [
           {
            "line": {
             "colorbar": {
              "outlinewidth": 0,
              "ticks": ""
             }
            },
            "marker": {
             "colorbar": {
              "outlinewidth": 0,
              "ticks": ""
             }
            },
            "type": "scatter3d"
           }
          ],
          "scattercarpet": [
           {
            "marker": {
             "colorbar": {
              "outlinewidth": 0,
              "ticks": ""
             }
            },
            "type": "scattercarpet"
           }
          ],
          "scattergeo": [
           {
            "marker": {
             "colorbar": {
              "outlinewidth": 0,
              "ticks": ""
             }
            },
            "type": "scattergeo"
           }
          ],
          "scattergl": [
           {
            "marker": {
             "colorbar": {
              "outlinewidth": 0,
              "ticks": ""
             }
            },
            "type": "scattergl"
           }
          ],
          "scattermap": [
           {
            "marker": {
             "colorbar": {
              "outlinewidth": 0,
              "ticks": ""
             }
            },
            "type": "scattermap"
           }
          ],
          "scattermapbox": [
           {
            "marker": {
             "colorbar": {
              "outlinewidth": 0,
              "ticks": ""
             }
            },
            "type": "scattermapbox"
           }
          ],
          "scatterpolar": [
           {
            "marker": {
             "colorbar": {
              "outlinewidth": 0,
              "ticks": ""
             }
            },
            "type": "scatterpolar"
           }
          ],
          "scatterpolargl": [
           {
            "marker": {
             "colorbar": {
              "outlinewidth": 0,
              "ticks": ""
             }
            },
            "type": "scatterpolargl"
           }
          ],
          "scatterternary": [
           {
            "marker": {
             "colorbar": {
              "outlinewidth": 0,
              "ticks": ""
             }
            },
            "type": "scatterternary"
           }
          ],
          "surface": [
           {
            "colorbar": {
             "outlinewidth": 0,
             "ticks": ""
            },
            "colorscale": [
             [
              0,
              "#0d0887"
             ],
             [
              0.1111111111111111,
              "#46039f"
             ],
             [
              0.2222222222222222,
              "#7201a8"
             ],
             [
              0.3333333333333333,
              "#9c179e"
             ],
             [
              0.4444444444444444,
              "#bd3786"
             ],
             [
              0.5555555555555556,
              "#d8576b"
             ],
             [
              0.6666666666666666,
              "#ed7953"
             ],
             [
              0.7777777777777778,
              "#fb9f3a"
             ],
             [
              0.8888888888888888,
              "#fdca26"
             ],
             [
              1,
              "#f0f921"
             ]
            ],
            "type": "surface"
           }
          ],
          "table": [
           {
            "cells": {
             "fill": {
              "color": "#EBF0F8"
             },
             "line": {
              "color": "white"
             }
            },
            "header": {
             "fill": {
              "color": "#C8D4E3"
             },
             "line": {
              "color": "white"
             }
            },
            "type": "table"
           }
          ]
         },
         "layout": {
          "annotationdefaults": {
           "arrowcolor": "#2a3f5f",
           "arrowhead": 0,
           "arrowwidth": 1
          },
          "autotypenumbers": "strict",
          "coloraxis": {
           "colorbar": {
            "outlinewidth": 0,
            "ticks": ""
           }
          },
          "colorscale": {
           "diverging": [
            [
             0,
             "#8e0152"
            ],
            [
             0.1,
             "#c51b7d"
            ],
            [
             0.2,
             "#de77ae"
            ],
            [
             0.3,
             "#f1b6da"
            ],
            [
             0.4,
             "#fde0ef"
            ],
            [
             0.5,
             "#f7f7f7"
            ],
            [
             0.6,
             "#e6f5d0"
            ],
            [
             0.7,
             "#b8e186"
            ],
            [
             0.8,
             "#7fbc41"
            ],
            [
             0.9,
             "#4d9221"
            ],
            [
             1,
             "#276419"
            ]
           ],
           "sequential": [
            [
             0,
             "#0d0887"
            ],
            [
             0.1111111111111111,
             "#46039f"
            ],
            [
             0.2222222222222222,
             "#7201a8"
            ],
            [
             0.3333333333333333,
             "#9c179e"
            ],
            [
             0.4444444444444444,
             "#bd3786"
            ],
            [
             0.5555555555555556,
             "#d8576b"
            ],
            [
             0.6666666666666666,
             "#ed7953"
            ],
            [
             0.7777777777777778,
             "#fb9f3a"
            ],
            [
             0.8888888888888888,
             "#fdca26"
            ],
            [
             1,
             "#f0f921"
            ]
           ],
           "sequentialminus": [
            [
             0,
             "#0d0887"
            ],
            [
             0.1111111111111111,
             "#46039f"
            ],
            [
             0.2222222222222222,
             "#7201a8"
            ],
            [
             0.3333333333333333,
             "#9c179e"
            ],
            [
             0.4444444444444444,
             "#bd3786"
            ],
            [
             0.5555555555555556,
             "#d8576b"
            ],
            [
             0.6666666666666666,
             "#ed7953"
            ],
            [
             0.7777777777777778,
             "#fb9f3a"
            ],
            [
             0.8888888888888888,
             "#fdca26"
            ],
            [
             1,
             "#f0f921"
            ]
           ]
          },
          "colorway": [
           "#636efa",
           "#EF553B",
           "#00cc96",
           "#ab63fa",
           "#FFA15A",
           "#19d3f3",
           "#FF6692",
           "#B6E880",
           "#FF97FF",
           "#FECB52"
          ],
          "font": {
           "color": "#2a3f5f"
          },
          "geo": {
           "bgcolor": "white",
           "lakecolor": "white",
           "landcolor": "#E5ECF6",
           "showlakes": true,
           "showland": true,
           "subunitcolor": "white"
          },
          "hoverlabel": {
           "align": "left"
          },
          "hovermode": "closest",
          "mapbox": {
           "style": "light"
          },
          "paper_bgcolor": "white",
          "plot_bgcolor": "#E5ECF6",
          "polar": {
           "angularaxis": {
            "gridcolor": "white",
            "linecolor": "white",
            "ticks": ""
           },
           "bgcolor": "#E5ECF6",
           "radialaxis": {
            "gridcolor": "white",
            "linecolor": "white",
            "ticks": ""
           }
          },
          "scene": {
           "xaxis": {
            "backgroundcolor": "#E5ECF6",
            "gridcolor": "white",
            "gridwidth": 2,
            "linecolor": "white",
            "showbackground": true,
            "ticks": "",
            "zerolinecolor": "white"
           },
           "yaxis": {
            "backgroundcolor": "#E5ECF6",
            "gridcolor": "white",
            "gridwidth": 2,
            "linecolor": "white",
            "showbackground": true,
            "ticks": "",
            "zerolinecolor": "white"
           },
           "zaxis": {
            "backgroundcolor": "#E5ECF6",
            "gridcolor": "white",
            "gridwidth": 2,
            "linecolor": "white",
            "showbackground": true,
            "ticks": "",
            "zerolinecolor": "white"
           }
          },
          "shapedefaults": {
           "line": {
            "color": "#2a3f5f"
           }
          },
          "ternary": {
           "aaxis": {
            "gridcolor": "white",
            "linecolor": "white",
            "ticks": ""
           },
           "baxis": {
            "gridcolor": "white",
            "linecolor": "white",
            "ticks": ""
           },
           "bgcolor": "#E5ECF6",
           "caxis": {
            "gridcolor": "white",
            "linecolor": "white",
            "ticks": ""
           }
          },
          "title": {
           "x": 0.05
          },
          "xaxis": {
           "automargin": true,
           "gridcolor": "white",
           "linecolor": "white",
           "ticks": "",
           "title": {
            "standoff": 15
           },
           "zerolinecolor": "white",
           "zerolinewidth": 2
          },
          "yaxis": {
           "automargin": true,
           "gridcolor": "white",
           "linecolor": "white",
           "ticks": "",
           "title": {
            "standoff": 15
           },
           "zerolinecolor": "white",
           "zerolinewidth": 2
          }
         }
        },
        "title": {
         "text": "n24 Distribution"
        },
        "xaxis": {
         "anchor": "y",
         "domain": [
          0,
          1
         ],
         "title": {
          "text": "n24"
         }
        },
        "xaxis2": {
         "anchor": "y2",
         "domain": [
          0,
          1
         ],
         "matches": "x",
         "showgrid": true,
         "showticklabels": false
        },
        "yaxis": {
         "anchor": "x",
         "domain": [
          0,
          0.8316
         ],
         "title": {
          "text": "count"
         }
        },
        "yaxis2": {
         "anchor": "x2",
         "domain": [
          0.8416,
          1
         ],
         "matches": "y2",
         "showgrid": false,
         "showline": false,
         "showticklabels": false,
         "ticks": ""
        }
       }
      }
     },
     "metadata": {},
     "output_type": "display_data"
    }
   ],
   "source": [
    "fig = px.histogram(df, x='n24', marginal='box', nbins=47, title='n24 Distribution')\n",
    "fig.update_layout(bargap=0.1)\n",
    "fig.show()"
   ]
  },
  {
   "cell_type": "code",
   "execution_count": 33,
   "metadata": {},
   "outputs": [],
   "source": [
    "df.to_csv('../datasets/dmtrain_transformed.csv')"
   ]
  }
 ],
 "metadata": {
  "kernelspec": {
   "display_name": "Python 3",
   "language": "python",
   "name": "python3"
  },
  "language_info": {
   "codemirror_mode": {
    "name": "ipython",
    "version": 3
   },
   "file_extension": ".py",
   "mimetype": "text/x-python",
   "name": "python",
   "nbconvert_exporter": "python",
   "pygments_lexer": "ipython3",
   "version": "3.13.7"
  },
  "orig_nbformat": 4
 },
 "nbformat": 4,
 "nbformat_minor": 2
}
