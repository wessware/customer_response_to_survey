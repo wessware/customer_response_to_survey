{
 "cells": [
  {
   "cell_type": "markdown",
   "metadata": {},
   "source": [
    "### Model Best Depth\n",
    "3\n",
    "### Model Accuracy \n",
    "70.1%\n",
    "\n",
    "### Justification\n",
    "The model's accuracy reduces with an increase in the number of trees. An high  number of trees can result in model overfitting. Tree numbers below 4 result in lower scores due to the models inability to make good generalizations [underfitting].\n",
    "\n",
    "### Best scores\n",
    "#### depth => 4 = accuracy 70.2% =====> Best Score\n",
    "#### depth => 3 = accuracy 69.8% =====> Second Best Score\n",
    "#### depth => 5 = accuracy 69.6% =======> Third Best Score"
   ]
  },
  {
   "cell_type": "code",
   "execution_count": 1,
   "metadata": {},
   "outputs": [],
   "source": [
    "import pandas as pd \n",
    "import numpy as np \n",
    "\n",
    "from sklearn.model_selection import cross_val_score\n",
    "\n",
    "from sklearn.model_selection import RepeatedStratifiedKFold\n",
    "\n",
    "from sklearn.tree import DecisionTreeClassifier"
   ]
  },
  {
   "cell_type": "code",
   "execution_count": 2,
   "metadata": {},
   "outputs": [],
   "source": [
    "df = pd.read_csv('../datasets/dm_train_t.csv')\n"
   ]
  },
  {
   "cell_type": "code",
   "execution_count": 3,
   "metadata": {},
   "outputs": [
    {
     "data": {
      "text/html": [
       "<div>\n",
       "<style scoped>\n",
       "    .dataframe tbody tr th:only-of-type {\n",
       "        vertical-align: middle;\n",
       "    }\n",
       "\n",
       "    .dataframe tbody tr th {\n",
       "        vertical-align: top;\n",
       "    }\n",
       "\n",
       "    .dataframe thead th {\n",
       "        text-align: right;\n",
       "    }\n",
       "</style>\n",
       "<table border=\"1\" class=\"dataframe\">\n",
       "  <thead>\n",
       "    <tr style=\"text-align: right;\">\n",
       "      <th></th>\n",
       "      <th>id</th>\n",
       "      <th>n24_t</th>\n",
       "      <th>rev24_t</th>\n",
       "      <th>elpsdm_t_t_1</th>\n",
       "      <th>revlast_t_t_1</th>\n",
       "      <th>ordfreq</th>\n",
       "      <th>ordcat</th>\n",
       "      <th>response</th>\n",
       "    </tr>\n",
       "  </thead>\n",
       "  <tbody>\n",
       "    <tr>\n",
       "      <th>0</th>\n",
       "      <td>1</td>\n",
       "      <td>0.693147</td>\n",
       "      <td>3.401197</td>\n",
       "      <td>0.0</td>\n",
       "      <td>4.472136</td>\n",
       "      <td>1</td>\n",
       "      <td>6</td>\n",
       "      <td>1</td>\n",
       "    </tr>\n",
       "    <tr>\n",
       "      <th>1</th>\n",
       "      <td>2</td>\n",
       "      <td>3.218876</td>\n",
       "      <td>5.332719</td>\n",
       "      <td>0.0</td>\n",
       "      <td>4.472136</td>\n",
       "      <td>1</td>\n",
       "      <td>6</td>\n",
       "      <td>0</td>\n",
       "    </tr>\n",
       "    <tr>\n",
       "      <th>2</th>\n",
       "      <td>3</td>\n",
       "      <td>1.609438</td>\n",
       "      <td>3.951244</td>\n",
       "      <td>0.0</td>\n",
       "      <td>3.872983</td>\n",
       "      <td>1</td>\n",
       "      <td>6</td>\n",
       "      <td>0</td>\n",
       "    </tr>\n",
       "    <tr>\n",
       "      <th>3</th>\n",
       "      <td>4</td>\n",
       "      <td>2.397895</td>\n",
       "      <td>4.653960</td>\n",
       "      <td>0.0</td>\n",
       "      <td>3.872983</td>\n",
       "      <td>1</td>\n",
       "      <td>6</td>\n",
       "      <td>0</td>\n",
       "    </tr>\n",
       "    <tr>\n",
       "      <th>4</th>\n",
       "      <td>5</td>\n",
       "      <td>0.693147</td>\n",
       "      <td>3.465736</td>\n",
       "      <td>0.0</td>\n",
       "      <td>4.123106</td>\n",
       "      <td>1</td>\n",
       "      <td>6</td>\n",
       "      <td>0</td>\n",
       "    </tr>\n",
       "  </tbody>\n",
       "</table>\n",
       "</div>"
      ],
      "text/plain": [
       "   id     n24_t   rev24_t  elpsdm_t_t_1  revlast_t_t_1  ordfreq  ordcat  \\\n",
       "0   1  0.693147  3.401197           0.0       4.472136        1       6   \n",
       "1   2  3.218876  5.332719           0.0       4.472136        1       6   \n",
       "2   3  1.609438  3.951244           0.0       3.872983        1       6   \n",
       "3   4  2.397895  4.653960           0.0       3.872983        1       6   \n",
       "4   5  0.693147  3.465736           0.0       4.123106        1       6   \n",
       "\n",
       "   response  \n",
       "0         1  \n",
       "1         0  \n",
       "2         0  \n",
       "3         0  \n",
       "4         0  "
      ]
     },
     "execution_count": 3,
     "metadata": {},
     "output_type": "execute_result"
    }
   ],
   "source": [
    "df.head()"
   ]
  },
  {
   "cell_type": "code",
   "execution_count": 4,
   "metadata": {},
   "outputs": [
    {
     "data": {
      "text/plain": [
       "id               False\n",
       "n24_t            False\n",
       "rev24_t          False\n",
       "elpsdm_t_t_1     False\n",
       "revlast_t_t_1    False\n",
       "ordfreq          False\n",
       "ordcat           False\n",
       "response         False\n",
       "dtype: bool"
      ]
     },
     "execution_count": 4,
     "metadata": {},
     "output_type": "execute_result"
    }
   ],
   "source": [
    "df.isnull().any()"
   ]
  },
  {
   "cell_type": "code",
   "execution_count": 5,
   "metadata": {},
   "outputs": [
    {
     "data": {
      "text/plain": [
       "Index(['id', 'n24_t', 'rev24_t', 'elpsdm_t_t_1', 'revlast_t_t_1', 'ordfreq',\n",
       "       'ordcat', 'response'],\n",
       "      dtype='object')"
      ]
     },
     "execution_count": 5,
     "metadata": {},
     "output_type": "execute_result"
    }
   ],
   "source": [
    "df.columns "
   ]
  },
  {
   "cell_type": "code",
   "execution_count": 6,
   "metadata": {},
   "outputs": [],
   "source": [
    "cols = ['n24_t', 'rev24_t', 'elpsdm_t_t_1', 'revlast_t_t_1', 'ordfreq','ordcat']\n",
    "\n",
    "x = df[cols]\n",
    "y = df['response']"
   ]
  },
  {
   "cell_type": "code",
   "execution_count": 19,
   "metadata": {},
   "outputs": [],
   "source": [
    "model = DecisionTreeClassifier(criterion='entropy', max_depth=5)"
   ]
  },
  {
   "cell_type": "code",
   "execution_count": 20,
   "metadata": {},
   "outputs": [],
   "source": [
    "cv = RepeatedStratifiedKFold(n_splits=10, n_repeats=3, random_state=1)\n"
   ]
  },
  {
   "cell_type": "code",
   "execution_count": 21,
   "metadata": {},
   "outputs": [],
   "source": [
    "#evaluate the model\n",
    "m_scores = cross_val_score(model, x, y, scoring='accuracy', cv=cv, n_jobs=-1)\n"
   ]
  },
  {
   "cell_type": "code",
   "execution_count": 22,
   "metadata": {},
   "outputs": [
    {
     "name": "stdout",
     "output_type": "stream",
     "text": [
      "Accuracy: 0.699 (0.018)\n"
     ]
    }
   ],
   "source": [
    "#summarize the results\n",
    "print(\"Accuracy: %.3f (%.3f)\" % (np.mean(m_scores), np.std(m_scores)))"
   ]
  },
  {
   "cell_type": "markdown",
   "metadata": {},
   "source": [
    "\n",
    "depth => 3 = accuracy 70.1% =====> Best Score\n",
    "depth => 5 = accuracy 69.9% =======> Second Best Score\n",
    "depth => 4 = accuracy 69.8% =====> Third Best Score\n",
    "depth => 6 = accuracy 69.1%\n",
    "depth => 10 = accuracy 65.5%\n",
    "depth => 15 = accuracy 61.6%\n",
    "depth => 20 = accuracy 62.4%\n",
    "depth => 23 = accuracy 60.2%\n",
    "\n",
    "\n",
    "\n"
   ]
  }
 ],
 "metadata": {
  "kernelspec": {
   "display_name": "Python 3.9.13 64-bit (microsoft store)",
   "language": "python",
   "name": "python3"
  },
  "language_info": {
   "codemirror_mode": {
    "name": "ipython",
    "version": 3
   },
   "file_extension": ".py",
   "mimetype": "text/x-python",
   "name": "python",
   "nbconvert_exporter": "python",
   "pygments_lexer": "ipython3",
   "version": "3.9.13"
  },
  "orig_nbformat": 4,
  "vscode": {
   "interpreter": {
    "hash": "96967f184f4e53caf9e1ae8100a21698ccb9158f6ce9120369cb8e162bc9c0fe"
   }
  }
 },
 "nbformat": 4,
 "nbformat_minor": 2
}
